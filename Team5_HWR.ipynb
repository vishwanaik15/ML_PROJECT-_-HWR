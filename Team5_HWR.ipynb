{
  "nbformat": 4,
  "nbformat_minor": 5,
  "metadata": {
    "accelerator": "GPU",
    "colab": {
      "name": "Team5_HWR.ipynb",
      "provenance": [],
      "collapsed_sections": [
        "9985c10e"
      ],
      "include_colab_link": true
    },
    "kernelspec": {
      "display_name": "Python 3 (ipykernel)",
      "language": "python",
      "name": "python3"
    },
    "language_info": {
      "codemirror_mode": {
        "name": "ipython",
        "version": 3
      },
      "file_extension": ".py",
      "mimetype": "text/x-python",
      "name": "python",
      "nbconvert_exporter": "python",
      "pygments_lexer": "ipython3",
      "version": "3.8.12"
    }
  },
  "cells": [
    {
      "cell_type": "markdown",
      "metadata": {
        "id": "view-in-github",
        "colab_type": "text"
      },
      "source": [
        "<a href=\"https://colab.research.google.com/github/vishwanaik15/ML_PROJECT-_-HWR/blob/main/Team5_HWR.ipynb\" target=\"_parent\"><img src=\"https://colab.research.google.com/assets/colab-badge.svg\" alt=\"Open In Colab\"/></a>"
      ]
    },
    {
      "cell_type": "markdown",
      "metadata": {
        "id": "ff3415a2"
      },
      "source": [
        "\n",
        "# Term Project\n",
        "\n",
        "Deep Learning:\n",
        "Object Detection on images:  Handwriting Recognization\n",
        "\n",
        "Dataset : Handwrirng Recognization(Dataset From Kaggle)\n",
        "\n",
        "Name: Vishwa Naik (1001871311)\n",
        "Name: Tirth Patel (1001869576)"
      ],
      "id": "ff3415a2"
    },
    {
      "cell_type": "code",
      "metadata": {
        "id": "cRLbTP3uur1y",
        "colab": {
          "base_uri": "https://localhost:8080/"
        },
        "outputId": "dc3bda10-3ca5-4561-c9fe-2743f5acfd8a"
      },
      "source": [
        "from google.colab import drive\n",
        "drive.mount('/content/drive/')"
      ],
      "id": "cRLbTP3uur1y",
      "execution_count": 8,
      "outputs": [
        {
          "output_type": "stream",
          "name": "stdout",
          "text": [
            "Drive already mounted at /content/drive/; to attempt to forcibly remount, call drive.mount(\"/content/drive/\", force_remount=True).\n"
          ]
        }
      ]
    },
    {
      "cell_type": "code",
      "metadata": {
        "id": "4efcf6e7"
      },
      "source": [
        "import os\n",
        "import cv2\n",
        "import random\n",
        "import numpy as np\n",
        "import pandas as pd\n",
        "import matplotlib.pyplot as plt\n",
        "import keras\n",
        "\n",
        "import tensorflow as tf\n",
        "from keras import backend as K\n",
        "from keras.models import Model\n",
        "from keras.layers import Input, Conv2D, MaxPooling2D, Reshape, Bidirectional, LSTM, Dense, Lambda, Activation, BatchNormalization, Dropout\n",
        "from tensorflow.keras.optimizers import Adam\n",
        "from keras.preprocessing.sequence import pad_sequences\n",
        "from keras.activations import relu, sigmoid, softmax\n",
        "import keras.backend as K\n",
        "from keras.callbacks import ModelCheckpoint\n",
        "from sklearn.model_selection import train_test_split\n",
        "from sklearn.preprocessing import MinMaxScaler\n"
      ],
      "id": "4efcf6e7",
      "execution_count": 11,
      "outputs": []
    },
    {
      "cell_type": "markdown",
      "metadata": {
        "id": "59967a1d"
      },
      "source": [
        "#  Load Dataset from Kaggle"
      ],
      "id": "59967a1d"
    },
    {
      "cell_type": "code",
      "metadata": {
        "colab": {
          "base_uri": "https://localhost:8080/"
        },
        "id": "27058204",
        "outputId": "935888fc-4d33-4b60-b6db-2a0b551275e6"
      },
      "source": [
        "!pip install opendatasets"
      ],
      "id": "27058204",
      "execution_count": 3,
      "outputs": [
        {
          "output_type": "stream",
          "name": "stdout",
          "text": [
            "Collecting opendatasets\n",
            "  Downloading opendatasets-0.1.20-py3-none-any.whl (14 kB)\n",
            "Requirement already satisfied: kaggle in /usr/local/lib/python3.7/dist-packages (from opendatasets) (1.5.12)\n",
            "Requirement already satisfied: click in /usr/local/lib/python3.7/dist-packages (from opendatasets) (7.1.2)\n",
            "Requirement already satisfied: tqdm in /usr/local/lib/python3.7/dist-packages (from opendatasets) (4.62.3)\n",
            "Requirement already satisfied: requests in /usr/local/lib/python3.7/dist-packages (from kaggle->opendatasets) (2.23.0)\n",
            "Requirement already satisfied: python-slugify in /usr/local/lib/python3.7/dist-packages (from kaggle->opendatasets) (5.0.2)\n",
            "Requirement already satisfied: six>=1.10 in /usr/local/lib/python3.7/dist-packages (from kaggle->opendatasets) (1.15.0)\n",
            "Requirement already satisfied: certifi in /usr/local/lib/python3.7/dist-packages (from kaggle->opendatasets) (2021.10.8)\n",
            "Requirement already satisfied: urllib3 in /usr/local/lib/python3.7/dist-packages (from kaggle->opendatasets) (1.24.3)\n",
            "Requirement already satisfied: python-dateutil in /usr/local/lib/python3.7/dist-packages (from kaggle->opendatasets) (2.8.2)\n",
            "Requirement already satisfied: text-unidecode>=1.3 in /usr/local/lib/python3.7/dist-packages (from python-slugify->kaggle->opendatasets) (1.3)\n",
            "Requirement already satisfied: idna<3,>=2.5 in /usr/local/lib/python3.7/dist-packages (from requests->kaggle->opendatasets) (2.10)\n",
            "Requirement already satisfied: chardet<4,>=3.0.2 in /usr/local/lib/python3.7/dist-packages (from requests->kaggle->opendatasets) (3.0.4)\n",
            "Installing collected packages: opendatasets\n",
            "Successfully installed opendatasets-0.1.20\n"
          ]
        }
      ]
    },
    {
      "cell_type": "code",
      "metadata": {
        "id": "93bcdd8c"
      },
      "source": [
        "import opendatasets as od\n"
      ],
      "id": "93bcdd8c",
      "execution_count": 4,
      "outputs": []
    },
    {
      "cell_type": "code",
      "metadata": {
        "colab": {
          "base_uri": "https://localhost:8080/"
        },
        "id": "4042daa2",
        "outputId": "9edbdcc0-e3da-4bb3-c236-c622a3f9df88"
      },
      "source": [
        "od.download(\"https://www.kaggle.com/landlord/handwriting-recognition\")"
      ],
      "id": "4042daa2",
      "execution_count": 5,
      "outputs": [
        {
          "output_type": "stream",
          "name": "stdout",
          "text": [
            "Please provide your Kaggle credentials to download this dataset. Learn more: http://bit.ly/kaggle-creds\n",
            "Your Kaggle username: vish15898\n",
            "Your Kaggle Key: ··········\n",
            "Downloading handwriting-recognition.zip to ./handwriting-recognition\n"
          ]
        },
        {
          "output_type": "stream",
          "name": "stderr",
          "text": [
            "100%|██████████| 1.26G/1.26G [00:11<00:00, 114MB/s]\n"
          ]
        },
        {
          "output_type": "stream",
          "name": "stdout",
          "text": [
            "\n"
          ]
        }
      ]
    },
    {
      "cell_type": "markdown",
      "metadata": {
        "id": "0db4825c"
      },
      "source": [
        "# Data Load and View"
      ],
      "id": "0db4825c"
    },
    {
      "cell_type": "markdown",
      "metadata": {
        "id": "3y7qa172ryuB"
      },
      "source": [
        ""
      ],
      "id": "3y7qa172ryuB"
    },
    {
      "cell_type": "code",
      "metadata": {
        "id": "08def251"
      },
      "source": [
        "train = pd.read_csv('handwriting-recognition/written_name_train_v2.csv')\n",
        "valid = pd.read_csv('handwriting-recognition/written_name_validation_v2.csv')\n",
        "test = pd.read_csv('handwriting-recognition/written_name_test_v2.csv')"
      ],
      "id": "08def251",
      "execution_count": 6,
      "outputs": []
    },
    {
      "cell_type": "code",
      "metadata": {
        "colab": {
          "base_uri": "https://localhost:8080/",
          "height": 224
        },
        "id": "92533917",
        "outputId": "20afea12-0555-4f54-e578-e1612f3844ad"
      },
      "source": [
        "print(\"Length of train data: \",len(train))\n",
        "train.head()"
      ],
      "id": "92533917",
      "execution_count": 7,
      "outputs": [
        {
          "output_type": "stream",
          "name": "stdout",
          "text": [
            "Length of train data:  330961\n"
          ]
        },
        {
          "output_type": "execute_result",
          "data": {
            "text/html": [
              "<div>\n",
              "<style scoped>\n",
              "    .dataframe tbody tr th:only-of-type {\n",
              "        vertical-align: middle;\n",
              "    }\n",
              "\n",
              "    .dataframe tbody tr th {\n",
              "        vertical-align: top;\n",
              "    }\n",
              "\n",
              "    .dataframe thead th {\n",
              "        text-align: right;\n",
              "    }\n",
              "</style>\n",
              "<table border=\"1\" class=\"dataframe\">\n",
              "  <thead>\n",
              "    <tr style=\"text-align: right;\">\n",
              "      <th></th>\n",
              "      <th>FILENAME</th>\n",
              "      <th>IDENTITY</th>\n",
              "    </tr>\n",
              "  </thead>\n",
              "  <tbody>\n",
              "    <tr>\n",
              "      <th>0</th>\n",
              "      <td>TRAIN_00001.jpg</td>\n",
              "      <td>BALTHAZAR</td>\n",
              "    </tr>\n",
              "    <tr>\n",
              "      <th>1</th>\n",
              "      <td>TRAIN_00002.jpg</td>\n",
              "      <td>SIMON</td>\n",
              "    </tr>\n",
              "    <tr>\n",
              "      <th>2</th>\n",
              "      <td>TRAIN_00003.jpg</td>\n",
              "      <td>BENES</td>\n",
              "    </tr>\n",
              "    <tr>\n",
              "      <th>3</th>\n",
              "      <td>TRAIN_00004.jpg</td>\n",
              "      <td>LA LOVE</td>\n",
              "    </tr>\n",
              "    <tr>\n",
              "      <th>4</th>\n",
              "      <td>TRAIN_00005.jpg</td>\n",
              "      <td>DAPHNE</td>\n",
              "    </tr>\n",
              "  </tbody>\n",
              "</table>\n",
              "</div>"
            ],
            "text/plain": [
              "          FILENAME   IDENTITY\n",
              "0  TRAIN_00001.jpg  BALTHAZAR\n",
              "1  TRAIN_00002.jpg      SIMON\n",
              "2  TRAIN_00003.jpg      BENES\n",
              "3  TRAIN_00004.jpg    LA LOVE\n",
              "4  TRAIN_00005.jpg     DAPHNE"
            ]
          },
          "metadata": {},
          "execution_count": 7
        }
      ]
    },
    {
      "cell_type": "code",
      "metadata": {
        "colab": {
          "base_uri": "https://localhost:8080/",
          "height": 224
        },
        "id": "abf1bb8f",
        "outputId": "97d6e9d0-5177-4cef-c4b1-efd00caf9328"
      },
      "source": [
        "print(\"Length of test data: \",len(test))\n",
        "test.head()"
      ],
      "id": "abf1bb8f",
      "execution_count": 9,
      "outputs": [
        {
          "output_type": "stream",
          "name": "stdout",
          "text": [
            "Length of test data:  41370\n"
          ]
        },
        {
          "output_type": "execute_result",
          "data": {
            "text/html": [
              "<div>\n",
              "<style scoped>\n",
              "    .dataframe tbody tr th:only-of-type {\n",
              "        vertical-align: middle;\n",
              "    }\n",
              "\n",
              "    .dataframe tbody tr th {\n",
              "        vertical-align: top;\n",
              "    }\n",
              "\n",
              "    .dataframe thead th {\n",
              "        text-align: right;\n",
              "    }\n",
              "</style>\n",
              "<table border=\"1\" class=\"dataframe\">\n",
              "  <thead>\n",
              "    <tr style=\"text-align: right;\">\n",
              "      <th></th>\n",
              "      <th>FILENAME</th>\n",
              "      <th>IDENTITY</th>\n",
              "    </tr>\n",
              "  </thead>\n",
              "  <tbody>\n",
              "    <tr>\n",
              "      <th>0</th>\n",
              "      <td>TEST_0001.jpg</td>\n",
              "      <td>KEVIN</td>\n",
              "    </tr>\n",
              "    <tr>\n",
              "      <th>1</th>\n",
              "      <td>TEST_0002.jpg</td>\n",
              "      <td>CLOTAIRE</td>\n",
              "    </tr>\n",
              "    <tr>\n",
              "      <th>2</th>\n",
              "      <td>TEST_0003.jpg</td>\n",
              "      <td>LENA</td>\n",
              "    </tr>\n",
              "    <tr>\n",
              "      <th>3</th>\n",
              "      <td>TEST_0004.jpg</td>\n",
              "      <td>JULES</td>\n",
              "    </tr>\n",
              "    <tr>\n",
              "      <th>4</th>\n",
              "      <td>TEST_0005.jpg</td>\n",
              "      <td>CHERPIN</td>\n",
              "    </tr>\n",
              "  </tbody>\n",
              "</table>\n",
              "</div>"
            ],
            "text/plain": [
              "        FILENAME  IDENTITY\n",
              "0  TEST_0001.jpg     KEVIN\n",
              "1  TEST_0002.jpg  CLOTAIRE\n",
              "2  TEST_0003.jpg      LENA\n",
              "3  TEST_0004.jpg     JULES\n",
              "4  TEST_0005.jpg   CHERPIN"
            ]
          },
          "metadata": {},
          "execution_count": 9
        }
      ]
    },
    {
      "cell_type": "code",
      "metadata": {
        "colab": {
          "base_uri": "https://localhost:8080/",
          "height": 224
        },
        "id": "94be0162",
        "outputId": "576b9ca3-7d58-40d4-ad6f-df85e56977ce"
      },
      "source": [
        "print(\"Length of valid data: \",len(valid))\n",
        "valid.head()"
      ],
      "id": "94be0162",
      "execution_count": 10,
      "outputs": [
        {
          "output_type": "stream",
          "name": "stdout",
          "text": [
            "Length of valid data:  41370\n"
          ]
        },
        {
          "output_type": "execute_result",
          "data": {
            "text/html": [
              "<div>\n",
              "<style scoped>\n",
              "    .dataframe tbody tr th:only-of-type {\n",
              "        vertical-align: middle;\n",
              "    }\n",
              "\n",
              "    .dataframe tbody tr th {\n",
              "        vertical-align: top;\n",
              "    }\n",
              "\n",
              "    .dataframe thead th {\n",
              "        text-align: right;\n",
              "    }\n",
              "</style>\n",
              "<table border=\"1\" class=\"dataframe\">\n",
              "  <thead>\n",
              "    <tr style=\"text-align: right;\">\n",
              "      <th></th>\n",
              "      <th>FILENAME</th>\n",
              "      <th>IDENTITY</th>\n",
              "    </tr>\n",
              "  </thead>\n",
              "  <tbody>\n",
              "    <tr>\n",
              "      <th>0</th>\n",
              "      <td>VALIDATION_0001.jpg</td>\n",
              "      <td>BILEL</td>\n",
              "    </tr>\n",
              "    <tr>\n",
              "      <th>1</th>\n",
              "      <td>VALIDATION_0002.jpg</td>\n",
              "      <td>LAUMIONIER</td>\n",
              "    </tr>\n",
              "    <tr>\n",
              "      <th>2</th>\n",
              "      <td>VALIDATION_0003.jpg</td>\n",
              "      <td>LEA</td>\n",
              "    </tr>\n",
              "    <tr>\n",
              "      <th>3</th>\n",
              "      <td>VALIDATION_0004.jpg</td>\n",
              "      <td>JEAN-ROCH</td>\n",
              "    </tr>\n",
              "    <tr>\n",
              "      <th>4</th>\n",
              "      <td>VALIDATION_0005.jpg</td>\n",
              "      <td>RUPP</td>\n",
              "    </tr>\n",
              "  </tbody>\n",
              "</table>\n",
              "</div>"
            ],
            "text/plain": [
              "              FILENAME    IDENTITY\n",
              "0  VALIDATION_0001.jpg       BILEL\n",
              "1  VALIDATION_0002.jpg  LAUMIONIER\n",
              "2  VALIDATION_0003.jpg         LEA\n",
              "3  VALIDATION_0004.jpg   JEAN-ROCH\n",
              "4  VALIDATION_0005.jpg        RUPP"
            ]
          },
          "metadata": {},
          "execution_count": 10
        }
      ]
    },
    {
      "cell_type": "markdown",
      "metadata": {
        "id": "fac49dd1"
      },
      "source": [
        "##  View Train image data"
      ],
      "id": "fac49dd1"
    },
    {
      "cell_type": "code",
      "metadata": {
        "colab": {
          "base_uri": "https://localhost:8080/",
          "height": 154
        },
        "id": "5ac708a3",
        "outputId": "d1cb28ec-15ff-42f6-cabb-35661fc017aa"
      },
      "source": [
        "plt.figure(figsize=(15, 10))\n",
        "\n",
        "for i in range(8):\n",
        "    ax = plt.subplot(3, 4, i+1)\n",
        "    image_dir = 'handwriting-recognition/train_v2/train/'+train.loc[i, 'FILENAME']\n",
        "    image = cv2.imread(image_dir, cv2.IMREAD_GRAYSCALE)\n",
        "    plt.imshow(image, cmap = 'gray')\n",
        "    plt.title(train.loc[i, 'IDENTITY'], fontsize=12)\n",
        "    plt.axis('off')\n",
        "\n",
        "plt.subplots_adjust(wspace=0.2, hspace=-0.8)"
      ],
      "id": "5ac708a3",
      "execution_count": 12,
      "outputs": [
        {
          "output_type": "display_data",
          "data": {
            "image/png": "[encoded data removed]",
            "text/plain": [
              "<Figure size 1080x720 with 8 Axes>"
            ]
          },
          "metadata": {
            "needs_background": "light"
          }
        }
      ]
    },
    {
      "cell_type": "code",
      "metadata": {
        "colab": {
          "base_uri": "https://localhost:8080/",
          "height": 147
        },
        "id": "reV--7Nn0wgE",
        "outputId": "a075f3e8-623c-44a9-bbfc-3f30a3782c03"
      },
      "source": [
        "plt.figure(figsize=(15, 10))\n",
        "\n",
        "for i in range(8):\n",
        "    ax = plt.subplot(3, 4, i+1)\n",
        "    image_dir = 'handwriting-recognition/validation_v2/validation/'+valid.loc[i, 'FILENAME']\n",
        "    image = cv2.imread(image_dir, cv2.IMREAD_GRAYSCALE)\n",
        "    plt.imshow(image, cmap = 'gray')\n",
        "    plt.title(valid.loc[i, 'IDENTITY'], fontsize=12)\n",
        "    plt.axis('off')\n",
        "\n",
        "plt.subplots_adjust(wspace=0.2, hspace=-0.8)"
      ],
      "id": "reV--7Nn0wgE",
      "execution_count": 13,
      "outputs": [
        {
          "output_type": "display_data",
          "data": {
            "image/png": "[encoded data removed]",
            "text/plain": [
              "<Figure size 1080x720 with 8 Axes>"
            ]
          },
          "metadata": {
            "needs_background": "light"
          }
        }
      ]
    },
    {
      "cell_type": "markdown",
      "metadata": {
        "id": "ac185620"
      },
      "source": [
        "# Data Cleaning\n",
        "   \n",
        "   Using .isnull() : Find null values\n",
        "   Using .dropna() : Drop null values."
      ],
      "id": "ac185620"
    },
    {
      "cell_type": "code",
      "metadata": {
        "colab": {
          "base_uri": "https://localhost:8080/"
        },
        "id": "7f1da1f8",
        "outputId": "1166ea2c-946f-41a9-f6c0-931267c15773"
      },
      "source": [
        "print(\"Number of NaNs in train set      : \", train['IDENTITY'].isnull().sum())\n",
        "print(\"Number of NaNs in validation set : \", valid['IDENTITY'].isnull().sum())"
      ],
      "id": "7f1da1f8",
      "execution_count": 14,
      "outputs": [
        {
          "output_type": "stream",
          "name": "stdout",
          "text": [
            "Number of NaNs in train set      :  565\n",
            "Number of NaNs in validation set :  78\n"
          ]
        }
      ]
    },
    {
      "cell_type": "code",
      "metadata": {
        "id": "09249b4a"
      },
      "source": [
        "train.dropna(axis=0, inplace=True)\n",
        "valid.dropna(axis=0, inplace=True)"
      ],
      "id": "09249b4a",
      "execution_count": 15,
      "outputs": []
    },
    {
      "cell_type": "code",
      "metadata": {
        "id": "340651e1"
      },
      "source": [
        "train = train.dropna()\n",
        "valid = valid.dropna()"
      ],
      "id": "340651e1",
      "execution_count": 16,
      "outputs": []
    },
    {
      "cell_type": "code",
      "metadata": {
        "colab": {
          "base_uri": "https://localhost:8080/"
        },
        "id": "b61d8b18",
        "outputId": "ff93f50d-5c61-4514-f846-40f9e3ada51b"
      },
      "source": [
        "print(\"Number of NaNs in train set      : \", train['IDENTITY'].isnull().sum())\n",
        "print(\"Number of NaNs in validation set : \", valid['IDENTITY'].isnull().sum())"
      ],
      "id": "b61d8b18",
      "execution_count": 17,
      "outputs": [
        {
          "output_type": "stream",
          "name": "stdout",
          "text": [
            "Number of NaNs in train set      :  0\n",
            "Number of NaNs in validation set :  0\n"
          ]
        }
      ]
    },
    {
      "cell_type": "code",
      "metadata": {
        "colab": {
          "base_uri": "https://localhost:8080/"
        },
        "id": "7e3d1680",
        "outputId": "d4093bce-2765-4031-df2e-cb0ef2d8bb78"
      },
      "source": [
        "print(\"Length of train data: \",len(train))\n",
        "print(\"Length of valid data: \",len(valid))"
      ],
      "id": "7e3d1680",
      "execution_count": 18,
      "outputs": [
        {
          "output_type": "stream",
          "name": "stdout",
          "text": [
            "Length of train data:  330396\n",
            "Length of valid data:  41292\n"
          ]
        }
      ]
    },
    {
      "cell_type": "markdown",
      "metadata": {
        "id": "624c86f6"
      },
      "source": [
        "Dataset some images labeled as UNREADABLE .\n",
        "Find those image and remove."
      ],
      "id": "624c86f6"
    },
    {
      "cell_type": "code",
      "metadata": {
        "colab": {
          "base_uri": "https://localhost:8080/",
          "height": 166
        },
        "id": "26a578db",
        "outputId": "eb82f437-1c34-4781-f9aa-3a0d7ada4e79"
      },
      "source": [
        "unreadable = train[train['IDENTITY'] == 'UNREADABLE']\n",
        "unreadable.reset_index(inplace = True, drop=True)\n",
        "\n",
        "plt.figure(figsize=(15, 10))\n",
        "\n",
        "for i in range(6):\n",
        "    ax = plt.subplot(2, 3, i+1)\n",
        "    img_dir = 'handwriting-recognition/train_v2/train/'+unreadable.loc[i, 'FILENAME']\n",
        "    image = cv2.imread(img_dir, cv2.IMREAD_GRAYSCALE)\n",
        "    plt.imshow(image, cmap = 'gray')\n",
        "    plt.title(unreadable.loc[i, 'IDENTITY'], fontsize=12)\n",
        "    plt.axis('off')\n",
        "\n",
        "plt.subplots_adjust(wspace=0.2, hspace=-0.8)"
      ],
      "id": "26a578db",
      "execution_count": 19,
      "outputs": [
        {
          "output_type": "display_data",
          "data": {
            "image/png": "[encoded data removed]",
            "text/plain": [
              "<Figure size 1080x720 with 6 Axes>"
            ]
          },
          "metadata": {
            "needs_background": "light"
          }
        }
      ]
    },
    {
      "cell_type": "markdown",
      "metadata": {
        "id": "df79af09"
      },
      "source": [
        "Remove UNREADABLE imaged."
      ],
      "id": "df79af09"
    },
    {
      "cell_type": "code",
      "metadata": {
        "id": "42cb8119"
      },
      "source": [
        "train = train[train['IDENTITY'] != 'UNREADABLE']\n",
        "valid = valid[valid['IDENTITY'] != 'UNREADABLE']"
      ],
      "id": "42cb8119",
      "execution_count": 20,
      "outputs": []
    },
    {
      "cell_type": "code",
      "metadata": {
        "id": "a53a7391"
      },
      "source": [
        "train['IDENTITY'] = train['IDENTITY'].str.upper()\n",
        "valid['IDENTITY'] = valid['IDENTITY'].str.upper()"
      ],
      "id": "a53a7391",
      "execution_count": 21,
      "outputs": []
    },
    {
      "cell_type": "code",
      "metadata": {
        "id": "a246db51"
      },
      "source": [
        "train.reset_index(inplace = True, drop=True) \n",
        "valid.reset_index(inplace = True, drop=True)"
      ],
      "id": "a246db51",
      "execution_count": 22,
      "outputs": []
    },
    {
      "cell_type": "code",
      "metadata": {
        "colab": {
          "base_uri": "https://localhost:8080/"
        },
        "id": "QVnC8fXl_c25",
        "outputId": "eb4f267c-a6bd-4033-d3ae-40b8ee057829"
      },
      "source": [
        "train.shape"
      ],
      "id": "QVnC8fXl_c25",
      "execution_count": 23,
      "outputs": [
        {
          "output_type": "execute_result",
          "data": {
            "text/plain": [
              "(330294, 2)"
            ]
          },
          "metadata": {},
          "execution_count": 23
        }
      ]
    },
    {
      "cell_type": "markdown",
      "metadata": {
        "id": "663c02d0"
      },
      "source": [
        "# Data Preprocessing"
      ],
      "id": "663c02d0"
    },
    {
      "cell_type": "markdown",
      "metadata": {
        "id": "79fb42df"
      },
      "source": [
        "-Load image as grayscle (color ranges from 0 to 255 different shades varying from white to black).\n",
        "-Reshape all the images .(Height 64 and Width 256).\n",
        "-Image size set to 256 width and 64 height and small images padded with white pixels.\n",
        "-Rotate Image clockwise to make image shape [x,y].\n",
        "-Made a preprocess function to run on both train and valid images."
      ],
      "id": "79fb42df"
    },
    {
      "cell_type": "code",
      "metadata": {
        "id": "0b96d8ec"
      },
      "source": [
        "def preprocess(img):\n",
        "    (h, w) = img.shape\n",
        "    \n",
        "    final_img = np.ones([64, 256])*255 # blank white image\n",
        "    \n",
        "    # crop\n",
        "    if w > 256:\n",
        "        img = img[:, :256]\n",
        "        \n",
        "    if h > 64:\n",
        "        img = img[:64, :]\n",
        "    \n",
        "    \n",
        "    final_img[:h, :w] = img\n",
        "    return cv2.rotate(final_img, cv2.ROTATE_90_CLOCKWISE)"
      ],
      "id": "0b96d8ec",
      "execution_count": 25,
      "outputs": []
    },
    {
      "cell_type": "markdown",
      "metadata": {
        "id": "230d0c8e"
      },
      "source": [
        "The model is trained on 15000 images and validate on 1500 images and will be tested on 30000"
      ],
      "id": "230d0c8e"
    },
    {
      "cell_type": "code",
      "metadata": {
        "id": "72f0aedb"
      },
      "source": [
        "train_size = 20000\n",
        "valid_size= 3000"
      ],
      "id": "72f0aedb",
      "execution_count": 28,
      "outputs": []
    },
    {
      "cell_type": "code",
      "metadata": {
        "id": "fc7d273e"
      },
      "source": [
        "train_x = []\n",
        "\n",
        "for i in range(train_size):\n",
        "    img_dir = 'handwriting-recognition/train_v2/train/'+train.loc[i, 'FILENAME']\n",
        "    image = cv2.imread(img_dir, cv2.IMREAD_GRAYSCALE)\n",
        "    image = preprocess(image)\n",
        "    image = image/255.\n",
        "    train_x.append(image)"
      ],
      "id": "fc7d273e",
      "execution_count": 29,
      "outputs": []
    },
    {
      "cell_type": "code",
      "metadata": {
        "id": "fc458840"
      },
      "source": [
        "valid_x = []\n",
        "\n",
        "for i in range(valid_size):\n",
        "    img_dir = 'handwriting-recognition/validation_v2/validation/'+valid.loc[i, 'FILENAME']\n",
        "    image = cv2.imread(img_dir, cv2.IMREAD_GRAYSCALE)\n",
        "    image = preprocess(image)\n",
        "    image = image/255.\n",
        "    valid_x.append(image)"
      ],
      "id": "fc458840",
      "execution_count": 30,
      "outputs": []
    },
    {
      "cell_type": "code",
      "metadata": {
        "id": "81ab3cfc"
      },
      "source": [
        "train_x = np.array(train_x).reshape(-1, 256, 64, 1)\n",
        "valid_x = np.array(valid_x).reshape(-1, 256, 64, 1)"
      ],
      "id": "81ab3cfc",
      "execution_count": 31,
      "outputs": []
    },
    {
      "cell_type": "markdown",
      "metadata": {
        "id": "93f851d5"
      },
      "source": [
        "# Preparing the labels"
      ],
      "id": "93f851d5"
    },
    {
      "cell_type": "markdown",
      "metadata": {
        "id": "5305af24"
      },
      "source": [
        "The lables are converted into numbers reprenting character in the training set "
      ],
      "id": "5305af24"
    },
    {
      "cell_type": "code",
      "metadata": {
        "id": "4b25f07f"
      },
      "source": [
        "alphabets_list = u\"ABCDEFGHIJKLMNOPQRSTUVWXYZ-' \"\n",
        "maximum_string_length = 24 \n",
        "number_of_characters = len(alphabets_list) + 1 \n",
        "number_of_timestamps = 64 \n",
        "\n",
        "\n",
        "def label_to_number(label):\n",
        "    label_number = []\n",
        "    for character in label:\n",
        "        label_number.append(alphabets_list.find(character))\n",
        "        \n",
        "    return np.array(label_number)\n",
        "\n",
        "def number_to_label(number):\n",
        "    vn = \"\"\n",
        "    for character in number:\n",
        "        if character == -1:  \n",
        "            break\n",
        "        else:\n",
        "            vn+=alphabets[character]\n",
        "    return vn"
      ],
      "id": "4b25f07f",
      "execution_count": 51,
      "outputs": []
    },
    {
      "cell_type": "code",
      "metadata": {
        "colab": {
          "base_uri": "https://localhost:8080/"
        },
        "id": "f159fb77",
        "outputId": "28b716e8-5bec-4a2f-d56a-1d38699ad112"
      },
      "source": [
        "print(\"Check for a name (charater from number matrix): \")\n",
        "data = 'BALTHAZAR'\n",
        "print(data, '\\n',label_to_number(data))"
      ],
      "id": "f159fb77",
      "execution_count": 52,
      "outputs": [
        {
          "output_type": "stream",
          "name": "stdout",
          "text": [
            "Check for a name (charater from number matrix): \n",
            "BALTHAZAR \n",
            " [ 1  0 11 19  7  0 25  0 17]\n"
          ]
        }
      ]
    },
    {
      "cell_type": "code",
      "metadata": {
        "id": "44622576"
      },
      "source": [
        "train_y = np.ones([train_size, maximum_string_length]) * -1\n",
        "train_label_length = np.zeros([train_size, 1])\n",
        "train_input_length = np.ones([train_size, 1]) * (number_of_timestamps-2)\n",
        "train_output = np.zeros([train_size])\n",
        "\n",
        "for i in range(train_size):\n",
        "    train_label_length[i] = len(train.loc[i, 'IDENTITY'])\n",
        "    train_y[i, 0:len(train.loc[i, 'IDENTITY'])]= label_to_number(train.loc[i, 'IDENTITY'])   "
      ],
      "id": "44622576",
      "execution_count": 54,
      "outputs": []
    },
    {
      "cell_type": "code",
      "metadata": {
        "id": "243ecc1f"
      },
      "source": [
        "valid_y = np.ones([valid_size, maximum_string_length]) * -1\n",
        "valid_label_length = np.zeros([valid_size, 1])\n",
        "valid_input_length = np.ones([valid_size, 1]) * (num_of_timestamps-2)\n",
        "valid_output = np.zeros([valid_size])\n",
        "\n",
        "for i in range(valid_size):\n",
        "    valid_label_length[i] = len(valid.loc[i, 'IDENTITY'])\n",
        "    valid_y[i, 0:len(valid.loc[i, 'IDENTITY'])]= label_to_number(valid.loc[i, 'IDENTITY'])  "
      ],
      "id": "243ecc1f",
      "execution_count": 77,
      "outputs": []
    },
    {
      "cell_type": "code",
      "metadata": {
        "colab": {
          "base_uri": "https://localhost:8080/"
        },
        "id": "80aa2176",
        "scrolled": true,
        "outputId": "7984c4e0-a440-4f5d-ddab-bc6b8dc96aaf"
      },
      "source": [
        "print('True label : ',train.loc[100, 'IDENTITY'] , '\\ntrain_y : ',train_y[100],'\\ntrain_label_length : ',train_label_length[100], \n",
        "      '\\ntrain_input_length : ', train_input_length[100])"
      ],
      "id": "80aa2176",
      "execution_count": 78,
      "outputs": [
        {
          "output_type": "stream",
          "name": "stdout",
          "text": [
            "True label :  NOUR \n",
            "train_y :  [13. 14. 20. 17. -1. -1. -1. -1. -1. -1. -1. -1. -1. -1. -1. -1. -1. -1.\n",
            " -1. -1. -1. -1. -1. -1.] \n",
            "train_label_length :  [4.] \n",
            "train_input_length :  [62.]\n"
          ]
        }
      ]
    },
    {
      "cell_type": "markdown",
      "metadata": {
        "id": "ae913ccf"
      },
      "source": [
        "# Model Building\n",
        "CNN with 5 layers and then pass output to RNN."
      ],
      "id": "ae913ccf"
    },
    {
      "cell_type": "code",
      "metadata": {
        "colab": {
          "base_uri": "https://localhost:8080/"
        },
        "id": "ed5d3822",
        "outputId": "9f1de19e-734d-4452-e832-0e8bef9d3fce"
      },
      "source": [
        "\n",
        "input_dataset= Input(shape=(256, 64, 1), name='Input')\n",
        "# Layer 1\n",
        "x = Conv2D(32, (3, 3), padding='same', name='conv1', kernel_initializer='he_normal')(input_dataset)  \n",
        "x = BatchNormalization()(x)\n",
        "x = Activation('relu')(x)\n",
        "x = MaxPooling2D(pool_size=(2, 2), name='max1')(x)\n",
        "#Layer 2\n",
        "x = Conv2D(64, (3, 3), padding='same', name='conv2', kernel_initializer='he_normal')(x)\n",
        "x = BatchNormalization()(x)\n",
        "x = Activation('relu')(x)\n",
        "x = MaxPooling2D(pool_size=(2, 2), name='max2')(x)\n",
        "x = Dropout(0.3)(x)\n",
        "# Layer 3\n",
        "x = Conv2D(128, (3, 3), padding='same', name='conv3', kernel_initializer='he_normal')(x)\n",
        "x = BatchNormalization()(x)\n",
        "x = Activation('relu')(x)\n",
        "x = MaxPooling2D(pool_size=(1, 2), name='max3')(x)\n",
        "x = Dropout(0.3)(x)\n",
        "# Layer 4\n",
        "x = Conv2D(256, (3, 3), padding='same', name='conv4', kernel_initializer='he_normal')(x)\n",
        "x = BatchNormalization()(x)\n",
        "x = Activation('relu')(x)\n",
        "x = MaxPooling2D(pool_size=(1, 2), name='max4')(x)\n",
        "x = Dropout(0.3)(x)\n",
        "# Layer 5\n",
        "x = Conv2D(512, (3, 3), padding='same', name='conv5', kernel_initializer='he_normal')(x)\n",
        "x = BatchNormalization()(x)\n",
        "x = Activation('relu')(x)\n",
        "x = MaxPooling2D(pool_size=(1, 2), name='max5')(x)\n",
        "x = Dropout(0.3)(x)\n",
        "\n",
        "# CNN to RNN\n",
        "x = Reshape(target_shape=((64, 1024)), name='reshape')(x)\n",
        "x = Dense(64, activation='relu', kernel_initializer='he_normal', name='dense1')(x)\n",
        "\n",
        "## RNN\n",
        "x = Bidirectional(LSTM(256, return_sequences=True), name = 'lstm1')(x)\n",
        "x = Bidirectional(LSTM(256, return_sequences=True), name = 'lstm2')(x)\n",
        "\n",
        "  ## OUTPUT\n",
        "x = Dense(num_of_characters, kernel_initializer='he_normal',name='dense2')(x)\n",
        "y_pred = Activation('softmax', name='softmax')(x)\n",
        "\n",
        "hwr_model = Model(inputs=input_dataset, outputs=y_pred)\n",
        "hwr_model.summary()\n",
        "\n"
      ],
      "id": "ed5d3822",
      "execution_count": 80,
      "outputs": [
        {
          "output_type": "stream",
          "name": "stdout",
          "text": [
            "Model: \"model_5\"\n",
            "_________________________________________________________________\n",
            " Layer (type)                Output Shape              Param #   \n",
            "=================================================================\n",
            " Input (InputLayer)          [(None, 256, 64, 1)]      0         \n",
            "                                                                 \n",
            " conv1 (Conv2D)              (None, 256, 64, 32)       320       \n",
            "                                                                 \n",
            " batch_normalization_15 (Bat  (None, 256, 64, 32)      128       \n",
            " chNormalization)                                                \n",
            "                                                                 \n",
            " activation_15 (Activation)  (None, 256, 64, 32)       0         \n",
            "                                                                 \n",
            " max1 (MaxPooling2D)         (None, 128, 32, 32)       0         \n",
            "                                                                 \n",
            " conv2 (Conv2D)              (None, 128, 32, 64)       18496     \n",
            "                                                                 \n",
            " batch_normalization_16 (Bat  (None, 128, 32, 64)      256       \n",
            " chNormalization)                                                \n",
            "                                                                 \n",
            " activation_16 (Activation)  (None, 128, 32, 64)       0         \n",
            "                                                                 \n",
            " max2 (MaxPooling2D)         (None, 64, 16, 64)        0         \n",
            "                                                                 \n",
            " dropout_12 (Dropout)        (None, 64, 16, 64)        0         \n",
            "                                                                 \n",
            " conv3 (Conv2D)              (None, 64, 16, 128)       73856     \n",
            "                                                                 \n",
            " batch_normalization_17 (Bat  (None, 64, 16, 128)      512       \n",
            " chNormalization)                                                \n",
            "                                                                 \n",
            " activation_17 (Activation)  (None, 64, 16, 128)       0         \n",
            "                                                                 \n",
            " max3 (MaxPooling2D)         (None, 64, 8, 128)        0         \n",
            "                                                                 \n",
            " dropout_13 (Dropout)        (None, 64, 8, 128)        0         \n",
            "                                                                 \n",
            " conv4 (Conv2D)              (None, 64, 8, 256)        295168    \n",
            "                                                                 \n",
            " batch_normalization_18 (Bat  (None, 64, 8, 256)       1024      \n",
            " chNormalization)                                                \n",
            "                                                                 \n",
            " activation_18 (Activation)  (None, 64, 8, 256)        0         \n",
            "                                                                 \n",
            " max4 (MaxPooling2D)         (None, 64, 4, 256)        0         \n",
            "                                                                 \n",
            " dropout_14 (Dropout)        (None, 64, 4, 256)        0         \n",
            "                                                                 \n",
            " conv5 (Conv2D)              (None, 64, 4, 512)        1180160   \n",
            "                                                                 \n",
            " batch_normalization_19 (Bat  (None, 64, 4, 512)       2048      \n",
            " chNormalization)                                                \n",
            "                                                                 \n",
            " activation_19 (Activation)  (None, 64, 4, 512)        0         \n",
            "                                                                 \n",
            " max5 (MaxPooling2D)         (None, 64, 2, 512)        0         \n",
            "                                                                 \n",
            " dropout_15 (Dropout)        (None, 64, 2, 512)        0         \n",
            "                                                                 \n",
            " reshape (Reshape)           (None, 64, 1024)          0         \n",
            "                                                                 \n",
            " dense1 (Dense)              (None, 64, 64)            65600     \n",
            "                                                                 \n",
            " lstm1 (Bidirectional)       (None, 64, 512)           657408    \n",
            "                                                                 \n",
            " lstm2 (Bidirectional)       (None, 64, 512)           1574912   \n",
            "                                                                 \n",
            " dense2 (Dense)              (None, 64, 30)            15390     \n",
            "                                                                 \n",
            " softmax (Activation)        (None, 64, 30)            0         \n",
            "                                                                 \n",
            "=================================================================\n",
            "Total params: 3,885,278\n",
            "Trainable params: 3,883,294\n",
            "Non-trainable params: 1,984\n",
            "_________________________________________________________________\n"
          ]
        }
      ]
    },
    {
      "cell_type": "markdown",
      "metadata": {
        "id": "OCgfSEhKce79"
      },
      "source": [
        "#Loss Fuction\n",
        "\n",
        "Here we have taken CTC loss fuction used in text recognization.\n",
        "For our code we have made custom CTC loss function to take 4 input and output loss and then further used for traing and testing with our model."
      ],
      "id": "OCgfSEhKce79"
    },
    {
      "cell_type": "code",
      "metadata": {
        "id": "LbVLvpN9IJv6"
      },
      "source": [
        "def ctc_lambda_func(args):\n",
        "    y_pred, labels, input_length, label_length = args\n",
        "    y_pred = y_pred[:, 2:, :]\n",
        "    return K.ctc_batch_cost(labels, y_pred, input_length, label_length)"
      ],
      "id": "LbVLvpN9IJv6",
      "execution_count": 81,
      "outputs": []
    },
    {
      "cell_type": "code",
      "metadata": {
        "id": "xfRpcEyfIA25"
      },
      "source": [
        "labels = Input(name='ground_truth_labels', shape=[max_str_len], dtype='float32')\n",
        "input_length = Input(name='input_length', shape=[1], dtype='int64')\n",
        "label_length = Input(name='label_length', shape=[1], dtype='int64')\n",
        "\n",
        "ctc_loss_output = Lambda(ctc_lambda_func, output_shape=(1,), name='ctc')([y_pred, labels, input_length, label_length])\n",
        "hwr_model_final = Model(inputs=[input_dataset, labels, input_length, label_length], outputs=ctc_loss_output)"
      ],
      "id": "xfRpcEyfIA25",
      "execution_count": 82,
      "outputs": []
    },
    {
      "cell_type": "markdown",
      "metadata": {
        "id": "Xk1HSPO1dexg"
      },
      "source": [
        "## Model train\n",
        "\n",
        "For model trainng we will use Adam optimizer.Also added the keras callback funtion tp store the weights of best model considering validation loss."
      ],
      "id": "Xk1HSPO1dexg"
    },
    {
      "cell_type": "code",
      "metadata": {
        "id": "LgiTTvjjifLP"
      },
      "source": [
        "epochs = 90\n",
        "batch_size = 128\n",
        "optimizer_name = 'Adam'"
      ],
      "id": "LgiTTvjjifLP",
      "execution_count": 83,
      "outputs": []
    },
    {
      "cell_type": "code",
      "metadata": {
        "id": "qATFs95giulz"
      },
      "source": [
        "hwr_model_final.compile(loss={'ctc': lambda y_true, y_pred: y_pred}, optimizer=Adam(learning_rate = 0.0001),metrics=['accuracy'])\n",
        "filepath=\"{}o-{}r-.hdf5\".format(optimizer_name,str(epochs))\n",
        "\n",
        "checkpoint = ModelCheckpoint(filepath=filepath, monitor='val_loss', verbose=1, save_best_only=True, mode='auto')\n",
        "callbacks_list = [checkpoint]"
      ],
      "id": "qATFs95giulz",
      "execution_count": 84,
      "outputs": []
    },
    {
      "cell_type": "code",
      "metadata": {
        "colab": {
          "base_uri": "https://localhost:8080/"
        },
        "id": "lTYAkD4c7xG4",
        "outputId": "d7952a62-e735-4266-c5e3-25c5dd069ebc"
      },
      "source": [
        "# Train the model\n",
        "history_model = hwr_model_final.fit(x=[train_x, train_y, train_input_length, train_label_length], y=train_output, \n",
        "                validation_data=([valid_x, valid_y, valid_input_length, valid_label_length], valid_output),\n",
        "                epochs=epochs, batch_size=batch_size,callbacks=callbacks_list,verbose=1)"
      ],
      "id": "lTYAkD4c7xG4",
      "execution_count": 85,
      "outputs": [
        {
          "output_type": "stream",
          "name": "stdout",
          "text": [
            "Epoch 1/90\n",
            "157/157 [==============================] - ETA: 0s - loss: 26.3180 - accuracy: 0.0000e+00\n",
            "Epoch 00001: val_loss improved from inf to 20.92569, saving model to Adamo-90r-.hdf5\n",
            "157/157 [==============================] - 89s 515ms/step - loss: 26.3180 - accuracy: 0.0000e+00 - val_loss: 20.9257 - val_accuracy: 0.0000e+00\n",
            "Epoch 2/90\n",
            "157/157 [==============================] - ETA: 0s - loss: 20.2447 - accuracy: 0.0000e+00\n",
            "Epoch 00002: val_loss improved from 20.92569 to 20.85637, saving model to Adamo-90r-.hdf5\n",
            "157/157 [==============================] - 76s 485ms/step - loss: 20.2447 - accuracy: 0.0000e+00 - val_loss: 20.8564 - val_accuracy: 0.0000e+00\n",
            "Epoch 3/90\n",
            "157/157 [==============================] - ETA: 0s - loss: 19.9619 - accuracy: 0.0000e+00\n",
            "Epoch 00003: val_loss improved from 20.85637 to 20.23081, saving model to Adamo-90r-.hdf5\n",
            "157/157 [==============================] - 76s 484ms/step - loss: 19.9619 - accuracy: 0.0000e+00 - val_loss: 20.2308 - val_accuracy: 0.0000e+00\n",
            "Epoch 4/90\n",
            "157/157 [==============================] - ETA: 0s - loss: 19.6819 - accuracy: 0.0000e+00\n",
            "Epoch 00004: val_loss improved from 20.23081 to 20.12432, saving model to Adamo-90r-.hdf5\n",
            "157/157 [==============================] - 76s 486ms/step - loss: 19.6819 - accuracy: 0.0000e+00 - val_loss: 20.1243 - val_accuracy: 0.0000e+00\n",
            "Epoch 5/90\n",
            "157/157 [==============================] - ETA: 0s - loss: 19.1836 - accuracy: 0.0000e+00\n",
            "Epoch 00005: val_loss did not improve from 20.12432\n",
            "157/157 [==============================] - 76s 484ms/step - loss: 19.1836 - accuracy: 0.0000e+00 - val_loss: 21.1441 - val_accuracy: 0.0000e+00\n",
            "Epoch 6/90\n",
            "157/157 [==============================] - ETA: 0s - loss: 18.0022 - accuracy: 0.0000e+00\n",
            "Epoch 00006: val_loss improved from 20.12432 to 18.62601, saving model to Adamo-90r-.hdf5\n",
            "157/157 [==============================] - 76s 486ms/step - loss: 18.0022 - accuracy: 0.0000e+00 - val_loss: 18.6260 - val_accuracy: 0.0000e+00\n",
            "Epoch 7/90\n",
            "157/157 [==============================] - ETA: 0s - loss: 15.5731 - accuracy: 0.0000e+00\n",
            "Epoch 00007: val_loss did not improve from 18.62601\n",
            "157/157 [==============================] - 76s 483ms/step - loss: 15.5731 - accuracy: 0.0000e+00 - val_loss: 18.7078 - val_accuracy: 0.0000e+00\n",
            "Epoch 8/90\n",
            "157/157 [==============================] - ETA: 0s - loss: 12.3542 - accuracy: 0.0000e+00\n",
            "Epoch 00008: val_loss did not improve from 18.62601\n",
            "157/157 [==============================] - 76s 482ms/step - loss: 12.3542 - accuracy: 0.0000e+00 - val_loss: 31.2603 - val_accuracy: 0.0000e+00\n",
            "Epoch 9/90\n",
            "157/157 [==============================] - ETA: 0s - loss: 9.2562 - accuracy: 1.0000e-04\n",
            "Epoch 00009: val_loss did not improve from 18.62601\n",
            "157/157 [==============================] - 76s 483ms/step - loss: 9.2562 - accuracy: 1.0000e-04 - val_loss: 30.3230 - val_accuracy: 0.0000e+00\n",
            "Epoch 10/90\n",
            "157/157 [==============================] - ETA: 0s - loss: 7.0451 - accuracy: 0.0039\n",
            "Epoch 00010: val_loss did not improve from 18.62601\n",
            "157/157 [==============================] - 76s 485ms/step - loss: 7.0451 - accuracy: 0.0039 - val_loss: 22.8562 - val_accuracy: 0.0000e+00\n",
            "Epoch 11/90\n",
            "157/157 [==============================] - ETA: 0s - loss: 5.8945 - accuracy: 0.0148\n",
            "Epoch 00011: val_loss improved from 18.62601 to 11.85003, saving model to Adamo-90r-.hdf5\n",
            "157/157 [==============================] - 76s 485ms/step - loss: 5.8945 - accuracy: 0.0148 - val_loss: 11.8500 - val_accuracy: 0.0000e+00\n",
            "Epoch 12/90\n",
            "157/157 [==============================] - ETA: 0s - loss: 5.1527 - accuracy: 0.0338\n",
            "Epoch 00012: val_loss improved from 11.85003 to 6.61167, saving model to Adamo-90r-.hdf5\n",
            "157/157 [==============================] - 76s 486ms/step - loss: 5.1527 - accuracy: 0.0338 - val_loss: 6.6117 - val_accuracy: 3.3333e-04\n",
            "Epoch 13/90\n",
            "157/157 [==============================] - ETA: 0s - loss: 4.5652 - accuracy: 0.0676\n",
            "Epoch 00013: val_loss improved from 6.61167 to 4.80181, saving model to Adamo-90r-.hdf5\n",
            "157/157 [==============================] - 76s 487ms/step - loss: 4.5652 - accuracy: 0.0676 - val_loss: 4.8018 - val_accuracy: 0.0153\n",
            "Epoch 14/90\n",
            "157/157 [==============================] - ETA: 0s - loss: 4.1380 - accuracy: 0.1090\n",
            "Epoch 00014: val_loss did not improve from 4.80181\n",
            "157/157 [==============================] - 76s 486ms/step - loss: 4.1380 - accuracy: 0.1090 - val_loss: 5.8042 - val_accuracy: 0.0020\n",
            "Epoch 15/90\n",
            "157/157 [==============================] - ETA: 0s - loss: 3.7961 - accuracy: 0.1532\n",
            "Epoch 00015: val_loss improved from 4.80181 to 4.54243, saving model to Adamo-90r-.hdf5\n",
            "157/157 [==============================] - 76s 487ms/step - loss: 3.7961 - accuracy: 0.1532 - val_loss: 4.5424 - val_accuracy: 0.0300\n",
            "Epoch 16/90\n",
            "157/157 [==============================] - ETA: 0s - loss: 3.5466 - accuracy: 0.1893\n",
            "Epoch 00016: val_loss improved from 4.54243 to 3.45622, saving model to Adamo-90r-.hdf5\n",
            "157/157 [==============================] - 76s 484ms/step - loss: 3.5466 - accuracy: 0.1893 - val_loss: 3.4562 - val_accuracy: 0.1927\n",
            "Epoch 17/90\n",
            "157/157 [==============================] - ETA: 0s - loss: 3.3218 - accuracy: 0.2309\n",
            "Epoch 00017: val_loss did not improve from 3.45622\n",
            "157/157 [==============================] - 76s 484ms/step - loss: 3.3218 - accuracy: 0.2309 - val_loss: 3.6100 - val_accuracy: 0.1183\n",
            "Epoch 18/90\n",
            "157/157 [==============================] - ETA: 0s - loss: 3.1264 - accuracy: 0.2720\n",
            "Epoch 00018: val_loss did not improve from 3.45622\n",
            "157/157 [==============================] - 76s 485ms/step - loss: 3.1264 - accuracy: 0.2720 - val_loss: 3.8181 - val_accuracy: 0.0450\n",
            "Epoch 19/90\n",
            "157/157 [==============================] - ETA: 0s - loss: 2.9965 - accuracy: 0.3009\n",
            "Epoch 00019: val_loss improved from 3.45622 to 2.71764, saving model to Adamo-90r-.hdf5\n",
            "157/157 [==============================] - 76s 486ms/step - loss: 2.9965 - accuracy: 0.3009 - val_loss: 2.7176 - val_accuracy: 0.4370\n",
            "Epoch 20/90\n",
            "157/157 [==============================] - ETA: 0s - loss: 2.8530 - accuracy: 0.3316Epoch 21/90\n",
            "157/157 [==============================] - ETA: 0s - loss: 2.7421 - accuracy: 0.3601\n",
            "Epoch 00021: val_loss did not improve from 2.71764\n",
            "157/157 [==============================] - 76s 485ms/step - loss: 2.7421 - accuracy: 0.3601 - val_loss: 2.8032 - val_accuracy: 0.3800\n",
            "Epoch 22/90\n",
            "157/157 [==============================] - ETA: 0s - loss: 2.6381 - accuracy: 0.3801\n",
            "Epoch 00022: val_loss did not improve from 2.71764\n",
            "157/157 [==============================] - 76s 486ms/step - loss: 2.6381 - accuracy: 0.3801 - val_loss: 3.4437 - val_accuracy: 0.1583\n",
            "Epoch 23/90\n",
            "157/157 [==============================] - ETA: 0s - loss: 2.5376 - accuracy: 0.4076\n",
            "Epoch 00023: val_loss improved from 2.71764 to 2.41709, saving model to Adamo-90r-.hdf5\n",
            "157/157 [==============================] - 77s 488ms/step - loss: 2.5376 - accuracy: 0.4076 - val_loss: 2.4171 - val_accuracy: 0.5263\n",
            "Epoch 24/90\n",
            "157/157 [==============================] - ETA: 0s - loss: 2.4522 - accuracy: 0.4293\n",
            "Epoch 00024: val_loss improved from 2.41709 to 2.37810, saving model to Adamo-90r-.hdf5\n",
            "157/157 [==============================] - 76s 487ms/step - loss: 2.4522 - accuracy: 0.4293 - val_loss: 2.3781 - val_accuracy: 0.5410\n",
            "Epoch 25/90\n",
            "157/157 [==============================] - ETA: 0s - loss: 2.3925 - accuracy: 0.4452\n",
            "Epoch 00025: val_loss improved from 2.37810 to 2.28476, saving model to Adamo-90r-.hdf5\n",
            "157/157 [==============================] - 76s 486ms/step - loss: 2.3925 - accuracy: 0.4452 - val_loss: 2.2848 - val_accuracy: 0.5867\n",
            "Epoch 26/90\n",
            "157/157 [==============================] - ETA: 0s - loss: 2.3130 - accuracy: 0.4600\n",
            "Epoch 00026: val_loss did not improve from 2.28476\n",
            "157/157 [==============================] - 76s 482ms/step - loss: 2.3130 - accuracy: 0.4600 - val_loss: 2.3123 - val_accuracy: 0.5703\n",
            "Epoch 27/90\n",
            "157/157 [==============================] - ETA: 0s - loss: 2.2443 - accuracy: 0.4813\n",
            "Epoch 00027: val_loss improved from 2.28476 to 2.20587, saving model to Adamo-90r-.hdf5\n",
            "157/157 [==============================] - 76s 485ms/step - loss: 2.2443 - accuracy: 0.4813 - val_loss: 2.2059 - val_accuracy: 0.6097\n",
            "Epoch 28/90\n",
            "157/157 [==============================] - ETA: 0s - loss: 2.1813 - accuracy: 0.4972\n",
            "Epoch 00028: val_loss improved from 2.20587 to 2.20137, saving model to Adamo-90r-.hdf5\n",
            "157/157 [==============================] - 76s 485ms/step - loss: 2.1813 - accuracy: 0.4972 - val_loss: 2.2014 - val_accuracy: 0.5950\n",
            "Epoch 29/90\n",
            "157/157 [==============================] - ETA: 0s - loss: 2.1361 - accuracy: 0.5085\n",
            "Epoch 00029: val_loss improved from 2.20137 to 2.16025, saving model to Adamo-90r-.hdf5\n",
            "157/157 [==============================] - 76s 487ms/step - loss: 2.1361 - accuracy: 0.5085 - val_loss: 2.1602 - val_accuracy: 0.6303\n",
            "Epoch 30/90\n",
            "157/157 [==============================] - ETA: 0s - loss: 2.0701 - accuracy: 0.5217\n",
            "Epoch 00030: val_loss did not improve from 2.16025\n",
            "157/157 [==============================] - 76s 484ms/step - loss: 2.0701 - accuracy: 0.5217 - val_loss: 2.1778 - val_accuracy: 0.6167\n",
            "Epoch 31/90\n",
            "157/157 [==============================] - ETA: 0s - loss: 2.0330 - accuracy: 0.5347\n",
            "Epoch 00031: val_loss improved from 2.16025 to 2.15634, saving model to Adamo-90r-.hdf5\n",
            "157/157 [==============================] - 76s 485ms/step - loss: 2.0330 - accuracy: 0.5347 - val_loss: 2.1563 - val_accuracy: 0.6320\n",
            "Epoch 32/90\n",
            "157/157 [==============================] - ETA: 0s - loss: 1.9840 - accuracy: 0.5448\n",
            "Epoch 00032: val_loss improved from 2.15634 to 2.08946, saving model to Adamo-90r-.hdf5\n",
            "157/157 [==============================] - 76s 484ms/step - loss: 1.9840 - accuracy: 0.5448 - val_loss: 2.0895 - val_accuracy: 0.6487\n",
            "Epoch 33/90\n",
            "157/157 [==============================] - ETA: 0s - loss: 1.9454 - accuracy: 0.5523\n",
            "Epoch 00033: val_loss improved from 2.08946 to 2.08560, saving model to Adamo-90r-.hdf5\n",
            "157/157 [==============================] - 76s 485ms/step - loss: 1.9454 - accuracy: 0.5523 - val_loss: 2.0856 - val_accuracy: 0.6483\n",
            "Epoch 34/90\n",
            "157/157 [==============================] - ETA: 0s - loss: 1.9099 - accuracy: 0.5654\n",
            "Epoch 00034: val_loss improved from 2.08560 to 2.07167, saving model to Adamo-90r-.hdf5\n",
            "157/157 [==============================] - 76s 486ms/step - loss: 1.9099 - accuracy: 0.5654 - val_loss: 2.0717 - val_accuracy: 0.6583\n",
            "Epoch 35/90\n",
            "157/157 [==============================] - ETA: 0s - loss: 1.8634 - accuracy: 0.5734\n",
            "Epoch 00035: val_loss improved from 2.07167 to 1.99718, saving model to Adamo-90r-.hdf5\n",
            "157/157 [==============================] - 76s 486ms/step - loss: 1.8634 - accuracy: 0.5734 - val_loss: 1.9972 - val_accuracy: 0.6803\n",
            "Epoch 36/90\n",
            "157/157 [==============================] - ETA: 0s - loss: 1.8310 - accuracy: 0.5779\n",
            "Epoch 00036: val_loss did not improve from 1.99718\n",
            "157/157 [==============================] - 76s 485ms/step - loss: 1.8310 - accuracy: 0.5779 - val_loss: 2.0417 - val_accuracy: 0.6507\n",
            "Epoch 37/90\n",
            "157/157 [==============================] - ETA: 0s - loss: 1.7833 - accuracy: 0.5899\n",
            "Epoch 00037: val_loss improved from 1.99718 to 1.97329, saving model to Adamo-90r-.hdf5\n",
            "157/157 [==============================] - 76s 487ms/step - loss: 1.7833 - accuracy: 0.5899 - val_loss: 1.9733 - val_accuracy: 0.6763\n",
            "Epoch 38/90\n",
            "157/157 [==============================] - ETA: 0s - loss: 1.7486 - accuracy: 0.5984\n",
            "Epoch 00038: val_loss improved from 1.97329 to 1.95998, saving model to Adamo-90r-.hdf5\n",
            "157/157 [==============================] - 76s 487ms/step - loss: 1.7486 - accuracy: 0.5984 - val_loss: 1.9600 - val_accuracy: 0.6907\n",
            "Epoch 39/90\n",
            "157/157 [==============================] - ETA: 0s - loss: 1.7170 - accuracy: 0.6063\n",
            "Epoch 00039: val_loss did not improve from 1.95998\n",
            "157/157 [==============================] - 76s 485ms/step - loss: 1.7170 - accuracy: 0.6063 - val_loss: 1.9670 - val_accuracy: 0.6903\n",
            "Epoch 40/90\n",
            "157/157 [==============================] - ETA: 0s - loss: 1.6807 - accuracy: 0.6118\n",
            "Epoch 00040: val_loss improved from 1.95998 to 1.95179, saving model to Adamo-90r-.hdf5\n",
            "157/157 [==============================] - 76s 486ms/step - loss: 1.6807 - accuracy: 0.6118 - val_loss: 1.9518 - val_accuracy: 0.7010\n",
            "Epoch 41/90\n",
            "157/157 [==============================] - ETA: 0s - loss: 1.6452 - accuracy: 0.6202\n",
            "Epoch 00041: val_loss improved from 1.95179 to 1.94495, saving model to Adamo-90r-.hdf5\n",
            "157/157 [==============================] - 76s 487ms/step - loss: 1.6452 - accuracy: 0.6202 - val_loss: 1.9449 - val_accuracy: 0.6857\n",
            "Epoch 42/90\n",
            "157/157 [==============================] - ETA: 0s - loss: 1.6129 - accuracy: 0.6249\n",
            "Epoch 00042: val_loss improved from 1.94495 to 1.90490, saving model to Adamo-90r-.hdf5\n",
            "157/157 [==============================] - 77s 488ms/step - loss: 1.6129 - accuracy: 0.6249 - val_loss: 1.9049 - val_accuracy: 0.7077\n",
            "Epoch 43/90\n",
            "157/157 [==============================] - ETA: 0s - loss: 1.5945 - accuracy: 0.6332\n",
            "Epoch 00043: val_loss did not improve from 1.90490\n",
            "157/157 [==============================] - 76s 485ms/step - loss: 1.5945 - accuracy: 0.6332 - val_loss: 1.9662 - val_accuracy: 0.6953\n",
            "Epoch 44/90\n",
            "157/157 [==============================] - ETA: 0s - loss: 1.5649 - accuracy: 0.6370\n",
            "Epoch 00044: val_loss did not improve from 1.90490\n",
            "157/157 [==============================] - 76s 484ms/step - loss: 1.5649 - accuracy: 0.6370 - val_loss: 1.9374 - val_accuracy: 0.7000\n",
            "Epoch 45/90\n",
            "157/157 [==============================] - ETA: 0s - loss: 1.5344 - accuracy: 0.6438\n",
            "Epoch 00045: val_loss did not improve from 1.90490\n",
            "157/157 [==============================] - 76s 482ms/step - loss: 1.5344 - accuracy: 0.6438 - val_loss: 1.9348 - val_accuracy: 0.7033\n",
            "Epoch 46/90\n",
            "157/157 [==============================] - ETA: 0s - loss: 1.5114 - accuracy: 0.6486\n",
            "Epoch 00046: val_loss did not improve from 1.90490\n",
            "157/157 [==============================] - 76s 484ms/step - loss: 1.5114 - accuracy: 0.6486 - val_loss: 1.9139 - val_accuracy: 0.7003\n",
            "Epoch 47/90\n",
            "157/157 [==============================] - ETA: 0s - loss: 1.4780 - accuracy: 0.6526\n",
            "Epoch 00047: val_loss did not improve from 1.90490\n",
            "157/157 [==============================] - 76s 482ms/step - loss: 1.4780 - accuracy: 0.6526 - val_loss: 1.9113 - val_accuracy: 0.7227\n",
            "Epoch 48/90\n",
            "157/157 [==============================] - ETA: 0s - loss: 1.4448 - accuracy: 0.6589\n",
            "Epoch 00048: val_loss did not improve from 1.90490\n",
            "157/157 [==============================] - 76s 483ms/step - loss: 1.4448 - accuracy: 0.6589 - val_loss: 1.9157 - val_accuracy: 0.7213\n",
            "Epoch 49/90\n",
            "157/157 [==============================] - ETA: 0s - loss: 1.4066 - accuracy: 0.6679\n",
            "Epoch 00049: val_loss did not improve from 1.90490\n",
            "157/157 [==============================] - 76s 483ms/step - loss: 1.4066 - accuracy: 0.6679 - val_loss: 1.9069 - val_accuracy: 0.7267\n",
            "Epoch 50/90\n",
            "157/157 [==============================] - ETA: 0s - loss: 1.4041 - accuracy: 0.6671\n",
            "Epoch 00050: val_loss did not improve from 1.90490\n",
            "157/157 [==============================] - 76s 483ms/step - loss: 1.4041 - accuracy: 0.6671 - val_loss: 1.9065 - val_accuracy: 0.7237\n",
            "Epoch 51/90\n",
            "157/157 [==============================] - ETA: 0s - loss: 1.3830 - accuracy: 0.6716\n",
            "Epoch 00051: val_loss did not improve from 1.90490\n",
            "157/157 [==============================] - 76s 482ms/step - loss: 1.3830 - accuracy: 0.6716 - val_loss: 1.9310 - val_accuracy: 0.7207\n",
            "Epoch 52/90\n",
            "157/157 [==============================] - ETA: 0s - loss: 1.3465 - accuracy: 0.6761\n",
            "Epoch 00052: val_loss improved from 1.90490 to 1.87352, saving model to Adamo-90r-.hdf5\n",
            "157/157 [==============================] - 76s 485ms/step - loss: 1.3465 - accuracy: 0.6761 - val_loss: 1.8735 - val_accuracy: 0.7303\n",
            "Epoch 53/90\n",
            "157/157 [==============================] - ETA: 0s - loss: 1.3085 - accuracy: 0.6824\n",
            "Epoch 00053: val_loss did not improve from 1.87352\n",
            "157/157 [==============================] - 76s 483ms/step - loss: 1.3085 - accuracy: 0.6824 - val_loss: 1.8749 - val_accuracy: 0.7323\n",
            "Epoch 54/90\n",
            "157/157 [==============================] - ETA: 0s - loss: 1.2992 - accuracy: 0.6878\n",
            "Epoch 00054: val_loss improved from 1.87352 to 1.86534, saving model to Adamo-90r-.hdf5\n",
            "157/157 [==============================] - 76s 486ms/step - loss: 1.2992 - accuracy: 0.6878 - val_loss: 1.8653 - val_accuracy: 0.7310\n",
            "Epoch 55/90\n",
            "157/157 [==============================] - ETA: 0s - loss: 1.2744 - accuracy: 0.6908\n",
            "Epoch 00055: val_loss did not improve from 1.86534\n",
            "157/157 [==============================] - 76s 483ms/step - loss: 1.2744 - accuracy: 0.6908 - val_loss: 1.8994 - val_accuracy: 0.7237\n",
            "Epoch 56/90\n",
            "157/157 [==============================] - ETA: 0s - loss: 1.2484 - accuracy: 0.6939\n",
            "Epoch 00056: val_loss did not improve from 1.86534\n",
            "157/157 [==============================] - 76s 483ms/step - loss: 1.2484 - accuracy: 0.6939 - val_loss: 1.8992 - val_accuracy: 0.7307\n",
            "Epoch 57/90\n",
            "157/157 [==============================] - ETA: 0s - loss: 1.2279 - accuracy: 0.6955\n",
            "Epoch 00057: val_loss did not improve from 1.86534\n",
            "157/157 [==============================] - 76s 483ms/step - loss: 1.2279 - accuracy: 0.6955 - val_loss: 1.9108 - val_accuracy: 0.7353\n",
            "Epoch 58/90\n",
            "157/157 [==============================] - ETA: 0s - loss: 1.1999 - accuracy: 0.7018\n",
            "Epoch 00058: val_loss did not improve from 1.86534\n",
            "157/157 [==============================] - 76s 484ms/step - loss: 1.1999 - accuracy: 0.7018 - val_loss: 1.8817 - val_accuracy: 0.7360\n",
            "Epoch 59/90\n",
            "157/157 [==============================] - ETA: 0s - loss: 1.1805 - accuracy: 0.7061\n",
            "Epoch 00059: val_loss did not improve from 1.86534\n",
            "157/157 [==============================] - 76s 483ms/step - loss: 1.1805 - accuracy: 0.7061 - val_loss: 1.8917 - val_accuracy: 0.7390\n",
            "Epoch 60/90\n",
            "157/157 [==============================] - ETA: 0s - loss: 1.1590 - accuracy: 0.7073\n",
            "Epoch 00060: val_loss did not improve from 1.86534\n",
            "157/157 [==============================] - 76s 484ms/step - loss: 1.1590 - accuracy: 0.7073 - val_loss: 1.8906 - val_accuracy: 0.7380\n",
            "Epoch 61/90\n",
            "157/157 [==============================] - ETA: 0s - loss: 1.1307 - accuracy: 0.7110\n",
            "Epoch 00061: val_loss did not improve from 1.86534\n",
            "157/157 [==============================] - 76s 484ms/step - loss: 1.1307 - accuracy: 0.7110 - val_loss: 1.9092 - val_accuracy: 0.7453\n",
            "Epoch 62/90\n",
            "157/157 [==============================] - ETA: 0s - loss: 1.1013 - accuracy: 0.7169\n",
            "Epoch 00062: val_loss did not improve from 1.86534\n",
            "157/157 [==============================] - 76s 485ms/step - loss: 1.1013 - accuracy: 0.7169 - val_loss: 1.9246 - val_accuracy: 0.7360\n",
            "Epoch 63/90\n",
            "157/157 [==============================] - ETA: 0s - loss: 1.0939 - accuracy: 0.7187\n",
            "Epoch 00063: val_loss did not improve from 1.86534\n",
            "157/157 [==============================] - 76s 485ms/step - loss: 1.0939 - accuracy: 0.7187 - val_loss: 1.9121 - val_accuracy: 0.7350\n",
            "Epoch 64/90\n",
            "157/157 [==============================] - ETA: 0s - loss: 1.0625 - accuracy: 0.7238\n",
            "Epoch 00064: val_loss did not improve from 1.86534\n",
            "157/157 [==============================] - 76s 484ms/step - loss: 1.0625 - accuracy: 0.7238 - val_loss: 1.8931 - val_accuracy: 0.7380\n",
            "Epoch 65/90\n",
            "157/157 [==============================] - ETA: 0s - loss: 1.0418 - accuracy: 0.7276\n",
            "Epoch 00065: val_loss did not improve from 1.86534\n",
            "157/157 [==============================] - 76s 482ms/step - loss: 1.0418 - accuracy: 0.7276 - val_loss: 1.9273 - val_accuracy: 0.7437\n",
            "Epoch 66/90\n",
            "157/157 [==============================] - ETA: 0s - loss: 1.0179 - accuracy: 0.7331\n",
            "Epoch 00066: val_loss did not improve from 1.86534\n",
            "157/157 [==============================] - 76s 484ms/step - loss: 1.0179 - accuracy: 0.7331 - val_loss: 1.9428 - val_accuracy: 0.7380\n",
            "Epoch 67/90\n",
            "157/157 [==============================] - ETA: 0s - loss: 0.9946 - accuracy: 0.7330\n",
            "Epoch 00067: val_loss did not improve from 1.86534\n",
            "157/157 [==============================] - 76s 485ms/step - loss: 0.9946 - accuracy: 0.7330 - val_loss: 1.9667 - val_accuracy: 0.7413\n",
            "Epoch 68/90\n",
            "157/157 [==============================] - ETA: 0s - loss: 0.9787 - accuracy: 0.7383\n",
            "Epoch 00068: val_loss did not improve from 1.86534\n",
            "157/157 [==============================] - 76s 487ms/step - loss: 0.9787 - accuracy: 0.7383 - val_loss: 1.9069 - val_accuracy: 0.7503\n",
            "Epoch 69/90\n",
            "157/157 [==============================] - ETA: 0s - loss: 0.9493 - accuracy: 0.7422\n",
            "Epoch 00069: val_loss did not improve from 1.86534\n",
            "157/157 [==============================] - 76s 485ms/step - loss: 0.9493 - accuracy: 0.7422 - val_loss: 1.9358 - val_accuracy: 0.7463\n",
            "Epoch 70/90\n",
            "157/157 [==============================] - ETA: 0s - loss: 0.9398 - accuracy: 0.7456\n",
            "Epoch 00070: val_loss did not improve from 1.86534\n",
            "157/157 [==============================] - 76s 486ms/step - loss: 0.9398 - accuracy: 0.7456 - val_loss: 1.9568 - val_accuracy: 0.7420\n",
            "Epoch 71/90\n",
            "157/157 [==============================] - ETA: 0s - loss: 0.9207 - accuracy: 0.7487\n",
            "Epoch 00071: val_loss did not improve from 1.86534\n",
            "157/157 [==============================] - 76s 485ms/step - loss: 0.9207 - accuracy: 0.7487 - val_loss: 1.9489 - val_accuracy: 0.7483\n",
            "Epoch 72/90\n",
            "157/157 [==============================] - ETA: 0s - loss: 0.9079 - accuracy: 0.7522\n",
            "Epoch 00072: val_loss did not improve from 1.86534\n",
            "157/157 [==============================] - 76s 487ms/step - loss: 0.9079 - accuracy: 0.7522 - val_loss: 1.9175 - val_accuracy: 0.7453\n",
            "Epoch 73/90\n",
            "157/157 [==============================] - ETA: 0s - loss: 0.8889 - accuracy: 0.7530\n",
            "Epoch 00073: val_loss did not improve from 1.86534\n",
            "157/157 [==============================] - 76s 485ms/step - loss: 0.8889 - accuracy: 0.7530 - val_loss: 1.9799 - val_accuracy: 0.7473\n",
            "Epoch 74/90\n",
            "157/157 [==============================] - ETA: 0s - loss: 0.8636 - accuracy: 0.7595\n",
            "Epoch 00074: val_loss did not improve from 1.86534\n",
            "157/157 [==============================] - 76s 486ms/step - loss: 0.8636 - accuracy: 0.7595 - val_loss: 1.9618 - val_accuracy: 0.7470\n",
            "Epoch 75/90\n",
            "157/157 [==============================] - ETA: 0s - loss: 0.8363 - accuracy: 0.7609\n",
            "Epoch 00075: val_loss did not improve from 1.86534\n",
            "157/157 [==============================] - 76s 484ms/step - loss: 0.8363 - accuracy: 0.7609 - val_loss: 1.9880 - val_accuracy: 0.7497\n",
            "Epoch 76/90\n",
            "157/157 [==============================] - ETA: 0s - loss: 0.8270 - accuracy: 0.7637\n",
            "Epoch 00076: val_loss did not improve from 1.86534\n",
            "157/157 [==============================] - 76s 484ms/step - loss: 0.8270 - accuracy: 0.7637 - val_loss: 1.9648 - val_accuracy: 0.7523\n",
            "Epoch 77/90\n",
            "157/157 [==============================] - ETA: 0s - loss: 0.7968 - accuracy: 0.7681\n",
            "Epoch 00077: val_loss did not improve from 1.86534\n",
            "157/157 [==============================] - 76s 485ms/step - loss: 0.7968 - accuracy: 0.7681 - val_loss: 1.9641 - val_accuracy: 0.7513\n",
            "Epoch 78/90\n",
            "157/157 [==============================] - ETA: 0s - loss: 0.7933 - accuracy: 0.7712\n",
            "Epoch 00078: val_loss did not improve from 1.86534\n",
            "157/157 [==============================] - 76s 484ms/step - loss: 0.7933 - accuracy: 0.7712 - val_loss: 1.9617 - val_accuracy: 0.7507\n",
            "Epoch 79/90\n",
            "157/157 [==============================] - ETA: 0s - loss: 0.7796 - accuracy: 0.7746\n",
            "Epoch 00079: val_loss did not improve from 1.86534\n",
            "157/157 [==============================] - 76s 485ms/step - loss: 0.7796 - accuracy: 0.7746 - val_loss: 2.0109 - val_accuracy: 0.7493\n",
            "Epoch 80/90\n",
            "157/157 [==============================] - ETA: 0s - loss: 0.7472 - accuracy: 0.7784\n",
            "Epoch 00080: val_loss did not improve from 1.86534\n",
            "157/157 [==============================] - 76s 485ms/step - loss: 0.7472 - accuracy: 0.7784 - val_loss: 1.9920 - val_accuracy: 0.7563\n",
            "Epoch 81/90\n",
            "157/157 [==============================] - ETA: 0s - loss: 0.7405 - accuracy: 0.7789\n",
            "Epoch 00081: val_loss did not improve from 1.86534\n",
            "157/157 [==============================] - 76s 485ms/step - loss: 0.7405 - accuracy: 0.7789 - val_loss: 2.0155 - val_accuracy: 0.7537\n",
            "Epoch 82/90\n",
            "157/157 [==============================] - ETA: 0s - loss: 0.7223 - accuracy: 0.7833\n",
            "Epoch 00082: val_loss did not improve from 1.86534\n",
            "157/157 [==============================] - 76s 485ms/step - loss: 0.7223 - accuracy: 0.7833 - val_loss: 2.0012 - val_accuracy: 0.7530\n",
            "Epoch 83/90\n",
            "157/157 [==============================] - ETA: 0s - loss: 0.7027 - accuracy: 0.7874\n",
            "Epoch 00083: val_loss did not improve from 1.86534\n",
            "157/157 [==============================] - 76s 484ms/step - loss: 0.7027 - accuracy: 0.7874 - val_loss: 2.0188 - val_accuracy: 0.7523\n",
            "Epoch 84/90\n",
            "157/157 [==============================] - ETA: 0s - loss: 0.6800 - accuracy: 0.7880\n",
            "Epoch 00084: val_loss did not improve from 1.86534\n",
            "157/157 [==============================] - 76s 484ms/step - loss: 0.6800 - accuracy: 0.7880 - val_loss: 2.0434 - val_accuracy: 0.7570\n",
            "Epoch 85/90\n",
            "157/157 [==============================] - ETA: 0s - loss: 0.6652 - accuracy: 0.7890\n",
            "Epoch 00085: val_loss did not improve from 1.86534\n",
            "157/157 [==============================] - 76s 484ms/step - loss: 0.6652 - accuracy: 0.7890 - val_loss: 2.0519 - val_accuracy: 0.7527\n",
            "Epoch 86/90\n",
            "157/157 [==============================] - ETA: 0s - loss: 0.6471 - accuracy: 0.7951\n",
            "Epoch 00086: val_loss did not improve from 1.86534\n",
            "157/157 [==============================] - 76s 486ms/step - loss: 0.6471 - accuracy: 0.7951 - val_loss: 2.0733 - val_accuracy: 0.7530\n",
            "Epoch 87/90\n",
            "157/157 [==============================] - ETA: 0s - loss: 0.6265 - accuracy: 0.8007\n",
            "Epoch 00087: val_loss did not improve from 1.86534\n",
            "157/157 [==============================] - 76s 484ms/step - loss: 0.6265 - accuracy: 0.8007 - val_loss: 2.0784 - val_accuracy: 0.7550\n",
            "Epoch 88/90\n",
            "157/157 [==============================] - ETA: 0s - loss: 0.6245 - accuracy: 0.8013\n",
            "Epoch 00088: val_loss did not improve from 1.86534\n",
            "157/157 [==============================] - 76s 485ms/step - loss: 0.6245 - accuracy: 0.8013 - val_loss: 2.0813 - val_accuracy: 0.7507\n",
            "Epoch 89/90\n",
            "157/157 [==============================] - ETA: 0s - loss: 0.6220 - accuracy: 0.8031\n",
            "Epoch 00089: val_loss did not improve from 1.86534\n",
            "157/157 [==============================] - 76s 484ms/step - loss: 0.6220 - accuracy: 0.8031 - val_loss: 2.1102 - val_accuracy: 0.7527\n",
            "Epoch 90/90\n",
            "157/157 [==============================] - ETA: 0s - loss: 0.5876 - accuracy: 0.8094\n",
            "Epoch 00090: val_loss did not improve from 1.86534\n",
            "157/157 [==============================] - 76s 485ms/step - loss: 0.5876 - accuracy: 0.8094 - val_loss: 2.0809 - val_accuracy: 0.7500\n"
          ]
        }
      ]
    },
    {
      "cell_type": "markdown",
      "metadata": {
        "id": "716598b4"
      },
      "source": [
        "The shape of output predictiion is (64,30)  "
      ],
      "id": "716598b4"
    },
    {
      "cell_type": "code",
      "metadata": {
        "id": "kCajKY_4WwA4"
      },
      "source": [
        "history_df = pd.DataFrame(history_model.history)\n",
        "history_csv_file = 'history.csv'\n",
        "with open(history_csv_file, mode='w') as f:\n",
        "  history_df.to_csv(f)\n",
        "\n"
      ],
      "id": "kCajKY_4WwA4",
      "execution_count": 89,
      "outputs": []
    },
    {
      "cell_type": "markdown",
      "metadata": {
        "id": "9985c10e"
      },
      "source": [
        "# Model Training"
      ],
      "id": "9985c10e"
    },
    {
      "cell_type": "markdown",
      "metadata": {
        "id": "471a8750"
      },
      "source": [
        "#  Check The model Predication on Validation data"
      ],
      "id": "471a8750"
    },
    {
      "cell_type": "code",
      "metadata": {
        "id": "baa2e1d1"
      },
      "source": [
        "preds = hwr_model.predict(valid_x)\n",
        "decoded = K.get_value(K.ctc_decode(preds, input_length=np.ones(preds.shape[0])*preds.shape[1], \n",
        "                                   greedy=True)[0][0])\n",
        "\n",
        "prediction = []\n",
        "for i in range(valid_size):\n",
        "    prediction.append(number_to_label(decoded[i]))"
      ],
      "id": "baa2e1d1",
      "execution_count": 92,
      "outputs": []
    },
    {
      "cell_type": "code",
      "metadata": {
        "id": "a1595ecd",
        "colab": {
          "base_uri": "https://localhost:8080/"
        },
        "outputId": "11924abc-1952-44f7-d5ac-b0ea45153a28"
      },
      "source": [
        "y_true = valid.loc[0:valid_size, 'IDENTITY']\n",
        "correct_char = 0\n",
        "total_char = 0\n",
        "correct = 0\n",
        "\n",
        "for i in range(valid_size):\n",
        "    pr = prediction[i]\n",
        "    tr = y_true[i]\n",
        "    total_char += len(tr)\n",
        "    \n",
        "    for j in range(min(len(tr), len(pr))):\n",
        "        if tr[j] == pr[j]:\n",
        "            correct_char += 1\n",
        "            \n",
        "    if pr == tr :\n",
        "        correct += 1 \n",
        "    \n",
        "print('Correct characters predicted : %.2f%%' %(correct_char/total_char*100))\n",
        "print('Correct words predicted      : %.2f%%' %(correct/valid_size*100))"
      ],
      "id": "a1595ecd",
      "execution_count": 93,
      "outputs": [
        {
          "output_type": "stream",
          "name": "stdout",
          "text": [
            "Correct characters predicted : 89.26%\n",
            "Correct words predicted      : 75.50%\n"
          ]
        }
      ]
    },
    {
      "cell_type": "code",
      "metadata": {
        "colab": {
          "base_uri": "https://localhost:8080/"
        },
        "id": "O_I9pNvqBR7O",
        "outputId": "fddf4c63-d3b6-4028-c982-45652787a29d"
      },
      "source": [
        "print(correct_char)"
      ],
      "id": "O_I9pNvqBR7O",
      "execution_count": 94,
      "outputs": [
        {
          "output_type": "stream",
          "name": "stdout",
          "text": [
            "17565\n"
          ]
        }
      ]
    },
    {
      "cell_type": "code",
      "metadata": {
        "colab": {
          "base_uri": "https://localhost:8080/"
        },
        "id": "TXL-_ZLxBrwi",
        "outputId": "784ce468-a02c-4195-c21e-594561c9c0f0"
      },
      "source": [
        "print(correct)"
      ],
      "id": "TXL-_ZLxBrwi",
      "execution_count": 95,
      "outputs": [
        {
          "output_type": "stream",
          "name": "stdout",
          "text": [
            "2265\n"
          ]
        }
      ]
    },
    {
      "cell_type": "code",
      "metadata": {
        "id": "3d98f7a6",
        "colab": {
          "base_uri": "https://localhost:8080/"
        },
        "outputId": "ecb79d5c-6a03-451b-fb95-e32a3a86615d"
      },
      "source": [
        "history_model.history"
      ],
      "id": "3d98f7a6",
      "execution_count": 97,
      "outputs": [
        {
          "output_type": "execute_result",
          "data": {
            "text/plain": [
              "{'accuracy': [0.0,\n",
              "  0.0,\n",
              "  0.0,\n",
              "  0.0,\n",
              "  0.0,\n",
              "  0.0,\n",
              "  0.0,\n",
              "  0.0,\n",
              "  9.999999747378752e-05,\n",
              "  0.0038999998942017555,\n",
              "  0.014800000004470348,\n",
              "  0.033799998462200165,\n",
              "  0.06759999692440033,\n",
              "  0.10904999822378159,\n",
              "  0.15320000052452087,\n",
              "  0.18930000066757202,\n",
              "  0.23090000450611115,\n",
              "  0.27195000648498535,\n",
              "  0.30090001225471497,\n",
              "  0.3315500020980835,\n",
              "  0.36010000109672546,\n",
              "  0.38005000352859497,\n",
              "  0.4076499938964844,\n",
              "  0.42925000190734863,\n",
              "  0.44519999623298645,\n",
              "  0.4599500000476837,\n",
              "  0.4812999963760376,\n",
              "  0.4972499907016754,\n",
              "  0.5084999799728394,\n",
              "  0.5217499732971191,\n",
              "  0.5346500277519226,\n",
              "  0.5448499917984009,\n",
              "  0.5522500276565552,\n",
              "  0.5654000043869019,\n",
              "  0.5734000205993652,\n",
              "  0.5778999924659729,\n",
              "  0.5898500084877014,\n",
              "  0.5983999967575073,\n",
              "  0.6062999963760376,\n",
              "  0.6118000149726868,\n",
              "  0.6202499866485596,\n",
              "  0.6248999834060669,\n",
              "  0.6332499980926514,\n",
              "  0.6370499730110168,\n",
              "  0.6438000202178955,\n",
              "  0.6486499905586243,\n",
              "  0.6525999903678894,\n",
              "  0.6588500142097473,\n",
              "  0.6678500175476074,\n",
              "  0.6670500040054321,\n",
              "  0.6716499924659729,\n",
              "  0.6760500073432922,\n",
              "  0.6823999881744385,\n",
              "  0.6877999901771545,\n",
              "  0.6908000111579895,\n",
              "  0.6938999891281128,\n",
              "  0.6954500079154968,\n",
              "  0.7017999887466431,\n",
              "  0.7060999870300293,\n",
              "  0.7073000073432922,\n",
              "  0.7109500169754028,\n",
              "  0.7168999910354614,\n",
              "  0.7186999917030334,\n",
              "  0.723800003528595,\n",
              "  0.727649986743927,\n",
              "  0.7330999970436096,\n",
              "  0.7329999804496765,\n",
              "  0.7382500171661377,\n",
              "  0.7421500086784363,\n",
              "  0.7455999851226807,\n",
              "  0.7487000226974487,\n",
              "  0.7522000074386597,\n",
              "  0.753000020980835,\n",
              "  0.7595000267028809,\n",
              "  0.7609000205993652,\n",
              "  0.763700008392334,\n",
              "  0.7681499719619751,\n",
              "  0.7712000012397766,\n",
              "  0.774649977684021,\n",
              "  0.7784000039100647,\n",
              "  0.7788500189781189,\n",
              "  0.78329998254776,\n",
              "  0.7874000072479248,\n",
              "  0.7880499958992004,\n",
              "  0.7889999747276306,\n",
              "  0.7950999736785889,\n",
              "  0.8006500005722046,\n",
              "  0.8012999892234802,\n",
              "  0.8030999898910522,\n",
              "  0.8093500137329102],\n",
              " 'loss': [26.318035125732422,\n",
              "  20.244735717773438,\n",
              "  19.961883544921875,\n",
              "  19.68194007873535,\n",
              "  19.18361473083496,\n",
              "  18.002235412597656,\n",
              "  15.573097229003906,\n",
              "  12.354212760925293,\n",
              "  9.25618839263916,\n",
              "  7.045050144195557,\n",
              "  5.894545555114746,\n",
              "  5.152655601501465,\n",
              "  4.565190315246582,\n",
              "  4.1379618644714355,\n",
              "  3.7960991859436035,\n",
              "  3.5465774536132812,\n",
              "  3.321810483932495,\n",
              "  3.1263837814331055,\n",
              "  2.9965150356292725,\n",
              "  2.8530335426330566,\n",
              "  2.7421112060546875,\n",
              "  2.638062000274658,\n",
              "  2.537613868713379,\n",
              "  2.4521706104278564,\n",
              "  2.392519474029541,\n",
              "  2.3129513263702393,\n",
              "  2.2443151473999023,\n",
              "  2.1812705993652344,\n",
              "  2.1361429691314697,\n",
              "  2.070053815841675,\n",
              "  2.0330348014831543,\n",
              "  1.9840198755264282,\n",
              "  1.9453990459442139,\n",
              "  1.9099345207214355,\n",
              "  1.8634295463562012,\n",
              "  1.8309803009033203,\n",
              "  1.7833125591278076,\n",
              "  1.7486339807510376,\n",
              "  1.7170450687408447,\n",
              "  1.6806882619857788,\n",
              "  1.6451632976531982,\n",
              "  1.6128921508789062,\n",
              "  1.5944992303848267,\n",
              "  1.5649054050445557,\n",
              "  1.5344054698944092,\n",
              "  1.5114260911941528,\n",
              "  1.478019118309021,\n",
              "  1.444794774055481,\n",
              "  1.4066312313079834,\n",
              "  1.4040961265563965,\n",
              "  1.3829575777053833,\n",
              "  1.346527338027954,\n",
              "  1.3085180521011353,\n",
              "  1.2991665601730347,\n",
              "  1.2743971347808838,\n",
              "  1.2483991384506226,\n",
              "  1.2278879880905151,\n",
              "  1.1998845338821411,\n",
              "  1.1805495023727417,\n",
              "  1.1589648723602295,\n",
              "  1.130708932876587,\n",
              "  1.1012837886810303,\n",
              "  1.093910574913025,\n",
              "  1.062530517578125,\n",
              "  1.0417901277542114,\n",
              "  1.0178582668304443,\n",
              "  0.994594931602478,\n",
              "  0.9787334203720093,\n",
              "  0.9493061304092407,\n",
              "  0.9397638440132141,\n",
              "  0.9207470417022705,\n",
              "  0.9078737497329712,\n",
              "  0.8889016509056091,\n",
              "  0.863599419593811,\n",
              "  0.8363382816314697,\n",
              "  0.8270467519760132,\n",
              "  0.796840488910675,\n",
              "  0.7933173775672913,\n",
              "  0.7795563340187073,\n",
              "  0.7471946477890015,\n",
              "  0.740469753742218,\n",
              "  0.7223283052444458,\n",
              "  0.7026671171188354,\n",
              "  0.6800300478935242,\n",
              "  0.6652258634567261,\n",
              "  0.6470726132392883,\n",
              "  0.6264583468437195,\n",
              "  0.6245071291923523,\n",
              "  0.6219658255577087,\n",
              "  0.5875955820083618],\n",
              " 'val_accuracy': [0.0,\n",
              "  0.0,\n",
              "  0.0,\n",
              "  0.0,\n",
              "  0.0,\n",
              "  0.0,\n",
              "  0.0,\n",
              "  0.0,\n",
              "  0.0,\n",
              "  0.0,\n",
              "  0.0,\n",
              "  0.00033333332976326346,\n",
              "  0.015333333052694798,\n",
              "  0.0020000000949949026,\n",
              "  0.029999999329447746,\n",
              "  0.1926666647195816,\n",
              "  0.11833333224058151,\n",
              "  0.04500000178813934,\n",
              "  0.43700000643730164,\n",
              "  0.17133332788944244,\n",
              "  0.3799999952316284,\n",
              "  0.15833333134651184,\n",
              "  0.5263333320617676,\n",
              "  0.5410000085830688,\n",
              "  0.5866666436195374,\n",
              "  0.5703333616256714,\n",
              "  0.609666645526886,\n",
              "  0.5950000286102295,\n",
              "  0.6303333044052124,\n",
              "  0.6166666746139526,\n",
              "  0.6320000290870667,\n",
              "  0.6486666798591614,\n",
              "  0.6483333110809326,\n",
              "  0.6583333611488342,\n",
              "  0.6803333163261414,\n",
              "  0.6506666541099548,\n",
              "  0.6763333082199097,\n",
              "  0.690666675567627,\n",
              "  0.6903333067893982,\n",
              "  0.7009999752044678,\n",
              "  0.6856666803359985,\n",
              "  0.7076666951179504,\n",
              "  0.6953333616256714,\n",
              "  0.699999988079071,\n",
              "  0.70333331823349,\n",
              "  0.7003333568572998,\n",
              "  0.7226666808128357,\n",
              "  0.7213333249092102,\n",
              "  0.7266666889190674,\n",
              "  0.7236666679382324,\n",
              "  0.7206666469573975,\n",
              "  0.7303333282470703,\n",
              "  0.7323333621025085,\n",
              "  0.7310000061988831,\n",
              "  0.7236666679382324,\n",
              "  0.7306666374206543,\n",
              "  0.7353333234786987,\n",
              "  0.7360000014305115,\n",
              "  0.7390000224113464,\n",
              "  0.7379999756813049,\n",
              "  0.7453333139419556,\n",
              "  0.7360000014305115,\n",
              "  0.7350000143051147,\n",
              "  0.7379999756813049,\n",
              "  0.7436666488647461,\n",
              "  0.7379999756813049,\n",
              "  0.7413333058357239,\n",
              "  0.750333309173584,\n",
              "  0.7463333606719971,\n",
              "  0.7419999837875366,\n",
              "  0.7483333349227905,\n",
              "  0.7453333139419556,\n",
              "  0.7473333477973938,\n",
              "  0.746999979019165,\n",
              "  0.749666690826416,\n",
              "  0.7523333430290222,\n",
              "  0.7513333559036255,\n",
              "  0.7506666779518127,\n",
              "  0.7493333220481873,\n",
              "  0.7563333511352539,\n",
              "  0.7536666393280029,\n",
              "  0.753000020980835,\n",
              "  0.7523333430290222,\n",
              "  0.7570000290870667,\n",
              "  0.7526666522026062,\n",
              "  0.753000020980835,\n",
              "  0.7549999952316284,\n",
              "  0.7506666779518127,\n",
              "  0.7526666522026062,\n",
              "  0.75],\n",
              " 'val_loss': [20.92569351196289,\n",
              "  20.856372833251953,\n",
              "  20.230812072753906,\n",
              "  20.124317169189453,\n",
              "  21.144145965576172,\n",
              "  18.626007080078125,\n",
              "  18.707822799682617,\n",
              "  31.260250091552734,\n",
              "  30.322961807250977,\n",
              "  22.856210708618164,\n",
              "  11.85002613067627,\n",
              "  6.611670017242432,\n",
              "  4.801805019378662,\n",
              "  5.804188251495361,\n",
              "  4.542431354522705,\n",
              "  3.4562177658081055,\n",
              "  3.610002040863037,\n",
              "  3.818138360977173,\n",
              "  2.7176389694213867,\n",
              "  3.3135921955108643,\n",
              "  2.803244113922119,\n",
              "  3.4437167644500732,\n",
              "  2.4170947074890137,\n",
              "  2.3781027793884277,\n",
              "  2.2847580909729004,\n",
              "  2.312319755554199,\n",
              "  2.205868721008301,\n",
              "  2.2013680934906006,\n",
              "  2.1602485179901123,\n",
              "  2.177767515182495,\n",
              "  2.1563405990600586,\n",
              "  2.0894594192504883,\n",
              "  2.085602283477783,\n",
              "  2.0716729164123535,\n",
              "  1.9971827268600464,\n",
              "  2.0417332649230957,\n",
              "  1.9732856750488281,\n",
              "  1.959983229637146,\n",
              "  1.9669685363769531,\n",
              "  1.9517854452133179,\n",
              "  1.944947600364685,\n",
              "  1.9048957824707031,\n",
              "  1.9662238359451294,\n",
              "  1.9374042749404907,\n",
              "  1.9347953796386719,\n",
              "  1.9139297008514404,\n",
              "  1.9112672805786133,\n",
              "  1.915679693222046,\n",
              "  1.9069406986236572,\n",
              "  1.9065361022949219,\n",
              "  1.9310411214828491,\n",
              "  1.8735195398330688,\n",
              "  1.8748725652694702,\n",
              "  1.865337610244751,\n",
              "  1.8993864059448242,\n",
              "  1.89921236038208,\n",
              "  1.910754680633545,\n",
              "  1.8817490339279175,\n",
              "  1.8917109966278076,\n",
              "  1.890635371208191,\n",
              "  1.9092345237731934,\n",
              "  1.924584984779358,\n",
              "  1.9121187925338745,\n",
              "  1.8930922746658325,\n",
              "  1.9273217916488647,\n",
              "  1.9428492784500122,\n",
              "  1.9666751623153687,\n",
              "  1.9069410562515259,\n",
              "  1.9358404874801636,\n",
              "  1.956771969795227,\n",
              "  1.9488831758499146,\n",
              "  1.9174662828445435,\n",
              "  1.9798741340637207,\n",
              "  1.9617729187011719,\n",
              "  1.9879662990570068,\n",
              "  1.964812994003296,\n",
              "  1.9640878438949585,\n",
              "  1.9617265462875366,\n",
              "  2.010873794555664,\n",
              "  1.9920240640640259,\n",
              "  2.0155246257781982,\n",
              "  2.001161575317383,\n",
              "  2.018784761428833,\n",
              "  2.043430805206299,\n",
              "  2.0518906116485596,\n",
              "  2.073279857635498,\n",
              "  2.0784029960632324,\n",
              "  2.0813207626342773,\n",
              "  2.1102447509765625,\n",
              "  2.080904006958008]}"
            ]
          },
          "metadata": {},
          "execution_count": 97
        }
      ]
    },
    {
      "cell_type": "code",
      "metadata": {
        "id": "9060f7b1",
        "colab": {
          "base_uri": "https://localhost:8080/"
        },
        "outputId": "75b8cc8b-e34c-4910-a4fa-d967f3b1d17e"
      },
      "source": [
        "print(\"Thetraing accuracy is: \",history_model.history['accuracy'])\n",
        "print(\"The validation loss is :\", history_model.history['val_loss'])\n",
        "print(\"The training loss is :\", history_model.history['loss'])"
      ],
      "id": "9060f7b1",
      "execution_count": 99,
      "outputs": [
        {
          "output_type": "stream",
          "name": "stdout",
          "text": [
            "Thetraing accuracy is:  [0.0, 0.0, 0.0, 0.0, 0.0, 0.0, 0.0, 0.0, 9.999999747378752e-05, 0.0038999998942017555, 0.014800000004470348, 0.033799998462200165, 0.06759999692440033, 0.10904999822378159, 0.15320000052452087, 0.18930000066757202, 0.23090000450611115, 0.27195000648498535, 0.30090001225471497, 0.3315500020980835, 0.36010000109672546, 0.38005000352859497, 0.4076499938964844, 0.42925000190734863, 0.44519999623298645, 0.4599500000476837, 0.4812999963760376, 0.4972499907016754, 0.5084999799728394, 0.5217499732971191, 0.5346500277519226, 0.5448499917984009, 0.5522500276565552, 0.5654000043869019, 0.5734000205993652, 0.5778999924659729, 0.5898500084877014, 0.5983999967575073, 0.6062999963760376, 0.6118000149726868, 0.6202499866485596, 0.6248999834060669, 0.6332499980926514, 0.6370499730110168, 0.6438000202178955, 0.6486499905586243, 0.6525999903678894, 0.6588500142097473, 0.6678500175476074, 0.6670500040054321, 0.6716499924659729, 0.6760500073432922, 0.6823999881744385, 0.6877999901771545, 0.6908000111579895, 0.6938999891281128, 0.6954500079154968, 0.7017999887466431, 0.7060999870300293, 0.7073000073432922, 0.7109500169754028, 0.7168999910354614, 0.7186999917030334, 0.723800003528595, 0.727649986743927, 0.7330999970436096, 0.7329999804496765, 0.7382500171661377, 0.7421500086784363, 0.7455999851226807, 0.7487000226974487, 0.7522000074386597, 0.753000020980835, 0.7595000267028809, 0.7609000205993652, 0.763700008392334, 0.7681499719619751, 0.7712000012397766, 0.774649977684021, 0.7784000039100647, 0.7788500189781189, 0.78329998254776, 0.7874000072479248, 0.7880499958992004, 0.7889999747276306, 0.7950999736785889, 0.8006500005722046, 0.8012999892234802, 0.8030999898910522, 0.8093500137329102]\n",
            "The validation loss is : [20.92569351196289, 20.856372833251953, 20.230812072753906, 20.124317169189453, 21.144145965576172, 18.626007080078125, 18.707822799682617, 31.260250091552734, 30.322961807250977, 22.856210708618164, 11.85002613067627, 6.611670017242432, 4.801805019378662, 5.804188251495361, 4.542431354522705, 3.4562177658081055, 3.610002040863037, 3.818138360977173, 2.7176389694213867, 3.3135921955108643, 2.803244113922119, 3.4437167644500732, 2.4170947074890137, 2.3781027793884277, 2.2847580909729004, 2.312319755554199, 2.205868721008301, 2.2013680934906006, 2.1602485179901123, 2.177767515182495, 2.1563405990600586, 2.0894594192504883, 2.085602283477783, 2.0716729164123535, 1.9971827268600464, 2.0417332649230957, 1.9732856750488281, 1.959983229637146, 1.9669685363769531, 1.9517854452133179, 1.944947600364685, 1.9048957824707031, 1.9662238359451294, 1.9374042749404907, 1.9347953796386719, 1.9139297008514404, 1.9112672805786133, 1.915679693222046, 1.9069406986236572, 1.9065361022949219, 1.9310411214828491, 1.8735195398330688, 1.8748725652694702, 1.865337610244751, 1.8993864059448242, 1.89921236038208, 1.910754680633545, 1.8817490339279175, 1.8917109966278076, 1.890635371208191, 1.9092345237731934, 1.924584984779358, 1.9121187925338745, 1.8930922746658325, 1.9273217916488647, 1.9428492784500122, 1.9666751623153687, 1.9069410562515259, 1.9358404874801636, 1.956771969795227, 1.9488831758499146, 1.9174662828445435, 1.9798741340637207, 1.9617729187011719, 1.9879662990570068, 1.964812994003296, 1.9640878438949585, 1.9617265462875366, 2.010873794555664, 1.9920240640640259, 2.0155246257781982, 2.001161575317383, 2.018784761428833, 2.043430805206299, 2.0518906116485596, 2.073279857635498, 2.0784029960632324, 2.0813207626342773, 2.1102447509765625, 2.080904006958008]\n",
            "The training loss is : [26.318035125732422, 20.244735717773438, 19.961883544921875, 19.68194007873535, 19.18361473083496, 18.002235412597656, 15.573097229003906, 12.354212760925293, 9.25618839263916, 7.045050144195557, 5.894545555114746, 5.152655601501465, 4.565190315246582, 4.1379618644714355, 3.7960991859436035, 3.5465774536132812, 3.321810483932495, 3.1263837814331055, 2.9965150356292725, 2.8530335426330566, 2.7421112060546875, 2.638062000274658, 2.537613868713379, 2.4521706104278564, 2.392519474029541, 2.3129513263702393, 2.2443151473999023, 2.1812705993652344, 2.1361429691314697, 2.070053815841675, 2.0330348014831543, 1.9840198755264282, 1.9453990459442139, 1.9099345207214355, 1.8634295463562012, 1.8309803009033203, 1.7833125591278076, 1.7486339807510376, 1.7170450687408447, 1.6806882619857788, 1.6451632976531982, 1.6128921508789062, 1.5944992303848267, 1.5649054050445557, 1.5344054698944092, 1.5114260911941528, 1.478019118309021, 1.444794774055481, 1.4066312313079834, 1.4040961265563965, 1.3829575777053833, 1.346527338027954, 1.3085180521011353, 1.2991665601730347, 1.2743971347808838, 1.2483991384506226, 1.2278879880905151, 1.1998845338821411, 1.1805495023727417, 1.1589648723602295, 1.130708932876587, 1.1012837886810303, 1.093910574913025, 1.062530517578125, 1.0417901277542114, 1.0178582668304443, 0.994594931602478, 0.9787334203720093, 0.9493061304092407, 0.9397638440132141, 0.9207470417022705, 0.9078737497329712, 0.8889016509056091, 0.863599419593811, 0.8363382816314697, 0.8270467519760132, 0.796840488910675, 0.7933173775672913, 0.7795563340187073, 0.7471946477890015, 0.740469753742218, 0.7223283052444458, 0.7026671171188354, 0.6800300478935242, 0.6652258634567261, 0.6470726132392883, 0.6264583468437195, 0.6245071291923523, 0.6219658255577087, 0.5875955820083618]\n"
          ]
        }
      ]
    },
    {
      "cell_type": "markdown",
      "metadata": {
        "id": "3d5fa6f7"
      },
      "source": [
        "# Check for testing data"
      ],
      "id": "3d5fa6f7"
    },
    {
      "cell_type": "code",
      "metadata": {
        "id": "2b7b86e5",
        "colab": {
          "base_uri": "https://localhost:8080/",
          "height": 171
        },
        "outputId": "ffd7a4c1-964b-4636-b610-94662d50e0ca"
      },
      "source": [
        "test = pd.read_csv('handwriting-recognition/written_name_test_v2.csv')\n",
        "plt.figure(figsize=(15, 10))\n",
        "for i in range(6):\n",
        "    ax = plt.subplot(2, 3, i+1)\n",
        "    img_dir = 'handwriting-recognition/test_v2/test/'+test.loc[i, 'FILENAME']\n",
        "    image = cv2.imread(img_dir, cv2.IMREAD_GRAYSCALE)\n",
        "    plt.imshow(image, cmap='gray')\n",
        "    \n",
        "    image = preprocess(image)\n",
        "    image = image/255.\n",
        "    pred = hwr_model.predict(image.reshape(1, 256, 64, 1))\n",
        "    decoded = K.get_value(K.ctc_decode(pred, input_length=np.ones(pred.shape[0])*pred.shape[1], \n",
        "                                       greedy=True)[0][0])\n",
        "    plt.title(number_to_label(decoded[0]), fontsize=12)\n",
        "    plt.axis('off')\n",
        "    \n",
        "plt.subplots_adjust(wspace=0.2, hspace=-0.8)"
      ],
      "id": "2b7b86e5",
      "execution_count": 101,
      "outputs": [
        {
          "output_type": "display_data",
          "data": {
            "image/png": "[encoded data removed]",
            "text/plain": [
              "<Figure size 1080x720 with 6 Axes>"
            ]
          },
          "metadata": {
            "needs_background": "light"
          }
        }
      ]
    },
    {
      "cell_type": "code",
      "metadata": {
        "id": "75f1d282"
      },
      "source": [
        "test_size = 5000"
      ],
      "id": "75f1d282",
      "execution_count": 102,
      "outputs": []
    },
    {
      "cell_type": "code",
      "metadata": {
        "id": "5e9901ab"
      },
      "source": [
        "test_x = []\n",
        "\n",
        "for i in range(test_size):\n",
        "    img_dir = 'handwriting-recognition/test_v2/test/'+test.loc[i, 'FILENAME']\n",
        "    image = cv2.imread(img_dir, cv2.IMREAD_GRAYSCALE)\n",
        "    image = preprocess(image)\n",
        "    image = image/255.\n",
        "    test_x.append(image)"
      ],
      "id": "5e9901ab",
      "execution_count": 103,
      "outputs": []
    },
    {
      "cell_type": "code",
      "metadata": {
        "id": "73dafa4c"
      },
      "source": [
        "test_x = np.array(test_x).reshape(-1, 256, 64, 1)"
      ],
      "id": "73dafa4c",
      "execution_count": 104,
      "outputs": []
    },
    {
      "cell_type": "code",
      "metadata": {
        "id": "25zIeoQDDmdW"
      },
      "source": [
        "ty_true = train.loc[0:train_size, 'IDENTITY']"
      ],
      "id": "25zIeoQDDmdW",
      "execution_count": 105,
      "outputs": []
    },
    {
      "cell_type": "code",
      "metadata": {
        "colab": {
          "base_uri": "https://localhost:8080/"
        },
        "id": "YrzmY0oaEnKM",
        "outputId": "2b2eb95f-5a1e-40cd-d055-c877fb6f70ab"
      },
      "source": [
        "print(ty_true)"
      ],
      "id": "YrzmY0oaEnKM",
      "execution_count": 106,
      "outputs": [
        {
          "output_type": "stream",
          "name": "stdout",
          "text": [
            "0        BALTHAZAR\n",
            "1            SIMON\n",
            "2            BENES\n",
            "3          LA LOVE\n",
            "4           DAPHNE\n",
            "           ...    \n",
            "19996     ANDREANE\n",
            "19997       BROQUA\n",
            "19998         LANN\n",
            "19999          LEA\n",
            "20000       MATHEO\n",
            "Name: IDENTITY, Length: 20001, dtype: object\n"
          ]
        }
      ]
    },
    {
      "cell_type": "code",
      "metadata": {
        "id": "5d3a4262",
        "colab": {
          "base_uri": "https://localhost:8080/",
          "height": 713
        },
        "outputId": "fdf378f2-35d8-480b-eef2-87d74f5da6af"
      },
      "source": [
        "for i in range(8,16):\n",
        "    img_dir = 'handwriting-recognition/test_v2/test/'+test.loc[i, 'FILENAME']\n",
        "    image = cv2.imread(img_dir, cv2.IMREAD_GRAYSCALE)\n",
        "    plt.imshow(image, cmap='gray')\n",
        "    image = preprocess(image)\n",
        "    image = image/255\n",
        "    pred = hwr_model.predict(image.reshape(1, 256, 64, 1))\n",
        "    decoded = K.get_value(K.ctc_decode(pred, input_length=np.ones(pred.shape[0])*pred.shape[1], \n",
        "                                   greedy=True)[0][0])\n",
        "    print(num_to_label(decoded[0]))\n",
        "    plt.show() "
      ],
      "id": "5d3a4262",
      "execution_count": 107,
      "outputs": [
        {
          "output_type": "stream",
          "name": "stdout",
          "text": [
            "THIBAULT\n"
          ]
        },
        {
          "output_type": "display_data",
          "data": {
            "image/png": "[encoded data removed]",
            "text/plain": [
              "<Figure size 432x288 with 1 Axes>"
            ]
          },
          "metadata": {
            "needs_background": "light"
          }
        },
        {
          "output_type": "stream",
          "name": "stdout",
          "text": [
            "AZADI\n"
          ]
        },
        {
          "output_type": "display_data",
          "data": {
            "image/png": "[encoded data removed]",
            "text/plain": [
              "<Figure size 432x288 with 1 Axes>"
            ]
          },
          "metadata": {
            "needs_background": "light"
          }
        },
        {
          "output_type": "stream",
          "name": "stdout",
          "text": [
            "GORTCMAKOF\n"
          ]
        },
        {
          "output_type": "display_data",
          "data": {
            "image/png": "[encoded data removed]",
            "text/plain": [
              "<Figure size 432x288 with 1 Axes>"
            ]
          },
          "metadata": {
            "needs_background": "light"
          }
        },
        {
          "output_type": "stream",
          "name": "stdout",
          "text": [
            "MAHENTHIAAN\n"
          ]
        },
        {
          "output_type": "display_data",
          "data": {
            "image/png": "[encoded data removed]",
            "text/plain": [
              "<Figure size 432x288 with 1 Axes>"
            ]
          },
          "metadata": {
            "needs_background": "light"
          }
        },
        {
          "output_type": "stream",
          "name": "stdout",
          "text": [
            "FRANEEISSSIEPH\n"
          ]
        },
        {
          "output_type": "display_data",
          "data": {
            "image/png": "[encoded data removed]",
            "text/plain": [
              "<Figure size 432x288 with 1 Axes>"
            ]
          },
          "metadata": {
            "needs_background": "light"
          }
        },
        {
          "output_type": "stream",
          "name": "stdout",
          "text": [
            "JEANNE\n"
          ]
        },
        {
          "output_type": "display_data",
          "data": {
            "image/png": "[encoded data removed]",
            "text/plain": [
              "<Figure size 432x288 with 1 Axes>"
            ]
          },
          "metadata": {
            "needs_background": "light"
          }
        },
        {
          "output_type": "stream",
          "name": "stdout",
          "text": [
            "DEBORAH\n"
          ]
        },
        {
          "output_type": "display_data",
          "data": {
            "image/png": "[encoded data removed]",
            "text/plain": [
              "<Figure size 432x288 with 1 Axes>"
            ]
          },
          "metadata": {
            "needs_background": "light"
          }
        },
        {
          "output_type": "stream",
          "name": "stdout",
          "text": [
            "DROUES\n"
          ]
        },
        {
          "output_type": "display_data",
          "data": {
            "image/png": "[encoded data removed]",
            "text/plain": [
              "<Figure size 432x288 with 1 Axes>"
            ]
          },
          "metadata": {
            "needs_background": "light"
          }
        }
      ]
    },
    {
      "cell_type": "markdown",
      "metadata": {
        "id": "abda8ba8"
      },
      "source": [
        "# Test model on random input images from testing dataset."
      ],
      "id": "abda8ba8"
    },
    {
      "cell_type": "code",
      "metadata": {
        "id": "3d58a6f8",
        "scrolled": true,
        "colab": {
          "base_uri": "https://localhost:8080/",
          "height": 87
        },
        "outputId": "5ec0f413-643b-43df-f118-cf436c720489"
      },
      "source": [
        "plt.figure(figsize=(5, 5))\n",
        "\n",
        "img_dir = \"handwriting-recognition/test_v2/test/TEST_0450.jpg\"\n",
        "image = cv2.imread(img_dir, cv2.IMREAD_GRAYSCALE)\n",
        "plt.imshow(image, cmap='gray')\n",
        "\n",
        "image = preprocess(image)\n",
        "image = image/255\n",
        "pred = hwr_model.predict(image.reshape(1, 256, 64, 1))\n",
        "decoded = K.get_value(K.ctc_decode(pred, input_length=np.ones(pred.shape[0])*pred.shape[1], \n",
        "                                   greedy=True)[0][0])\n",
        "print(number_to_label(decoded[0]))"
      ],
      "id": "3d58a6f8",
      "execution_count": 108,
      "outputs": [
        {
          "output_type": "stream",
          "name": "stdout",
          "text": [
            "CHRISTOPHE\n"
          ]
        },
        {
          "output_type": "display_data",
          "data": {
            "image/png": "[encoded data removed]",
            "text/plain": [
              "<Figure size 360x360 with 1 Axes>"
            ]
          },
          "metadata": {
            "needs_background": "light"
          }
        }
      ]
    },
    {
      "cell_type": "code",
      "metadata": {
        "id": "cfbe97b2",
        "colab": {
          "base_uri": "https://localhost:8080/",
          "height": 131
        },
        "outputId": "2fdb31f8-1a48-43b6-b91d-8721163170d3"
      },
      "source": [
        "plt.figure(figsize=(5, 5))\n",
        "\n",
        "img_dir = \"handwriting-recognition/test_v2/test/TEST_5000.jpg\"\n",
        "image = cv2.imread(img_dir, cv2.IMREAD_GRAYSCALE)\n",
        "plt.imshow(image, cmap='gray')\n",
        "\n",
        "image = preprocess(image)\n",
        "image = image/255\n",
        "pred = hwr_model.predict(image.reshape(1, 256, 64, 1))\n",
        "decoded = K.get_value(K.ctc_decode(pred, input_length=np.ones(pred.shape[0])*pred.shape[1], \n",
        "                                   greedy=True)[0][0])\n",
        "print(num_to_label(decoded[0]))"
      ],
      "id": "cfbe97b2",
      "execution_count": 109,
      "outputs": [
        {
          "output_type": "stream",
          "name": "stdout",
          "text": [
            "ADAM\n"
          ]
        },
        {
          "output_type": "display_data",
          "data": {
            "image/png": "[encoded data removed]",
            "text/plain": [
              "<Figure size 360x360 with 1 Axes>"
            ]
          },
          "metadata": {
            "needs_background": "light"
          }
        }
      ]
    },
    {
      "cell_type": "code",
      "metadata": {
        "id": "310628f8",
        "colab": {
          "base_uri": "https://localhost:8080/",
          "height": 99
        },
        "outputId": "b92bbbe4-2755-4d8a-8ee0-4c4bde31be28"
      },
      "source": [
        "plt.figure(figsize=(5, 5))\n",
        "\n",
        "img_dir = \"handwriting-recognition/test_v2/test/TEST_9520.jpg\"\n",
        "image = cv2.imread(img_dir, cv2.IMREAD_GRAYSCALE)\n",
        "plt.imshow(image, cmap='gray')\n",
        "\n",
        "image = preprocess(image)\n",
        "image = image/255\n",
        "pred = hwr_model.predict(image.reshape(1, 256, 64, 1))\n",
        "decoded = K.get_value(K.ctc_decode(pred, input_length=np.ones(pred.shape[0])*pred.shape[1], \n",
        "                                   greedy=True)[0][0])\n",
        "print(num_to_label(decoded[0]))"
      ],
      "id": "310628f8",
      "execution_count": 110,
      "outputs": [
        {
          "output_type": "stream",
          "name": "stdout",
          "text": [
            "LOUISON\n"
          ]
        },
        {
          "output_type": "display_data",
          "data": {
            "image/png": "[encoded data removed]",
            "text/plain": [
              "<Figure size 360x360 with 1 Axes>"
            ]
          },
          "metadata": {
            "needs_background": "light"
          }
        }
      ]
    },
    {
      "cell_type": "code",
      "metadata": {
        "colab": {
          "base_uri": "https://localhost:8080/"
        },
        "id": "eIMJAsXD-Wp8",
        "outputId": "b9e19902-2726-4223-ddd3-c5fab27b38ca"
      },
      "source": [
        "valid_x.shape"
      ],
      "id": "eIMJAsXD-Wp8",
      "execution_count": 111,
      "outputs": [
        {
          "output_type": "execute_result",
          "data": {
            "text/plain": [
              "(3000, 256, 64, 1)"
            ]
          },
          "metadata": {},
          "execution_count": 111
        }
      ]
    },
    {
      "cell_type": "markdown",
      "metadata": {
        "id": "i2tVEi0qGYQ_"
      },
      "source": [
        "# Accuracy using jaro and ratio."
      ],
      "id": "i2tVEi0qGYQ_"
    },
    {
      "cell_type": "code",
      "metadata": {
        "colab": {
          "base_uri": "https://localhost:8080/"
        },
        "id": "oxVGfD9b6cjS",
        "outputId": "fcdfb108-7d5d-425c-a999-b4100ddac8f3"
      },
      "source": [
        "pip install python-Levenshtein"
      ],
      "id": "oxVGfD9b6cjS",
      "execution_count": 115,
      "outputs": [
        {
          "output_type": "stream",
          "name": "stdout",
          "text": [
            "Collecting python-Levenshtein\n",
            "  Downloading python-Levenshtein-0.12.2.tar.gz (50 kB)\n",
            "\u001b[?25l\r\u001b[K     |██████▌                         | 10 kB 26.4 MB/s eta 0:00:01\r\u001b[K     |█████████████                   | 20 kB 22.8 MB/s eta 0:00:01\r\u001b[K     |███████████████████▌            | 30 kB 11.1 MB/s eta 0:00:01\r\u001b[K     |██████████████████████████      | 40 kB 8.6 MB/s eta 0:00:01\r\u001b[K     |████████████████████████████████| 50 kB 2.9 MB/s \n",
            "\u001b[?25hRequirement already satisfied: setuptools in /usr/local/lib/python3.7/dist-packages (from python-Levenshtein) (57.4.0)\n",
            "Building wheels for collected packages: python-Levenshtein\n",
            "  Building wheel for python-Levenshtein (setup.py) ... \u001b[?25l\u001b[?25hdone\n",
            "  Created wheel for python-Levenshtein: filename=python_Levenshtein-0.12.2-cp37-cp37m-linux_x86_64.whl size=149870 sha256=3fa7cc60e8138e3752e6dd27fb8203bb163e1b3bbb5abbf17b796b8b280e5257\n",
            "  Stored in directory: /root/.cache/pip/wheels/05/5f/ca/7c4367734892581bb5ff896f15027a932c551080b2abd3e00d\n",
            "Successfully built python-Levenshtein\n",
            "Installing collected packages: python-Levenshtein\n",
            "Successfully installed python-Levenshtein-0.12.2\n"
          ]
        }
      ]
    },
    {
      "cell_type": "code",
      "metadata": {
        "colab": {
          "base_uri": "https://localhost:8080/"
        },
        "id": "bpb50cMc5uOr",
        "outputId": "053ea2fc-a5a6-45dc-c9c7-ac3c3dd4bc25"
      },
      "source": [
        "hwr_model.load_weights(filepath)\n",
        "\n",
        "# predict outputs on validation images\n",
        "prediction = hwr_model.predict(valid_x)\n",
        " \n",
        "# use CTC decoder\n",
        "decoded = K.ctc_decode(prediction, \n",
        "                       input_length=np.ones(prediction.shape[0]) * prediction.shape[1],\n",
        "                       greedy=True)[0][0]\n",
        "out = K.get_value(decoded)\n",
        "\n",
        "import Levenshtein as lv\n",
        "\n",
        "total_jaro = 0\n",
        "total_rati = 0\n",
        "# see the results\n",
        "for i, x in enumerate(out):\n",
        "    letters=''\n",
        "    for p in x:\n",
        "        if int(p) != -1:\n",
        "            letters+=alphabets_list[int(p)]\n",
        "    total_jaro+=lv.jaro(letters, y_true[i])\n",
        "    total_rati+=lv.ratio(letters, y_true[i])\n",
        "out = len(out)\n",
        "\n",
        "print('jaro : ', (total_jaro/out))\n",
        "print('ratio:', total_rati/out)"
      ],
      "id": "bpb50cMc5uOr",
      "execution_count": 116,
      "outputs": [
        {
          "output_type": "stream",
          "name": "stdout",
          "text": [
            "jaro :  0.9636138159589116\n",
            "ratio: 0.9511718114943216\n"
          ]
        }
      ]
    },
    {
      "cell_type": "code",
      "metadata": {
        "colab": {
          "base_uri": "https://localhost:8080/"
        },
        "id": "LGFRtPyfDRso",
        "outputId": "be3b2fe1-e9ef-4cd8-ae1c-db26d2b362ba"
      },
      "source": [
        "# predict outputs on validation images\n",
        "prediction = hwr_model.predict(train_x[150:170])\n",
        " \n",
        "# use CTC decoder\n",
        "decoded = K.ctc_decode(prediction,   \n",
        "                       input_length=np.ones(prediction.shape[0]) * prediction.shape[1],\n",
        "                       greedy=True)[0][0]\n",
        "\n",
        "out = K.get_value(decoded)\n",
        "i = 0\n",
        "# see the results\n",
        "for i, x in enumerate(out):\n",
        "    print(\"original_text =  \", ty_true[150+i])\n",
        "    print(\"predicted text = \", end = '')\n",
        "    for p in x:\n",
        "        if int(p) != -1:\n",
        "            print(alphabets_list[int(p)], end = '')\n",
        "    print('\\n')"
      ],
      "id": "LGFRtPyfDRso",
      "execution_count": 118,
      "outputs": [
        {
          "output_type": "stream",
          "name": "stdout",
          "text": [
            "original_text =   ANDRE\n",
            "predicted text = ANDRE\n",
            "\n",
            "original_text =   LILI\n",
            "predicted text = LILIO\n",
            "\n",
            "original_text =   RICK\n",
            "predicted text = RICK\n",
            "\n",
            "original_text =   ORLANNE\n",
            "predicted text = ORLANNE\n",
            "\n",
            "original_text =   EWEN\n",
            "predicted text = EWEN\n",
            "\n",
            "original_text =   BOGLARKA\n",
            "predicted text = BOOLARKA\n",
            "\n",
            "original_text =   GUST\n",
            "predicted text = GUST\n",
            "\n",
            "original_text =   LIUUT\n",
            "predicted text = MIUUTY\n",
            "\n",
            "original_text =   DJAVID\n",
            "predicted text = DJAVID\n",
            "\n",
            "original_text =   MARGAUX\n",
            "predicted text = MARGAUX\n",
            "\n",
            "original_text =   DHULU\n",
            "predicted text = DHULU\n",
            "\n",
            "original_text =   CADWAL\n",
            "predicted text = CADWAL\n",
            "\n",
            "original_text =   WATTIEZ\n",
            "predicted text = WATTIEZ\n",
            "\n",
            "original_text =   CORDON\n",
            "predicted text = CORDON\n",
            "\n",
            "original_text =   QUENTIN\n",
            "predicted text = QUENTIN\n",
            "\n",
            "original_text =   RAYAN\n",
            "predicted text = RAYAN\n",
            "\n",
            "original_text =   THOMAS\n",
            "predicted text = THOMAS\n",
            "\n",
            "original_text =   CUCHERIL\n",
            "predicted text = CUCHERIL\n",
            "\n",
            "original_text =   LOUIS\n",
            "predicted text = LOUIS\n",
            "\n",
            "original_text =   ELINE\n",
            "predicted text = ELINE\n",
            "\n"
          ]
        }
      ]
    },
    {
      "cell_type": "code",
      "metadata": {
        "id": "pEMMjy7t7EI2"
      },
      "source": [
        "def plotgraph(epochs, acc, val_acc):\n",
        "    # Plot training & validation accuracy values\n",
        "    plt.plot(epochs, acc, 'b')\n",
        "    plt.plot(epochs, val_acc, 'r')\n",
        "    plt.title('Model accuracy')\n",
        "    plt.ylabel('Accuracy')\n",
        "    plt.xlabel('Epoch')\n",
        "    plt.legend(['Train', 'Val'], loc='upper left')\n",
        "    plt.show()"
      ],
      "id": "pEMMjy7t7EI2",
      "execution_count": 123,
      "outputs": []
    },
    {
      "cell_type": "code",
      "metadata": {
        "id": "3HgmWl-h70A6"
      },
      "source": [
        "acc = history_model.history['accuracy']\n",
        "val_acc = history_model.history['val_accuracy']\n",
        "loss = history_model.history['loss']\n",
        "val_loss = history_model.history['val_loss']\n",
        "epochs = range(1,len(loss)+1)"
      ],
      "id": "3HgmWl-h70A6",
      "execution_count": 124,
      "outputs": []
    },
    {
      "cell_type": "code",
      "metadata": {
        "colab": {
          "base_uri": "https://localhost:8080/",
          "height": 295
        },
        "id": "xEuC0Cez75D_",
        "outputId": "7a90130f-7bcb-4ea9-9195-5d9d0746b722"
      },
      "source": [
        "plotgraph(epochs, loss, val_loss)"
      ],
      "id": "xEuC0Cez75D_",
      "execution_count": 125,
      "outputs": [
        {
          "output_type": "display_data",
          "data": {
            "image/png": "[encoded data removed]",
            "text/plain": [
              "<Figure size 432x288 with 1 Axes>"
            ]
          },
          "metadata": {
            "needs_background": "light"
          }
        }
      ]
    },
    {
      "cell_type": "code",
      "metadata": {
        "colab": {
          "base_uri": "https://localhost:8080/",
          "height": 295
        },
        "id": "_1qiWqnd7-yF",
        "outputId": "11c7ebde-b48b-4fd7-8cb6-a67817495f8d"
      },
      "source": [
        "plotgraph(epochs, acc, val_acc)"
      ],
      "id": "_1qiWqnd7-yF",
      "execution_count": 126,
      "outputs": [
        {
          "output_type": "display_data",
          "data": {
            "image/png": "[encoded data removed]",
            "text/plain": [
              "<Figure size 432x288 with 1 Axes>"
            ]
          },
          "metadata": {
            "needs_background": "light"
          }
        }
      ]
    },
    {
      "cell_type": "code",
      "metadata": {
        "id": "U8IAihi08C0c"
      },
      "source": [
        "# get best model index\n",
        "minimum_val_loss = np.min(history_model.history['val_loss'])\n",
        "best_model_index = np.where(history_model.history['val_loss'] == minimum_val_loss)[0][0]\n",
        "\n",
        "best_loss = str(history_model.history['loss'][best_model_index])\n",
        "best_acc = str(history_model.history['accuracy'][best_model_index])\n",
        "best_val_loss = str(history_model.history['val_loss'][best_model_index])\n",
        "best_val_acc = str(history_model.history['val_accuracy'][best_model_index])"
      ],
      "id": "U8IAihi08C0c",
      "execution_count": 128,
      "outputs": []
    },
    {
      "cell_type": "code",
      "metadata": {
        "id": "IqpbtJ098HOQ"
      },
      "source": [
        "with open('history.txt', 'a') as f:\n",
        "    new_data = '{},{},{},{},{},{},{},{}\\n'.format(filepath, \n",
        "                                                      optimizer_name, \n",
        "                                                      str(train_x.shape[0]),\n",
        "                                                      str(valid_x.shape[0]), \n",
        "                                                      best_loss, \n",
        "                                                      best_acc, \n",
        "                                                      best_val_loss, \n",
        "                                                      best_val_acc)\n",
        "    f.write(new_data)"
      ],
      "id": "IqpbtJ098HOQ",
      "execution_count": 129,
      "outputs": []
    }
  ]
}