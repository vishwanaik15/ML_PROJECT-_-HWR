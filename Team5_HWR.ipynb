{
  "nbformat": 4,
  "nbformat_minor": 5,
  "metadata": {
    "accelerator": "GPU",
    "colab": {
      "name": "Team5_HWR.ipynb",
      "provenance": [],
      "collapsed_sections": [
        "9985c10e"
      ],
      "include_colab_link": true
    },
    "kernelspec": {
      "display_name": "Python 3 (ipykernel)",
      "language": "python",
      "name": "python3"
    },
    "language_info": {
      "codemirror_mode": {
        "name": "ipython",
        "version": 3
      },
      "file_extension": ".py",
      "mimetype": "text/x-python",
      "name": "python",
      "nbconvert_exporter": "python",
      "pygments_lexer": "ipython3",
      "version": "3.8.12"
    }
  },
  "cells": [
    {
      "cell_type": "markdown",
      "metadata": {
        "id": "view-in-github",
        "colab_type": "text"
      },
      "source": [
        "<a href=\"https://colab.research.google.com/github/vishwanaik15/ML_PROJECT-_-HWR/blob/main/Team5_HWR.ipynb\" target=\"_parent\"><img src=\"https://colab.research.google.com/assets/colab-badge.svg\" alt=\"Open In Colab\"/></a>"
      ]
    },
    {
      "cell_type": "markdown",
      "metadata": {
        "id": "ff3415a2"
      },
      "source": [
        "\n",
        "# Term Project\n",
        "\n",
        "Deep Learning:\n",
        "Object Detection on images:  Handwriting Recognization\n",
        "\n",
        "Dataset : Handwrirng Recognization(Dataset From Kaggle)\n",
        "\n",
        "Name: Vishwa Naik (1001871311)\n",
        "Name: Tirth Patel (1001869576)"
      ],
      "id": "ff3415a2"
    },
    {
      "cell_type": "code",
      "metadata": {
        "id": "cRLbTP3uur1y",
        "colab": {
          "base_uri": "https://localhost:8080/"
        },
        "outputId": "b3950e15-a19f-4ef7-d7b6-a46f5d6efa3c"
      },
      "source": [
        "from google.colab import drive\n",
        "drive.mount('/content/drive/')"
      ],
      "id": "cRLbTP3uur1y",
      "execution_count": 1,
      "outputs": [
        {
          "output_type": "stream",
          "name": "stdout",
          "text": [
            "Mounted at /content/drive/\n"
          ]
        }
      ]
    },
    {
      "cell_type": "code",
      "metadata": {
        "id": "4efcf6e7"
      },
      "source": [
        "import os\n",
        "import cv2\n",
        "import random\n",
        "import numpy as np\n",
        "import pandas as pd\n",
        "import matplotlib.pyplot as plt\n",
        "import keras\n",
        "\n",
        "import tensorflow as tf\n",
        "from keras import backend as K\n",
        "from keras.models import Model\n",
        "from keras.layers import Input, Conv2D, MaxPooling2D, Reshape, Bidirectional, LSTM, Dense, Lambda, Activation, BatchNormalization, Dropout\n",
        "from tensorflow.keras.optimizers import Adam\n",
        "from keras.preprocessing.sequence import pad_sequences\n",
        "from keras.activations import relu, sigmoid, softmax\n",
        "import keras.backend as K\n",
        "from keras.callbacks import ModelCheckpoint\n",
        "from sklearn.model_selection import train_test_split\n",
        "from sklearn.preprocessing import MinMaxScaler\n"
      ],
      "id": "4efcf6e7",
      "execution_count": 2,
      "outputs": []
    },
    {
      "cell_type": "markdown",
      "metadata": {
        "id": "59967a1d"
      },
      "source": [
        "#  Load Dataset from Kaggle"
      ],
      "id": "59967a1d"
    },
    {
      "cell_type": "code",
      "metadata": {
        "colab": {
          "base_uri": "https://localhost:8080/"
        },
        "id": "27058204",
        "outputId": "41c17400-37f0-448e-d9f6-98929e8cf7f2"
      },
      "source": [
        "!pip install opendatasets"
      ],
      "id": "27058204",
      "execution_count": 3,
      "outputs": [
        {
          "output_type": "stream",
          "name": "stdout",
          "text": [
            "Collecting opendatasets\n",
            "  Downloading opendatasets-0.1.20-py3-none-any.whl (14 kB)\n",
            "Requirement already satisfied: click in /usr/local/lib/python3.7/dist-packages (from opendatasets) (7.1.2)\n",
            "Requirement already satisfied: kaggle in /usr/local/lib/python3.7/dist-packages (from opendatasets) (1.5.12)\n",
            "Requirement already satisfied: tqdm in /usr/local/lib/python3.7/dist-packages (from opendatasets) (4.62.3)\n",
            "Requirement already satisfied: python-slugify in /usr/local/lib/python3.7/dist-packages (from kaggle->opendatasets) (5.0.2)\n",
            "Requirement already satisfied: urllib3 in /usr/local/lib/python3.7/dist-packages (from kaggle->opendatasets) (1.24.3)\n",
            "Requirement already satisfied: requests in /usr/local/lib/python3.7/dist-packages (from kaggle->opendatasets) (2.23.0)\n",
            "Requirement already satisfied: certifi in /usr/local/lib/python3.7/dist-packages (from kaggle->opendatasets) (2021.10.8)\n",
            "Requirement already satisfied: python-dateutil in /usr/local/lib/python3.7/dist-packages (from kaggle->opendatasets) (2.8.2)\n",
            "Requirement already satisfied: six>=1.10 in /usr/local/lib/python3.7/dist-packages (from kaggle->opendatasets) (1.15.0)\n",
            "Requirement already satisfied: text-unidecode>=1.3 in /usr/local/lib/python3.7/dist-packages (from python-slugify->kaggle->opendatasets) (1.3)\n",
            "Requirement already satisfied: idna<3,>=2.5 in /usr/local/lib/python3.7/dist-packages (from requests->kaggle->opendatasets) (2.10)\n",
            "Requirement already satisfied: chardet<4,>=3.0.2 in /usr/local/lib/python3.7/dist-packages (from requests->kaggle->opendatasets) (3.0.4)\n",
            "Installing collected packages: opendatasets\n",
            "Successfully installed opendatasets-0.1.20\n"
          ]
        }
      ]
    },
    {
      "cell_type": "code",
      "metadata": {
        "id": "93bcdd8c"
      },
      "source": [
        "import opendatasets as od\n"
      ],
      "id": "93bcdd8c",
      "execution_count": 4,
      "outputs": []
    },
    {
      "cell_type": "code",
      "metadata": {
        "colab": {
          "base_uri": "https://localhost:8080/"
        },
        "id": "4042daa2",
        "outputId": "6144e8b4-b516-462b-bfa1-64ab3b9ff263"
      },
      "source": [
        "od.download(\"https://www.kaggle.com/landlord/handwriting-recognition\")"
      ],
      "id": "4042daa2",
      "execution_count": 5,
      "outputs": [
        {
          "output_type": "stream",
          "name": "stdout",
          "text": [
            "Please provide your Kaggle credentials to download this dataset. Learn more: http://bit.ly/kaggle-creds\n",
            "Your Kaggle username: vish15898\n",
            "Your Kaggle Key: ··········\n",
            "Downloading handwriting-recognition.zip to ./handwriting-recognition\n"
          ]
        },
        {
          "output_type": "stream",
          "name": "stderr",
          "text": [
            "100%|██████████| 1.26G/1.26G [00:27<00:00, 49.3MB/s]\n"
          ]
        },
        {
          "output_type": "stream",
          "name": "stdout",
          "text": [
            "\n"
          ]
        }
      ]
    },
    {
      "cell_type": "markdown",
      "metadata": {
        "id": "0db4825c"
      },
      "source": [
        "# Data Load and View"
      ],
      "id": "0db4825c"
    },
    {
      "cell_type": "markdown",
      "metadata": {
        "id": "3y7qa172ryuB"
      },
      "source": [
        ""
      ],
      "id": "3y7qa172ryuB"
    },
    {
      "cell_type": "code",
      "metadata": {
        "id": "08def251"
      },
      "source": [
        "train = pd.read_csv('handwriting-recognition/written_name_train_v2.csv')\n",
        "valid = pd.read_csv('handwriting-recognition/written_name_validation_v2.csv')\n",
        "test = pd.read_csv('handwriting-recognition/written_name_test_v2.csv')"
      ],
      "id": "08def251",
      "execution_count": 6,
      "outputs": []
    },
    {
      "cell_type": "code",
      "metadata": {
        "colab": {
          "base_uri": "https://localhost:8080/",
          "height": 224
        },
        "id": "92533917",
        "outputId": "98fb4e14-aacf-4638-a9fe-5a4a8d46c9e8"
      },
      "source": [
        "print(\"Length of train data: \",len(train))\n",
        "train.head()"
      ],
      "id": "92533917",
      "execution_count": 7,
      "outputs": [
        {
          "output_type": "stream",
          "name": "stdout",
          "text": [
            "Length of train data:  330961\n"
          ]
        },
        {
          "output_type": "execute_result",
          "data": {
            "text/html": [
              "<div>\n",
              "<style scoped>\n",
              "    .dataframe tbody tr th:only-of-type {\n",
              "        vertical-align: middle;\n",
              "    }\n",
              "\n",
              "    .dataframe tbody tr th {\n",
              "        vertical-align: top;\n",
              "    }\n",
              "\n",
              "    .dataframe thead th {\n",
              "        text-align: right;\n",
              "    }\n",
              "</style>\n",
              "<table border=\"1\" class=\"dataframe\">\n",
              "  <thead>\n",
              "    <tr style=\"text-align: right;\">\n",
              "      <th></th>\n",
              "      <th>FILENAME</th>\n",
              "      <th>IDENTITY</th>\n",
              "    </tr>\n",
              "  </thead>\n",
              "  <tbody>\n",
              "    <tr>\n",
              "      <th>0</th>\n",
              "      <td>TRAIN_00001.jpg</td>\n",
              "      <td>BALTHAZAR</td>\n",
              "    </tr>\n",
              "    <tr>\n",
              "      <th>1</th>\n",
              "      <td>TRAIN_00002.jpg</td>\n",
              "      <td>SIMON</td>\n",
              "    </tr>\n",
              "    <tr>\n",
              "      <th>2</th>\n",
              "      <td>TRAIN_00003.jpg</td>\n",
              "      <td>BENES</td>\n",
              "    </tr>\n",
              "    <tr>\n",
              "      <th>3</th>\n",
              "      <td>TRAIN_00004.jpg</td>\n",
              "      <td>LA LOVE</td>\n",
              "    </tr>\n",
              "    <tr>\n",
              "      <th>4</th>\n",
              "      <td>TRAIN_00005.jpg</td>\n",
              "      <td>DAPHNE</td>\n",
              "    </tr>\n",
              "  </tbody>\n",
              "</table>\n",
              "</div>"
            ],
            "text/plain": [
              "          FILENAME   IDENTITY\n",
              "0  TRAIN_00001.jpg  BALTHAZAR\n",
              "1  TRAIN_00002.jpg      SIMON\n",
              "2  TRAIN_00003.jpg      BENES\n",
              "3  TRAIN_00004.jpg    LA LOVE\n",
              "4  TRAIN_00005.jpg     DAPHNE"
            ]
          },
          "metadata": {},
          "execution_count": 7
        }
      ]
    },
    {
      "cell_type": "code",
      "metadata": {
        "colab": {
          "base_uri": "https://localhost:8080/",
          "height": 224
        },
        "id": "abf1bb8f",
        "outputId": "da05daf9-29b9-4f00-bf15-8bdd3656ca94"
      },
      "source": [
        "print(\"Length of test data: \",len(test))\n",
        "test.head()"
      ],
      "id": "abf1bb8f",
      "execution_count": 8,
      "outputs": [
        {
          "output_type": "stream",
          "name": "stdout",
          "text": [
            "Length of test data:  41370\n"
          ]
        },
        {
          "output_type": "execute_result",
          "data": {
            "text/html": [
              "<div>\n",
              "<style scoped>\n",
              "    .dataframe tbody tr th:only-of-type {\n",
              "        vertical-align: middle;\n",
              "    }\n",
              "\n",
              "    .dataframe tbody tr th {\n",
              "        vertical-align: top;\n",
              "    }\n",
              "\n",
              "    .dataframe thead th {\n",
              "        text-align: right;\n",
              "    }\n",
              "</style>\n",
              "<table border=\"1\" class=\"dataframe\">\n",
              "  <thead>\n",
              "    <tr style=\"text-align: right;\">\n",
              "      <th></th>\n",
              "      <th>FILENAME</th>\n",
              "      <th>IDENTITY</th>\n",
              "    </tr>\n",
              "  </thead>\n",
              "  <tbody>\n",
              "    <tr>\n",
              "      <th>0</th>\n",
              "      <td>TEST_0001.jpg</td>\n",
              "      <td>KEVIN</td>\n",
              "    </tr>\n",
              "    <tr>\n",
              "      <th>1</th>\n",
              "      <td>TEST_0002.jpg</td>\n",
              "      <td>CLOTAIRE</td>\n",
              "    </tr>\n",
              "    <tr>\n",
              "      <th>2</th>\n",
              "      <td>TEST_0003.jpg</td>\n",
              "      <td>LENA</td>\n",
              "    </tr>\n",
              "    <tr>\n",
              "      <th>3</th>\n",
              "      <td>TEST_0004.jpg</td>\n",
              "      <td>JULES</td>\n",
              "    </tr>\n",
              "    <tr>\n",
              "      <th>4</th>\n",
              "      <td>TEST_0005.jpg</td>\n",
              "      <td>CHERPIN</td>\n",
              "    </tr>\n",
              "  </tbody>\n",
              "</table>\n",
              "</div>"
            ],
            "text/plain": [
              "        FILENAME  IDENTITY\n",
              "0  TEST_0001.jpg     KEVIN\n",
              "1  TEST_0002.jpg  CLOTAIRE\n",
              "2  TEST_0003.jpg      LENA\n",
              "3  TEST_0004.jpg     JULES\n",
              "4  TEST_0005.jpg   CHERPIN"
            ]
          },
          "metadata": {},
          "execution_count": 8
        }
      ]
    },
    {
      "cell_type": "code",
      "metadata": {
        "colab": {
          "base_uri": "https://localhost:8080/",
          "height": 224
        },
        "id": "94be0162",
        "outputId": "b942f876-c0db-4547-e2ca-fadc7fca14ed"
      },
      "source": [
        "print(\"Length of valid data: \",len(valid))\n",
        "valid.head()"
      ],
      "id": "94be0162",
      "execution_count": 9,
      "outputs": [
        {
          "output_type": "stream",
          "name": "stdout",
          "text": [
            "Length of valid data:  41370\n"
          ]
        },
        {
          "output_type": "execute_result",
          "data": {
            "text/html": [
              "<div>\n",
              "<style scoped>\n",
              "    .dataframe tbody tr th:only-of-type {\n",
              "        vertical-align: middle;\n",
              "    }\n",
              "\n",
              "    .dataframe tbody tr th {\n",
              "        vertical-align: top;\n",
              "    }\n",
              "\n",
              "    .dataframe thead th {\n",
              "        text-align: right;\n",
              "    }\n",
              "</style>\n",
              "<table border=\"1\" class=\"dataframe\">\n",
              "  <thead>\n",
              "    <tr style=\"text-align: right;\">\n",
              "      <th></th>\n",
              "      <th>FILENAME</th>\n",
              "      <th>IDENTITY</th>\n",
              "    </tr>\n",
              "  </thead>\n",
              "  <tbody>\n",
              "    <tr>\n",
              "      <th>0</th>\n",
              "      <td>VALIDATION_0001.jpg</td>\n",
              "      <td>BILEL</td>\n",
              "    </tr>\n",
              "    <tr>\n",
              "      <th>1</th>\n",
              "      <td>VALIDATION_0002.jpg</td>\n",
              "      <td>LAUMIONIER</td>\n",
              "    </tr>\n",
              "    <tr>\n",
              "      <th>2</th>\n",
              "      <td>VALIDATION_0003.jpg</td>\n",
              "      <td>LEA</td>\n",
              "    </tr>\n",
              "    <tr>\n",
              "      <th>3</th>\n",
              "      <td>VALIDATION_0004.jpg</td>\n",
              "      <td>JEAN-ROCH</td>\n",
              "    </tr>\n",
              "    <tr>\n",
              "      <th>4</th>\n",
              "      <td>VALIDATION_0005.jpg</td>\n",
              "      <td>RUPP</td>\n",
              "    </tr>\n",
              "  </tbody>\n",
              "</table>\n",
              "</div>"
            ],
            "text/plain": [
              "              FILENAME    IDENTITY\n",
              "0  VALIDATION_0001.jpg       BILEL\n",
              "1  VALIDATION_0002.jpg  LAUMIONIER\n",
              "2  VALIDATION_0003.jpg         LEA\n",
              "3  VALIDATION_0004.jpg   JEAN-ROCH\n",
              "4  VALIDATION_0005.jpg        RUPP"
            ]
          },
          "metadata": {},
          "execution_count": 9
        }
      ]
    },
    {
      "cell_type": "markdown",
      "metadata": {
        "id": "fac49dd1"
      },
      "source": [
        "##  View Train image data"
      ],
      "id": "fac49dd1"
    },
    {
      "cell_type": "code",
      "metadata": {
        "colab": {
          "base_uri": "https://localhost:8080/",
          "height": 154
        },
        "id": "5ac708a3",
        "outputId": "8fef81e9-91dd-4043-f2f8-337618a1acea"
      },
      "source": [
        "plt.figure(figsize=(15, 10))\n",
        "\n",
        "for i in range(8):\n",
        "    ax = plt.subplot(3, 4, i+1)\n",
        "    image_dir = 'handwriting-recognition/train_v2/train/'+train.loc[i, 'FILENAME']\n",
        "    image = cv2.imread(image_dir, cv2.IMREAD_GRAYSCALE)\n",
        "    plt.imshow(image, cmap = 'gray')\n",
        "    plt.title(train.loc[i, 'IDENTITY'], fontsize=12)\n",
        "    plt.axis('off')\n",
        "\n",
        "plt.subplots_adjust(wspace=0.2, hspace=-0.8)"
      ],
      "id": "5ac708a3",
      "execution_count": 10,
      "outputs": [
        {
          "output_type": "display_data",
          "data": {
            "image/png": "[encoded data removed]",
            "text/plain": [
              "<Figure size 1080x720 with 8 Axes>"
            ]
          },
          "metadata": {
            "needs_background": "light"
          }
        }
      ]
    },
    {
      "cell_type": "code",
      "metadata": {
        "colab": {
          "base_uri": "https://localhost:8080/",
          "height": 147
        },
        "id": "reV--7Nn0wgE",
        "outputId": "02a54738-350e-4f26-f8f4-e89b86b41151"
      },
      "source": [
        "plt.figure(figsize=(15, 10))\n",
        "\n",
        "for i in range(8):\n",
        "    ax = plt.subplot(3, 4, i+1)\n",
        "    image_dir = 'handwriting-recognition/validation_v2/validation/'+valid.loc[i, 'FILENAME']\n",
        "    image = cv2.imread(image_dir, cv2.IMREAD_GRAYSCALE)\n",
        "    plt.imshow(image, cmap = 'gray')\n",
        "    plt.title(valid.loc[i, 'IDENTITY'], fontsize=12)\n",
        "    plt.axis('off')\n",
        "\n",
        "plt.subplots_adjust(wspace=0.2, hspace=-0.8)"
      ],
      "id": "reV--7Nn0wgE",
      "execution_count": 11,
      "outputs": [
        {
          "output_type": "display_data",
          "data": {
            "image/png": "[encoded data removed]",
            "text/plain": [
              "<Figure size 1080x720 with 8 Axes>"
            ]
          },
          "metadata": {
            "needs_background": "light"
          }
        }
      ]
    },
    {
      "cell_type": "markdown",
      "metadata": {
        "id": "ac185620"
      },
      "source": [
        "# Data Cleaning\n",
        "   \n",
        "   Using .isnull() : Find null values\n",
        "   Using .dropna() : Drop null values."
      ],
      "id": "ac185620"
    },
    {
      "cell_type": "code",
      "metadata": {
        "colab": {
          "base_uri": "https://localhost:8080/"
        },
        "id": "7f1da1f8",
        "outputId": "1cded83d-ae5e-4571-868e-a6e2309ea578"
      },
      "source": [
        "print(\"Number of NaNs in train set      : \", train['IDENTITY'].isnull().sum())\n",
        "print(\"Number of NaNs in validation set : \", valid['IDENTITY'].isnull().sum())"
      ],
      "id": "7f1da1f8",
      "execution_count": 12,
      "outputs": [
        {
          "output_type": "stream",
          "name": "stdout",
          "text": [
            "Number of NaNs in train set      :  565\n",
            "Number of NaNs in validation set :  78\n"
          ]
        }
      ]
    },
    {
      "cell_type": "code",
      "metadata": {
        "id": "09249b4a"
      },
      "source": [
        "train.dropna(axis=0, inplace=True)\n",
        "valid.dropna(axis=0, inplace=True)"
      ],
      "id": "09249b4a",
      "execution_count": 13,
      "outputs": []
    },
    {
      "cell_type": "code",
      "metadata": {
        "id": "340651e1"
      },
      "source": [
        "train = train.dropna()\n",
        "valid = valid.dropna()"
      ],
      "id": "340651e1",
      "execution_count": 14,
      "outputs": []
    },
    {
      "cell_type": "code",
      "metadata": {
        "colab": {
          "base_uri": "https://localhost:8080/"
        },
        "id": "b61d8b18",
        "outputId": "7ad397f7-3c49-480c-c380-28530ae59f42"
      },
      "source": [
        "print(\"Number of NaNs in train set      : \", train['IDENTITY'].isnull().sum())\n",
        "print(\"Number of NaNs in validation set : \", valid['IDENTITY'].isnull().sum())"
      ],
      "id": "b61d8b18",
      "execution_count": 15,
      "outputs": [
        {
          "output_type": "stream",
          "name": "stdout",
          "text": [
            "Number of NaNs in train set      :  0\n",
            "Number of NaNs in validation set :  0\n"
          ]
        }
      ]
    },
    {
      "cell_type": "code",
      "metadata": {
        "colab": {
          "base_uri": "https://localhost:8080/"
        },
        "id": "7e3d1680",
        "outputId": "33699956-a625-4457-a8e4-0cdd7cd05f44"
      },
      "source": [
        "print(\"Length of train data: \",len(train))\n",
        "print(\"Length of valid data: \",len(valid))"
      ],
      "id": "7e3d1680",
      "execution_count": 16,
      "outputs": [
        {
          "output_type": "stream",
          "name": "stdout",
          "text": [
            "Length of train data:  330396\n",
            "Length of valid data:  41292\n"
          ]
        }
      ]
    },
    {
      "cell_type": "markdown",
      "metadata": {
        "id": "624c86f6"
      },
      "source": [
        "Dataset some images labeled as UNREADABLE .\n",
        "Find those image and remove."
      ],
      "id": "624c86f6"
    },
    {
      "cell_type": "code",
      "metadata": {
        "colab": {
          "base_uri": "https://localhost:8080/",
          "height": 166
        },
        "id": "26a578db",
        "outputId": "eb040b29-2047-4446-a6a1-3c026c0ed49c"
      },
      "source": [
        "unreadable = train[train['IDENTITY'] == 'UNREADABLE']\n",
        "unreadable.reset_index(inplace = True, drop=True)\n",
        "\n",
        "plt.figure(figsize=(15, 10))\n",
        "\n",
        "for i in range(6):\n",
        "    ax = plt.subplot(2, 3, i+1)\n",
        "    img_dir = 'handwriting-recognition/train_v2/train/'+unreadable.loc[i, 'FILENAME']\n",
        "    image = cv2.imread(img_dir, cv2.IMREAD_GRAYSCALE)\n",
        "    plt.imshow(image, cmap = 'gray')\n",
        "    plt.title(unreadable.loc[i, 'IDENTITY'], fontsize=12)\n",
        "    plt.axis('off')\n",
        "\n",
        "plt.subplots_adjust(wspace=0.2, hspace=-0.8)"
      ],
      "id": "26a578db",
      "execution_count": 17,
      "outputs": [
        {
          "output_type": "display_data",
          "data": {
            "image/png": "[encoded data removed]",
            "text/plain": [
              "<Figure size 1080x720 with 6 Axes>"
            ]
          },
          "metadata": {
            "needs_background": "light"
          }
        }
      ]
    },
    {
      "cell_type": "markdown",
      "metadata": {
        "id": "df79af09"
      },
      "source": [
        "Remove UNREADABLE imaged."
      ],
      "id": "df79af09"
    },
    {
      "cell_type": "code",
      "metadata": {
        "id": "42cb8119"
      },
      "source": [
        "train = train[train['IDENTITY'] != 'UNREADABLE']\n",
        "valid = valid[valid['IDENTITY'] != 'UNREADABLE']"
      ],
      "id": "42cb8119",
      "execution_count": 18,
      "outputs": []
    },
    {
      "cell_type": "code",
      "metadata": {
        "id": "a53a7391"
      },
      "source": [
        "train['IDENTITY'] = train['IDENTITY'].str.upper()\n",
        "valid['IDENTITY'] = valid['IDENTITY'].str.upper()"
      ],
      "id": "a53a7391",
      "execution_count": 19,
      "outputs": []
    },
    {
      "cell_type": "code",
      "metadata": {
        "id": "a246db51"
      },
      "source": [
        "train.reset_index(inplace = True, drop=True) \n",
        "valid.reset_index(inplace = True, drop=True)"
      ],
      "id": "a246db51",
      "execution_count": 20,
      "outputs": []
    },
    {
      "cell_type": "code",
      "metadata": {
        "colab": {
          "base_uri": "https://localhost:8080/"
        },
        "id": "QVnC8fXl_c25",
        "outputId": "5c7f37ec-5a44-495f-f996-d77848a8b235"
      },
      "source": [
        "train.shape"
      ],
      "id": "QVnC8fXl_c25",
      "execution_count": 21,
      "outputs": [
        {
          "output_type": "execute_result",
          "data": {
            "text/plain": [
              "(330294, 2)"
            ]
          },
          "metadata": {},
          "execution_count": 21
        }
      ]
    },
    {
      "cell_type": "markdown",
      "metadata": {
        "id": "663c02d0"
      },
      "source": [
        "# Data Preprocessing"
      ],
      "id": "663c02d0"
    },
    {
      "cell_type": "markdown",
      "metadata": {
        "id": "79fb42df"
      },
      "source": [
        "-Load image as grayscle (color ranges from 0 to 255 different shades varying from white to black).\n",
        "-Reshape all the images .(Height 64 and Width 256).\n",
        "-Image size set to 256 width and 64 height and small images padded with white pixels.\n",
        "-Rotate Image clockwise to make image shape [x,y].\n",
        "-Made a preprocess function to run on both train and valid images."
      ],
      "id": "79fb42df"
    },
    {
      "cell_type": "code",
      "metadata": {
        "id": "0b96d8ec"
      },
      "source": [
        "def preprocess(img):\n",
        "    (h, w) = img.shape\n",
        "    \n",
        "    final_img = np.ones([64, 256])*255 # blank white image\n",
        "    \n",
        "    # crop\n",
        "    if w > 256:\n",
        "        img = img[:, :256]\n",
        "        \n",
        "    if h > 64:\n",
        "        img = img[:64, :]\n",
        "    \n",
        "    \n",
        "    final_img[:h, :w] = img\n",
        "    return cv2.rotate(final_img, cv2.ROTATE_90_CLOCKWISE)"
      ],
      "id": "0b96d8ec",
      "execution_count": 22,
      "outputs": []
    },
    {
      "cell_type": "markdown",
      "metadata": {
        "id": "230d0c8e"
      },
      "source": [
        "The model is trained on 15000 images and validate on 1500 images and will be tested on 30000"
      ],
      "id": "230d0c8e"
    },
    {
      "cell_type": "code",
      "metadata": {
        "id": "72f0aedb"
      },
      "source": [
        "train_size = 20000\n",
        "valid_size= 3000"
      ],
      "id": "72f0aedb",
      "execution_count": 23,
      "outputs": []
    },
    {
      "cell_type": "code",
      "metadata": {
        "id": "fc7d273e"
      },
      "source": [
        "train_x = []\n",
        "\n",
        "for i in range(train_size):\n",
        "    img_dir = 'handwriting-recognition/train_v2/train/'+train.loc[i, 'FILENAME']\n",
        "    image = cv2.imread(img_dir, cv2.IMREAD_GRAYSCALE)\n",
        "    image = preprocess(image)\n",
        "    image = image/255.\n",
        "    train_x.append(image)"
      ],
      "id": "fc7d273e",
      "execution_count": 24,
      "outputs": []
    },
    {
      "cell_type": "code",
      "metadata": {
        "id": "fc458840"
      },
      "source": [
        "valid_x = []\n",
        "\n",
        "for i in range(valid_size):\n",
        "    img_dir = 'handwriting-recognition/validation_v2/validation/'+valid.loc[i, 'FILENAME']\n",
        "    image = cv2.imread(img_dir, cv2.IMREAD_GRAYSCALE)\n",
        "    image = preprocess(image)\n",
        "    image = image/255.\n",
        "    valid_x.append(image)"
      ],
      "id": "fc458840",
      "execution_count": 25,
      "outputs": []
    },
    {
      "cell_type": "code",
      "metadata": {
        "id": "81ab3cfc"
      },
      "source": [
        "train_x = np.array(train_x).reshape(-1, 256, 64, 1)\n",
        "valid_x = np.array(valid_x).reshape(-1, 256, 64, 1)"
      ],
      "id": "81ab3cfc",
      "execution_count": 26,
      "outputs": []
    },
    {
      "cell_type": "markdown",
      "metadata": {
        "id": "93f851d5"
      },
      "source": [
        "# Preparing the labels"
      ],
      "id": "93f851d5"
    },
    {
      "cell_type": "markdown",
      "metadata": {
        "id": "5305af24"
      },
      "source": [
        "The lables are converted into numbers reprenting character in the training set "
      ],
      "id": "5305af24"
    },
    {
      "cell_type": "code",
      "metadata": {
        "id": "4b25f07f"
      },
      "source": [
        "alphabets_list = u\"ABCDEFGHIJKLMNOPQRSTUVWXYZ-' \"\n",
        "maximum_string_length = 24 \n",
        "number_of_characters = len(alphabets_list) + 1 \n",
        "number_of_timestamps = 64 \n",
        "\n",
        "\n",
        "def label_to_number(label):\n",
        "    label_number = []\n",
        "    for character in label:\n",
        "        label_number.append(alphabets_list.find(character))\n",
        "        \n",
        "    return np.array(label_number)\n",
        "\n",
        "def number_to_label(number):\n",
        "    vn = \"\"\n",
        "    for character in number:\n",
        "        if character == -1:  \n",
        "            break\n",
        "        else:\n",
        "            vn+=alphabets_list[character]\n",
        "    return vn"
      ],
      "id": "4b25f07f",
      "execution_count": 43,
      "outputs": []
    },
    {
      "cell_type": "code",
      "metadata": {
        "colab": {
          "base_uri": "https://localhost:8080/"
        },
        "id": "f159fb77",
        "outputId": "b1a2f603-8527-4825-bf8f-b78d757050d8"
      },
      "source": [
        "print(\"Check for a name (charater from number matrix): \")\n",
        "data = 'BALTHAZAR'\n",
        "print(data, '\\n',label_to_number(data))"
      ],
      "id": "f159fb77",
      "execution_count": 28,
      "outputs": [
        {
          "output_type": "stream",
          "name": "stdout",
          "text": [
            "Check for a name (charater from number matrix): \n",
            "BALTHAZAR \n",
            " [ 1  0 11 19  7  0 25  0 17]\n"
          ]
        }
      ]
    },
    {
      "cell_type": "code",
      "metadata": {
        "id": "44622576"
      },
      "source": [
        "train_y = np.ones([train_size, maximum_string_length]) * -1\n",
        "train_label_length = np.zeros([train_size, 1])\n",
        "train_input_length = np.ones([train_size, 1]) * (number_of_timestamps-2)\n",
        "train_output = np.zeros([train_size])\n",
        "\n",
        "for i in range(train_size):\n",
        "    train_label_length[i] = len(train.loc[i, 'IDENTITY'])\n",
        "    train_y[i, 0:len(train.loc[i, 'IDENTITY'])]= label_to_number(train.loc[i, 'IDENTITY'])   "
      ],
      "id": "44622576",
      "execution_count": 29,
      "outputs": []
    },
    {
      "cell_type": "code",
      "metadata": {
        "id": "243ecc1f"
      },
      "source": [
        "valid_y = np.ones([valid_size, maximum_string_length]) * -1\n",
        "valid_label_length = np.zeros([valid_size, 1])\n",
        "valid_input_length = np.ones([valid_size, 1]) * (number_of_timestamps-2)\n",
        "valid_output = np.zeros([valid_size])\n",
        "\n",
        "for i in range(valid_size):\n",
        "    valid_label_length[i] = len(valid.loc[i, 'IDENTITY'])\n",
        "    valid_y[i, 0:len(valid.loc[i, 'IDENTITY'])]= label_to_number(valid.loc[i, 'IDENTITY'])  "
      ],
      "id": "243ecc1f",
      "execution_count": 31,
      "outputs": []
    },
    {
      "cell_type": "code",
      "metadata": {
        "colab": {
          "base_uri": "https://localhost:8080/"
        },
        "id": "80aa2176",
        "scrolled": true,
        "outputId": "10f3d0b7-8133-4d6f-c16c-ba8117d50cdb"
      },
      "source": [
        "print('True label : ',train.loc[100, 'IDENTITY'] , '\\ntrain_y : ',train_y[100],'\\ntrain_label_length : ',train_label_length[100], \n",
        "      '\\ntrain_input_length : ', train_input_length[100])"
      ],
      "id": "80aa2176",
      "execution_count": 32,
      "outputs": [
        {
          "output_type": "stream",
          "name": "stdout",
          "text": [
            "True label :  NOUR \n",
            "train_y :  [13. 14. 20. 17. -1. -1. -1. -1. -1. -1. -1. -1. -1. -1. -1. -1. -1. -1.\n",
            " -1. -1. -1. -1. -1. -1.] \n",
            "train_label_length :  [4.] \n",
            "train_input_length :  [62.]\n"
          ]
        }
      ]
    },
    {
      "cell_type": "markdown",
      "metadata": {
        "id": "ae913ccf"
      },
      "source": [
        "# Model Building\n",
        "CNN with 5 layers and then pass output to RNN."
      ],
      "id": "ae913ccf"
    },
    {
      "cell_type": "code",
      "metadata": {
        "colab": {
          "base_uri": "https://localhost:8080/"
        },
        "id": "ed5d3822",
        "outputId": "8ae46c07-90f4-42ec-e09d-84648ab3f643"
      },
      "source": [
        "# MODEL CNN & RNN\n",
        "input_dataset= Input(shape=(256, 64, 1), name='Input')\n",
        "# Layer 1\n",
        "x = Conv2D(32, (3, 3), padding='same', name='conv1', kernel_initializer='he_normal')(input_dataset)  \n",
        "x = BatchNormalization()(x)\n",
        "x = Activation('relu')(x)\n",
        "x = MaxPooling2D(pool_size=(2, 2), name='max1')(x)\n",
        "#Layer 2\n",
        "x = Conv2D(64, (3, 3), padding='same', name='conv2', kernel_initializer='he_normal')(x)\n",
        "x = BatchNormalization()(x)\n",
        "x = Activation('relu')(x)\n",
        "x = MaxPooling2D(pool_size=(2, 2), name='max2')(x)\n",
        "x = Dropout(0.3)(x)\n",
        "# Layer 3\n",
        "x = Conv2D(128, (3, 3), padding='same', name='conv3', kernel_initializer='he_normal')(x)\n",
        "x = BatchNormalization()(x)\n",
        "x = Activation('relu')(x)\n",
        "x = MaxPooling2D(pool_size=(1, 2), name='max3')(x)\n",
        "x = Dropout(0.3)(x)\n",
        "# Layer 4\n",
        "x = Conv2D(256, (3, 3), padding='same', name='conv4', kernel_initializer='he_normal')(x)\n",
        "x = BatchNormalization()(x)\n",
        "x = Activation('relu')(x)\n",
        "x = MaxPooling2D(pool_size=(1, 2), name='max4')(x)\n",
        "x = Dropout(0.3)(x)\n",
        "# Layer 5\n",
        "x = Conv2D(512, (3, 3), padding='same', name='conv5', kernel_initializer='he_normal')(x)\n",
        "x = BatchNormalization()(x)\n",
        "x = Activation('relu')(x)\n",
        "x = MaxPooling2D(pool_size=(1, 2), name='max5')(x)\n",
        "x = Dropout(0.3)(x)\n",
        "\n",
        "# CNN to RNN\n",
        "x = Reshape(target_shape=((64, 1024)), name='reshape')(x)\n",
        "x = Dense(64, activation='relu', kernel_initializer='he_normal', name='dense1')(x)\n",
        "\n",
        "## RNN\n",
        "x = Bidirectional(LSTM(256, return_sequences=True), name = 'lstm1')(x)\n",
        "x = Bidirectional(LSTM(256, return_sequences=True), name = 'lstm2')(x)\n",
        "\n",
        "  ## OUTPUT\n",
        "x = Dense(number_of_characters, kernel_initializer='he_normal',name='dense2')(x)\n",
        "y_pred = Activation('softmax', name='softmax')(x)\n",
        "\n",
        "hwr_model = Model(inputs=input_dataset, outputs=y_pred)\n",
        "hwr_model.summary()\n",
        "\n"
      ],
      "id": "ed5d3822",
      "execution_count": 34,
      "outputs": [
        {
          "output_type": "stream",
          "name": "stdout",
          "text": [
            "Model: \"model\"\n",
            "_________________________________________________________________\n",
            " Layer (type)                Output Shape              Param #   \n",
            "=================================================================\n",
            " Input (InputLayer)          [(None, 256, 64, 1)]      0         \n",
            "                                                                 \n",
            " conv1 (Conv2D)              (None, 256, 64, 32)       320       \n",
            "                                                                 \n",
            " batch_normalization_5 (Batc  (None, 256, 64, 32)      128       \n",
            " hNormalization)                                                 \n",
            "                                                                 \n",
            " activation_5 (Activation)   (None, 256, 64, 32)       0         \n",
            "                                                                 \n",
            " max1 (MaxPooling2D)         (None, 128, 32, 32)       0         \n",
            "                                                                 \n",
            " conv2 (Conv2D)              (None, 128, 32, 64)       18496     \n",
            "                                                                 \n",
            " batch_normalization_6 (Batc  (None, 128, 32, 64)      256       \n",
            " hNormalization)                                                 \n",
            "                                                                 \n",
            " activation_6 (Activation)   (None, 128, 32, 64)       0         \n",
            "                                                                 \n",
            " max2 (MaxPooling2D)         (None, 64, 16, 64)        0         \n",
            "                                                                 \n",
            " dropout_4 (Dropout)         (None, 64, 16, 64)        0         \n",
            "                                                                 \n",
            " conv3 (Conv2D)              (None, 64, 16, 128)       73856     \n",
            "                                                                 \n",
            " batch_normalization_7 (Batc  (None, 64, 16, 128)      512       \n",
            " hNormalization)                                                 \n",
            "                                                                 \n",
            " activation_7 (Activation)   (None, 64, 16, 128)       0         \n",
            "                                                                 \n",
            " max3 (MaxPooling2D)         (None, 64, 8, 128)        0         \n",
            "                                                                 \n",
            " dropout_5 (Dropout)         (None, 64, 8, 128)        0         \n",
            "                                                                 \n",
            " conv4 (Conv2D)              (None, 64, 8, 256)        295168    \n",
            "                                                                 \n",
            " batch_normalization_8 (Batc  (None, 64, 8, 256)       1024      \n",
            " hNormalization)                                                 \n",
            "                                                                 \n",
            " activation_8 (Activation)   (None, 64, 8, 256)        0         \n",
            "                                                                 \n",
            " max4 (MaxPooling2D)         (None, 64, 4, 256)        0         \n",
            "                                                                 \n",
            " dropout_6 (Dropout)         (None, 64, 4, 256)        0         \n",
            "                                                                 \n",
            " conv5 (Conv2D)              (None, 64, 4, 512)        1180160   \n",
            "                                                                 \n",
            " batch_normalization_9 (Batc  (None, 64, 4, 512)       2048      \n",
            " hNormalization)                                                 \n",
            "                                                                 \n",
            " activation_9 (Activation)   (None, 64, 4, 512)        0         \n",
            "                                                                 \n",
            " max5 (MaxPooling2D)         (None, 64, 2, 512)        0         \n",
            "                                                                 \n",
            " dropout_7 (Dropout)         (None, 64, 2, 512)        0         \n",
            "                                                                 \n",
            " reshape (Reshape)           (None, 64, 1024)          0         \n",
            "                                                                 \n",
            " dense1 (Dense)              (None, 64, 64)            65600     \n",
            "                                                                 \n",
            " lstm1 (Bidirectional)       (None, 64, 512)           657408    \n",
            "                                                                 \n",
            " lstm2 (Bidirectional)       (None, 64, 512)           1574912   \n",
            "                                                                 \n",
            " dense2 (Dense)              (None, 64, 30)            15390     \n",
            "                                                                 \n",
            " softmax (Activation)        (None, 64, 30)            0         \n",
            "                                                                 \n",
            "=================================================================\n",
            "Total params: 3,885,278\n",
            "Trainable params: 3,883,294\n",
            "Non-trainable params: 1,984\n",
            "_________________________________________________________________\n"
          ]
        }
      ]
    },
    {
      "cell_type": "markdown",
      "metadata": {
        "id": "OCgfSEhKce79"
      },
      "source": [
        "#Loss Fuction\n",
        "\n",
        "Here we have taken CTC loss fuction used in text recognization.\n",
        "For our code we have made custom CTC loss function to take 4 input and output loss and then further used for training and testing with our model."
      ],
      "id": "OCgfSEhKce79"
    },
    {
      "cell_type": "code",
      "metadata": {
        "id": "LbVLvpN9IJv6"
      },
      "source": [
        "def ctc_lambda_func(args):\n",
        "    y_pred, labels, input_length, label_length = args\n",
        "    y_pred = y_pred[:, 2:, :]\n",
        "    return K.ctc_batch_cost(labels, y_pred, input_length, label_length)"
      ],
      "id": "LbVLvpN9IJv6",
      "execution_count": 35,
      "outputs": []
    },
    {
      "cell_type": "code",
      "metadata": {
        "id": "xfRpcEyfIA25"
      },
      "source": [
        "labels = Input(name='ground_truth_labels', shape=[maximum_string_length], dtype='float32')\n",
        "input_length = Input(name='input_length', shape=[1], dtype='int64')\n",
        "label_length = Input(name='label_length', shape=[1], dtype='int64')\n",
        "\n",
        "ctc_loss_output = Lambda(ctc_lambda_func, output_shape=(1,), name='ctc')([y_pred, labels, input_length, label_length])\n",
        "hwr_model_final = Model(inputs=[input_dataset, labels, input_length, label_length], outputs=ctc_loss_output)"
      ],
      "id": "xfRpcEyfIA25",
      "execution_count": 37,
      "outputs": []
    },
    {
      "cell_type": "markdown",
      "metadata": {
        "id": "Xk1HSPO1dexg"
      },
      "source": [
        "## Model train\n",
        "\n",
        "For model trainng we will use Adam optimizer.Also added the keras callback funtion tp store the weights of best model considering validation loss."
      ],
      "id": "Xk1HSPO1dexg"
    },
    {
      "cell_type": "code",
      "metadata": {
        "id": "LgiTTvjjifLP"
      },
      "source": [
        "epochs = 90\n",
        "batch_size = 128\n",
        "optimizer_name = 'Adam'"
      ],
      "id": "LgiTTvjjifLP",
      "execution_count": 38,
      "outputs": []
    },
    {
      "cell_type": "code",
      "metadata": {
        "id": "qATFs95giulz"
      },
      "source": [
        "hwr_model_final.compile(loss={'ctc': lambda y_true, y_pred: y_pred}, optimizer=Adam(learning_rate = 0.0001),metrics=['accuracy'])\n",
        "filepath=\"{}o-{}r-.hdf5\".format(optimizer_name,str(epochs))\n",
        "\n",
        "checkpoint = ModelCheckpoint(filepath=filepath, monitor='val_loss', verbose=1, save_best_only=True, mode='auto')\n",
        "callbacks_list = [checkpoint]"
      ],
      "id": "qATFs95giulz",
      "execution_count": 39,
      "outputs": []
    },
    {
      "cell_type": "code",
      "metadata": {
        "colab": {
          "base_uri": "https://localhost:8080/"
        },
        "id": "lTYAkD4c7xG4",
        "outputId": "3684ea50-fb2d-413e-887d-779f699b522b"
      },
      "source": [
        "# Train the model\n",
        "history_model = hwr_model_final.fit(x=[train_x, train_y, train_input_length, train_label_length], y=train_output, \n",
        "                validation_data=([valid_x, valid_y, valid_input_length, valid_label_length], valid_output),\n",
        "                epochs=epochs, batch_size=batch_size,callbacks=callbacks_list,verbose=1)"
      ],
      "id": "lTYAkD4c7xG4",
      "execution_count": 40,
      "outputs": [
        {
          "output_type": "stream",
          "name": "stdout",
          "text": [
            "Epoch 1/90\n",
            "157/157 [==============================] - ETA: 0s - loss: 25.8321 - accuracy: 0.0000e+00\n",
            "Epoch 00001: val_loss improved from inf to 21.25120, saving model to Adamo-90r-.hdf5\n",
            "157/157 [==============================] - 120s 510ms/step - loss: 25.8321 - accuracy: 0.0000e+00 - val_loss: 21.2512 - val_accuracy: 0.0000e+00\n",
            "Epoch 2/90\n",
            "157/157 [==============================] - ETA: 0s - loss: 20.2271 - accuracy: 0.0000e+00\n",
            "Epoch 00002: val_loss did not improve from 21.25120\n",
            "157/157 [==============================] - 76s 484ms/step - loss: 20.2271 - accuracy: 0.0000e+00 - val_loss: 21.4961 - val_accuracy: 0.0000e+00\n",
            "Epoch 3/90\n",
            "157/157 [==============================] - ETA: 0s - loss: 19.9120 - accuracy: 0.0000e+00\n",
            "Epoch 00003: val_loss improved from 21.25120 to 20.37224, saving model to Adamo-90r-.hdf5\n",
            "157/157 [==============================] - 76s 486ms/step - loss: 19.9120 - accuracy: 0.0000e+00 - val_loss: 20.3722 - val_accuracy: 0.0000e+00\n",
            "Epoch 4/90\n",
            "157/157 [==============================] - ETA: 0s - loss: 19.4330 - accuracy: 0.0000e+00\n",
            "Epoch 00004: val_loss improved from 20.37224 to 19.28765, saving model to Adamo-90r-.hdf5\n",
            "157/157 [==============================] - 76s 486ms/step - loss: 19.4330 - accuracy: 0.0000e+00 - val_loss: 19.2876 - val_accuracy: 0.0000e+00\n",
            "Epoch 5/90\n",
            "157/157 [==============================] - ETA: 0s - loss: 18.2897 - accuracy: 0.0000e+00\n",
            "Epoch 00005: val_loss improved from 19.28765 to 18.25031, saving model to Adamo-90r-.hdf5\n",
            "157/157 [==============================] - 76s 486ms/step - loss: 18.2897 - accuracy: 0.0000e+00 - val_loss: 18.2503 - val_accuracy: 0.0000e+00\n",
            "Epoch 6/90\n",
            "157/157 [==============================] - ETA: 0s - loss: 16.5079 - accuracy: 0.0000e+00\n",
            "Epoch 00006: val_loss improved from 18.25031 to 16.11731, saving model to Adamo-90r-.hdf5\n",
            "157/157 [==============================] - 76s 486ms/step - loss: 16.5079 - accuracy: 0.0000e+00 - val_loss: 16.1173 - val_accuracy: 0.0000e+00\n",
            "Epoch 7/90\n",
            "157/157 [==============================] - ETA: 0s - loss: 13.8949 - accuracy: 0.0000e+00\n",
            "Epoch 00007: val_loss improved from 16.11731 to 13.10869, saving model to Adamo-90r-.hdf5\n",
            "157/157 [==============================] - 76s 487ms/step - loss: 13.8949 - accuracy: 0.0000e+00 - val_loss: 13.1087 - val_accuracy: 0.0000e+00\n",
            "Epoch 8/90\n",
            "157/157 [==============================] - ETA: 0s - loss: 10.9107 - accuracy: 0.0000e+00\n",
            "Epoch 00008: val_loss did not improve from 13.10869\n",
            "157/157 [==============================] - 76s 486ms/step - loss: 10.9107 - accuracy: 0.0000e+00 - val_loss: 13.1867 - val_accuracy: 0.0000e+00\n",
            "Epoch 9/90\n",
            "157/157 [==============================] - ETA: 0s - loss: 7.9813 - accuracy: 0.0010\n",
            "Epoch 00009: val_loss did not improve from 13.10869\n",
            "157/157 [==============================] - 76s 485ms/step - loss: 7.9813 - accuracy: 0.0010 - val_loss: 31.8806 - val_accuracy: 0.0000e+00\n",
            "Epoch 10/90\n",
            "157/157 [==============================] - ETA: 0s - loss: 5.9563 - accuracy: 0.0142\n",
            "Epoch 00010: val_loss did not improve from 13.10869\n",
            "157/157 [==============================] - 76s 485ms/step - loss: 5.9563 - accuracy: 0.0142 - val_loss: 19.6399 - val_accuracy: 0.0000e+00\n",
            "Epoch 11/90\n",
            "157/157 [==============================] - ETA: 0s - loss: 4.9847 - accuracy: 0.0435\n",
            "Epoch 00011: val_loss did not improve from 13.10869\n",
            "157/157 [==============================] - 76s 483ms/step - loss: 4.9847 - accuracy: 0.0435 - val_loss: 23.3947 - val_accuracy: 0.0000e+00\n",
            "Epoch 12/90\n",
            "157/157 [==============================] - ETA: 0s - loss: 4.3588 - accuracy: 0.0820\n",
            "Epoch 00012: val_loss did not improve from 13.10869\n",
            "157/157 [==============================] - 76s 484ms/step - loss: 4.3588 - accuracy: 0.0820 - val_loss: 13.6821 - val_accuracy: 0.0000e+00\n",
            "Epoch 13/90\n",
            "157/157 [==============================] - ETA: 0s - loss: 3.9209 - accuracy: 0.1291\n",
            "Epoch 00013: val_loss improved from 13.10869 to 9.39716, saving model to Adamo-90r-.hdf5\n",
            "157/157 [==============================] - 76s 486ms/step - loss: 3.9209 - accuracy: 0.1291 - val_loss: 9.3972 - val_accuracy: 3.3333e-04\n",
            "Epoch 14/90\n",
            "157/157 [==============================] - ETA: 0s - loss: 3.5798 - accuracy: 0.1752\n",
            "Epoch 00014: val_loss improved from 9.39716 to 6.98857, saving model to Adamo-90r-.hdf5\n",
            "157/157 [==============================] - 76s 484ms/step - loss: 3.5798 - accuracy: 0.1752 - val_loss: 6.9886 - val_accuracy: 6.6667e-04\n",
            "Epoch 15/90\n",
            "157/157 [==============================] - ETA: 0s - loss: 3.3186 - accuracy: 0.2273\n",
            "Epoch 00015: val_loss improved from 6.98857 to 3.73364, saving model to Adamo-90r-.hdf5\n",
            "157/157 [==============================] - 76s 486ms/step - loss: 3.3186 - accuracy: 0.2273 - val_loss: 3.7336 - val_accuracy: 0.0730\n",
            "Epoch 16/90\n",
            "157/157 [==============================] - ETA: 0s - loss: 3.1032 - accuracy: 0.2700\n",
            "Epoch 00016: val_loss improved from 3.73364 to 3.59467, saving model to Adamo-90r-.hdf5\n",
            "157/157 [==============================] - 76s 485ms/step - loss: 3.1032 - accuracy: 0.2700 - val_loss: 3.5947 - val_accuracy: 0.0750\n",
            "Epoch 17/90\n",
            "157/157 [==============================] - ETA: 0s - loss: 2.9278 - accuracy: 0.3025\n",
            "Epoch 00017: val_loss improved from 3.59467 to 3.21874, saving model to Adamo-90r-.hdf5\n",
            "157/157 [==============================] - 76s 486ms/step - loss: 2.9278 - accuracy: 0.3025 - val_loss: 3.2187 - val_accuracy: 0.1653\n",
            "Epoch 18/90\n",
            "157/157 [==============================] - ETA: 0s - loss: 2.7883 - accuracy: 0.3387\n",
            "Epoch 00018: val_loss improved from 3.21874 to 2.63824, saving model to Adamo-90r-.hdf5\n",
            "157/157 [==============================] - 76s 484ms/step - loss: 2.7883 - accuracy: 0.3387 - val_loss: 2.6382 - val_accuracy: 0.4637\n",
            "Epoch 19/90\n",
            "157/157 [==============================] - ETA: 0s - loss: 2.6646 - accuracy: 0.3724\n",
            "Epoch 00019: val_loss did not improve from 2.63824\n",
            "157/157 [==============================] - 76s 482ms/step - loss: 2.6646 - accuracy: 0.3724 - val_loss: 2.6544 - val_accuracy: 0.4677\n",
            "Epoch 20/90\n",
            "157/157 [==============================] - ETA: 0s - loss: 2.5369 - accuracy: 0.4009\n",
            "Epoch 00020: val_loss improved from 2.63824 to 2.41641, saving model to Adamo-90r-.hdf5\n",
            "157/157 [==============================] - 76s 485ms/step - loss: 2.5369 - accuracy: 0.4009 - val_loss: 2.4164 - val_accuracy: 0.5507\n",
            "Epoch 21/90\n",
            "157/157 [==============================] - ETA: 0s - loss: 2.4641 - accuracy: 0.4200\n",
            "Epoch 00021: val_loss improved from 2.41641 to 2.29079, saving model to Adamo-90r-.hdf5\n",
            "157/157 [==============================] - 76s 484ms/step - loss: 2.4641 - accuracy: 0.4200 - val_loss: 2.2908 - val_accuracy: 0.5767\n",
            "Epoch 22/90\n",
            "157/157 [==============================] - ETA: 0s - loss: 2.3778 - accuracy: 0.4419\n",
            "Epoch 00022: val_loss did not improve from 2.29079\n",
            "157/157 [==============================] - 76s 484ms/step - loss: 2.3778 - accuracy: 0.4419 - val_loss: 2.4850 - val_accuracy: 0.5017\n",
            "Epoch 23/90\n",
            "157/157 [==============================] - ETA: 0s - loss: 2.2897 - accuracy: 0.4649\n",
            "Epoch 00023: val_loss improved from 2.29079 to 2.26076, saving model to Adamo-90r-.hdf5\n",
            "157/157 [==============================] - 76s 484ms/step - loss: 2.2897 - accuracy: 0.4649 - val_loss: 2.2608 - val_accuracy: 0.5910\n",
            "Epoch 24/90\n",
            "157/157 [==============================] - ETA: 0s - loss: 2.2196 - accuracy: 0.4852\n",
            "Epoch 00024: val_loss improved from 2.26076 to 2.19051, saving model to Adamo-90r-.hdf5\n",
            "157/157 [==============================] - 76s 485ms/step - loss: 2.2196 - accuracy: 0.4852 - val_loss: 2.1905 - val_accuracy: 0.6273\n",
            "Epoch 25/90\n",
            "157/157 [==============================] - ETA: 0s - loss: 2.1549 - accuracy: 0.4984\n",
            "Epoch 00025: val_loss did not improve from 2.19051\n",
            "157/157 [==============================] - 76s 483ms/step - loss: 2.1549 - accuracy: 0.4984 - val_loss: 2.2169 - val_accuracy: 0.6233\n",
            "Epoch 26/90\n",
            "157/157 [==============================] - ETA: 0s - loss: 2.1124 - accuracy: 0.5128\n",
            "Epoch 00026: val_loss improved from 2.19051 to 2.07243, saving model to Adamo-90r-.hdf5\n",
            "157/157 [==============================] - 76s 484ms/step - loss: 2.1124 - accuracy: 0.5128 - val_loss: 2.0724 - val_accuracy: 0.6483\n",
            "Epoch 27/90\n",
            "157/157 [==============================] - ETA: 0s - loss: 2.0515 - accuracy: 0.5242\n",
            "Epoch 00027: val_loss did not improve from 2.07243\n",
            "157/157 [==============================] - 76s 484ms/step - loss: 2.0515 - accuracy: 0.5242 - val_loss: 2.0742 - val_accuracy: 0.6503\n",
            "Epoch 28/90\n",
            "157/157 [==============================] - ETA: 0s - loss: 1.9962 - accuracy: 0.5399\n",
            "Epoch 00028: val_loss did not improve from 2.07243\n",
            "157/157 [==============================] - 76s 481ms/step - loss: 1.9962 - accuracy: 0.5399 - val_loss: 2.0975 - val_accuracy: 0.6447\n",
            "Epoch 29/90\n",
            "157/157 [==============================] - ETA: 0s - loss: 1.9495 - accuracy: 0.5493\n",
            "Epoch 00029: val_loss did not improve from 2.07243\n",
            "157/157 [==============================] - 75s 481ms/step - loss: 1.9495 - accuracy: 0.5493 - val_loss: 2.1139 - val_accuracy: 0.6487\n",
            "Epoch 30/90\n",
            "157/157 [==============================] - ETA: 0s - loss: 1.9021 - accuracy: 0.5599\n",
            "Epoch 00030: val_loss improved from 2.07243 to 2.00707, saving model to Adamo-90r-.hdf5\n",
            "157/157 [==============================] - 76s 484ms/step - loss: 1.9021 - accuracy: 0.5599 - val_loss: 2.0071 - val_accuracy: 0.6817\n",
            "Epoch 31/90\n",
            "157/157 [==============================] - ETA: 0s - loss: 1.8665 - accuracy: 0.5691\n",
            "Epoch 00031: val_loss improved from 2.00707 to 1.99802, saving model to Adamo-90r-.hdf5\n",
            "157/157 [==============================] - 76s 485ms/step - loss: 1.8665 - accuracy: 0.5691 - val_loss: 1.9980 - val_accuracy: 0.6897\n",
            "Epoch 32/90\n",
            "157/157 [==============================] - ETA: 0s - loss: 1.8280 - accuracy: 0.5831\n",
            "Epoch 00032: val_loss improved from 1.99802 to 1.96137, saving model to Adamo-90r-.hdf5\n",
            "157/157 [==============================] - 76s 484ms/step - loss: 1.8280 - accuracy: 0.5831 - val_loss: 1.9614 - val_accuracy: 0.6890\n",
            "Epoch 33/90\n",
            "157/157 [==============================] - ETA: 0s - loss: 1.7867 - accuracy: 0.5885\n",
            "Epoch 00033: val_loss improved from 1.96137 to 1.95016, saving model to Adamo-90r-.hdf5\n",
            "157/157 [==============================] - 76s 485ms/step - loss: 1.7867 - accuracy: 0.5885 - val_loss: 1.9502 - val_accuracy: 0.6940\n",
            "Epoch 34/90\n",
            "157/157 [==============================] - ETA: 0s - loss: 1.7401 - accuracy: 0.5961\n",
            "Epoch 00034: val_loss improved from 1.95016 to 1.94039, saving model to Adamo-90r-.hdf5\n",
            "157/157 [==============================] - 76s 485ms/step - loss: 1.7401 - accuracy: 0.5961 - val_loss: 1.9404 - val_accuracy: 0.6963\n",
            "Epoch 35/90\n",
            "157/157 [==============================] - ETA: 0s - loss: 1.7034 - accuracy: 0.6112\n",
            "Epoch 00035: val_loss improved from 1.94039 to 1.93397, saving model to Adamo-90r-.hdf5\n",
            "157/157 [==============================] - 76s 483ms/step - loss: 1.7034 - accuracy: 0.6112 - val_loss: 1.9340 - val_accuracy: 0.6957\n",
            "Epoch 36/90\n",
            "157/157 [==============================] - ETA: 0s - loss: 1.6761 - accuracy: 0.6116\n",
            "Epoch 00036: val_loss improved from 1.93397 to 1.92877, saving model to Adamo-90r-.hdf5\n",
            "157/157 [==============================] - 76s 484ms/step - loss: 1.6761 - accuracy: 0.6116 - val_loss: 1.9288 - val_accuracy: 0.7053\n",
            "Epoch 37/90\n",
            "157/157 [==============================] - ETA: 0s - loss: 1.6467 - accuracy: 0.6152\n",
            "Epoch 00037: val_loss improved from 1.92877 to 1.90519, saving model to Adamo-90r-.hdf5\n",
            "157/157 [==============================] - 76s 485ms/step - loss: 1.6467 - accuracy: 0.6152 - val_loss: 1.9052 - val_accuracy: 0.7083\n",
            "Epoch 38/90\n",
            "157/157 [==============================] - ETA: 0s - loss: 1.6229 - accuracy: 0.6235\n",
            "Epoch 00038: val_loss did not improve from 1.90519\n",
            "157/157 [==============================] - 76s 483ms/step - loss: 1.6229 - accuracy: 0.6235 - val_loss: 1.9061 - val_accuracy: 0.7130\n",
            "Epoch 39/90\n",
            "157/157 [==============================] - ETA: 0s - loss: 1.5911 - accuracy: 0.6322\n",
            "Epoch 00039: val_loss improved from 1.90519 to 1.88949, saving model to Adamo-90r-.hdf5\n",
            "157/157 [==============================] - 76s 485ms/step - loss: 1.5911 - accuracy: 0.6322 - val_loss: 1.8895 - val_accuracy: 0.7067\n",
            "Epoch 40/90\n",
            "157/157 [==============================] - ETA: 0s - loss: 1.5590 - accuracy: 0.6381\n",
            "Epoch 00040: val_loss improved from 1.88949 to 1.88753, saving model to Adamo-90r-.hdf5\n",
            "157/157 [==============================] - 76s 486ms/step - loss: 1.5590 - accuracy: 0.6381 - val_loss: 1.8875 - val_accuracy: 0.7073\n",
            "Epoch 41/90\n",
            "157/157 [==============================] - ETA: 0s - loss: 1.5126 - accuracy: 0.6454\n",
            "Epoch 00041: val_loss did not improve from 1.88753\n",
            "157/157 [==============================] - 76s 484ms/step - loss: 1.5126 - accuracy: 0.6454 - val_loss: 1.8913 - val_accuracy: 0.7233\n",
            "Epoch 42/90\n",
            "157/157 [==============================] - ETA: 0s - loss: 1.4890 - accuracy: 0.6519\n",
            "Epoch 00042: val_loss did not improve from 1.88753\n",
            "157/157 [==============================] - 76s 484ms/step - loss: 1.4890 - accuracy: 0.6519 - val_loss: 1.9079 - val_accuracy: 0.7217\n",
            "Epoch 43/90\n",
            "157/157 [==============================] - ETA: 0s - loss: 1.4634 - accuracy: 0.6580\n",
            "Epoch 00043: val_loss improved from 1.88753 to 1.87810, saving model to Adamo-90r-.hdf5\n",
            "157/157 [==============================] - 77s 488ms/step - loss: 1.4634 - accuracy: 0.6580 - val_loss: 1.8781 - val_accuracy: 0.7177\n",
            "Epoch 44/90\n",
            "157/157 [==============================] - ETA: 0s - loss: 1.4310 - accuracy: 0.6618\n",
            "Epoch 00044: val_loss did not improve from 1.87810\n",
            "157/157 [==============================] - 77s 488ms/step - loss: 1.4310 - accuracy: 0.6618 - val_loss: 1.8911 - val_accuracy: 0.7247\n",
            "Epoch 45/90\n",
            "157/157 [==============================] - ETA: 0s - loss: 1.4170 - accuracy: 0.6676\n",
            "Epoch 00045: val_loss did not improve from 1.87810\n",
            "157/157 [==============================] - 76s 486ms/step - loss: 1.4170 - accuracy: 0.6676 - val_loss: 1.8870 - val_accuracy: 0.7183\n",
            "Epoch 46/90\n",
            "157/157 [==============================] - ETA: 0s - loss: 1.3794 - accuracy: 0.6744\n",
            "Epoch 00046: val_loss improved from 1.87810 to 1.86911, saving model to Adamo-90r-.hdf5\n",
            "157/157 [==============================] - 76s 486ms/step - loss: 1.3794 - accuracy: 0.6744 - val_loss: 1.8691 - val_accuracy: 0.7277\n",
            "Epoch 47/90\n",
            "157/157 [==============================] - ETA: 0s - loss: 1.3582 - accuracy: 0.6782\n",
            "Epoch 00047: val_loss improved from 1.86911 to 1.86631, saving model to Adamo-90r-.hdf5\n",
            "157/157 [==============================] - 76s 485ms/step - loss: 1.3582 - accuracy: 0.6782 - val_loss: 1.8663 - val_accuracy: 0.7277\n",
            "Epoch 48/90\n",
            "157/157 [==============================] - ETA: 0s - loss: 1.3289 - accuracy: 0.6831\n",
            "Epoch 00048: val_loss did not improve from 1.86631\n",
            "157/157 [==============================] - 76s 483ms/step - loss: 1.3289 - accuracy: 0.6831 - val_loss: 1.9145 - val_accuracy: 0.7343\n",
            "Epoch 49/90\n",
            "157/157 [==============================] - ETA: 0s - loss: 1.2908 - accuracy: 0.6910\n",
            "Epoch 00049: val_loss did not improve from 1.86631\n",
            "157/157 [==============================] - 76s 485ms/step - loss: 1.2908 - accuracy: 0.6910 - val_loss: 1.9013 - val_accuracy: 0.7380\n",
            "Epoch 50/90\n",
            "157/157 [==============================] - ETA: 0s - loss: 1.2756 - accuracy: 0.6907\n",
            "Epoch 00050: val_loss improved from 1.86631 to 1.84216, saving model to Adamo-90r-.hdf5\n",
            "157/157 [==============================] - 76s 487ms/step - loss: 1.2756 - accuracy: 0.6907 - val_loss: 1.8422 - val_accuracy: 0.7410\n",
            "Epoch 51/90\n",
            "157/157 [==============================] - ETA: 0s - loss: 1.2591 - accuracy: 0.6944\n",
            "Epoch 00051: val_loss did not improve from 1.84216\n",
            "157/157 [==============================] - 76s 483ms/step - loss: 1.2591 - accuracy: 0.6944 - val_loss: 1.8709 - val_accuracy: 0.7407\n",
            "Epoch 52/90\n",
            "157/157 [==============================] - ETA: 0s - loss: 1.2191 - accuracy: 0.7011\n",
            "Epoch 00052: val_loss did not improve from 1.84216\n",
            "157/157 [==============================] - 76s 483ms/step - loss: 1.2191 - accuracy: 0.7011 - val_loss: 1.8788 - val_accuracy: 0.7427\n",
            "Epoch 53/90\n",
            "157/157 [==============================] - ETA: 0s - loss: 1.1885 - accuracy: 0.7062\n",
            "Epoch 00053: val_loss did not improve from 1.84216\n",
            "157/157 [==============================] - 76s 483ms/step - loss: 1.1885 - accuracy: 0.7062 - val_loss: 1.8870 - val_accuracy: 0.7390\n",
            "Epoch 54/90\n",
            "157/157 [==============================] - ETA: 0s - loss: 1.1811 - accuracy: 0.7057\n",
            "Epoch 00054: val_loss did not improve from 1.84216\n",
            "157/157 [==============================] - 76s 484ms/step - loss: 1.1811 - accuracy: 0.7057 - val_loss: 1.8786 - val_accuracy: 0.7440\n",
            "Epoch 55/90\n",
            "157/157 [==============================] - ETA: 0s - loss: 1.1526 - accuracy: 0.7108\n",
            "Epoch 00055: val_loss did not improve from 1.84216\n",
            "157/157 [==============================] - 76s 484ms/step - loss: 1.1526 - accuracy: 0.7108 - val_loss: 1.8702 - val_accuracy: 0.7443\n",
            "Epoch 56/90\n",
            "157/157 [==============================] - ETA: 0s - loss: 1.1172 - accuracy: 0.7155\n",
            "Epoch 00056: val_loss did not improve from 1.84216\n",
            "157/157 [==============================] - 76s 484ms/step - loss: 1.1172 - accuracy: 0.7155 - val_loss: 1.8621 - val_accuracy: 0.7497\n",
            "Epoch 57/90\n",
            "157/157 [==============================] - ETA: 0s - loss: 1.1003 - accuracy: 0.7206\n",
            "Epoch 00057: val_loss did not improve from 1.84216\n",
            "157/157 [==============================] - 76s 484ms/step - loss: 1.1003 - accuracy: 0.7206 - val_loss: 1.8704 - val_accuracy: 0.7517\n",
            "Epoch 58/90\n",
            "157/157 [==============================] - ETA: 0s - loss: 1.0787 - accuracy: 0.7212\n",
            "Epoch 00058: val_loss did not improve from 1.84216\n",
            "157/157 [==============================] - 76s 484ms/step - loss: 1.0787 - accuracy: 0.7212 - val_loss: 1.9150 - val_accuracy: 0.7400\n",
            "Epoch 59/90\n",
            "157/157 [==============================] - ETA: 0s - loss: 1.0601 - accuracy: 0.7263\n",
            "Epoch 00059: val_loss did not improve from 1.84216\n",
            "157/157 [==============================] - 76s 483ms/step - loss: 1.0601 - accuracy: 0.7263 - val_loss: 1.8900 - val_accuracy: 0.7500\n",
            "Epoch 60/90\n",
            "157/157 [==============================] - ETA: 0s - loss: 1.0480 - accuracy: 0.7304\n",
            "Epoch 00060: val_loss did not improve from 1.84216\n",
            "157/157 [==============================] - 76s 485ms/step - loss: 1.0480 - accuracy: 0.7304 - val_loss: 1.8802 - val_accuracy: 0.7463\n",
            "Epoch 61/90\n",
            "157/157 [==============================] - ETA: 0s - loss: 0.9968 - accuracy: 0.7340\n",
            "Epoch 00061: val_loss did not improve from 1.84216\n",
            "157/157 [==============================] - 76s 486ms/step - loss: 0.9968 - accuracy: 0.7340 - val_loss: 1.9067 - val_accuracy: 0.7500\n",
            "Epoch 62/90\n",
            "157/157 [==============================] - ETA: 0s - loss: 0.9836 - accuracy: 0.7380\n",
            "Epoch 00062: val_loss did not improve from 1.84216\n",
            "157/157 [==============================] - 76s 483ms/step - loss: 0.9836 - accuracy: 0.7380 - val_loss: 1.9417 - val_accuracy: 0.7390\n",
            "Epoch 63/90\n",
            "157/157 [==============================] - ETA: 0s - loss: 0.9729 - accuracy: 0.7398\n",
            "Epoch 00063: val_loss did not improve from 1.84216\n",
            "157/157 [==============================] - 76s 485ms/step - loss: 0.9729 - accuracy: 0.7398 - val_loss: 1.9068 - val_accuracy: 0.7493\n",
            "Epoch 64/90\n",
            "157/157 [==============================] - ETA: 0s - loss: 0.9520 - accuracy: 0.7441\n",
            "Epoch 00064: val_loss did not improve from 1.84216\n",
            "157/157 [==============================] - 76s 484ms/step - loss: 0.9520 - accuracy: 0.7441 - val_loss: 1.9267 - val_accuracy: 0.7403\n",
            "Epoch 65/90\n",
            "157/157 [==============================] - ETA: 0s - loss: 0.9173 - accuracy: 0.7484\n",
            "Epoch 00065: val_loss did not improve from 1.84216\n",
            "157/157 [==============================] - 76s 484ms/step - loss: 0.9173 - accuracy: 0.7484 - val_loss: 1.9812 - val_accuracy: 0.7523\n",
            "Epoch 66/90\n",
            "157/157 [==============================] - ETA: 0s - loss: 0.9105 - accuracy: 0.7516\n",
            "Epoch 00066: val_loss did not improve from 1.84216\n",
            "157/157 [==============================] - 76s 485ms/step - loss: 0.9105 - accuracy: 0.7516 - val_loss: 1.9293 - val_accuracy: 0.7510\n",
            "Epoch 67/90\n",
            "157/157 [==============================] - ETA: 0s - loss: 0.8852 - accuracy: 0.7530\n",
            "Epoch 00067: val_loss did not improve from 1.84216\n",
            "157/157 [==============================] - 76s 483ms/step - loss: 0.8852 - accuracy: 0.7530 - val_loss: 1.9518 - val_accuracy: 0.7483\n",
            "Epoch 68/90\n",
            "157/157 [==============================] - ETA: 0s - loss: 0.8771 - accuracy: 0.7563\n",
            "Epoch 00068: val_loss did not improve from 1.84216\n",
            "157/157 [==============================] - 76s 483ms/step - loss: 0.8771 - accuracy: 0.7563 - val_loss: 1.9328 - val_accuracy: 0.7443\n",
            "Epoch 69/90\n",
            "157/157 [==============================] - ETA: 0s - loss: 0.8403 - accuracy: 0.7619\n",
            "Epoch 00069: val_loss did not improve from 1.84216\n",
            "157/157 [==============================] - 76s 483ms/step - loss: 0.8403 - accuracy: 0.7619 - val_loss: 1.9308 - val_accuracy: 0.7567\n",
            "Epoch 70/90\n",
            "157/157 [==============================] - ETA: 0s - loss: 0.8296 - accuracy: 0.7617\n",
            "Epoch 00070: val_loss did not improve from 1.84216\n",
            "157/157 [==============================] - 76s 484ms/step - loss: 0.8296 - accuracy: 0.7617 - val_loss: 1.9577 - val_accuracy: 0.7573\n",
            "Epoch 71/90\n",
            "157/157 [==============================] - ETA: 0s - loss: 0.7945 - accuracy: 0.7668\n",
            "Epoch 00071: val_loss did not improve from 1.84216\n",
            "157/157 [==============================] - 76s 485ms/step - loss: 0.7945 - accuracy: 0.7668 - val_loss: 1.9204 - val_accuracy: 0.7543\n",
            "Epoch 72/90\n",
            "157/157 [==============================] - ETA: 0s - loss: 0.7805 - accuracy: 0.7719\n",
            "Epoch 00072: val_loss did not improve from 1.84216\n",
            "157/157 [==============================] - 76s 484ms/step - loss: 0.7805 - accuracy: 0.7719 - val_loss: 1.9710 - val_accuracy: 0.7600\n",
            "Epoch 73/90\n",
            "157/157 [==============================] - ETA: 0s - loss: 0.7685 - accuracy: 0.7724\n",
            "Epoch 00073: val_loss did not improve from 1.84216\n",
            "157/157 [==============================] - 76s 482ms/step - loss: 0.7685 - accuracy: 0.7724 - val_loss: 1.9890 - val_accuracy: 0.7470\n",
            "Epoch 74/90\n",
            "157/157 [==============================] - ETA: 0s - loss: 0.7515 - accuracy: 0.7792\n",
            "Epoch 00074: val_loss did not improve from 1.84216\n",
            "157/157 [==============================] - 76s 484ms/step - loss: 0.7515 - accuracy: 0.7792 - val_loss: 1.9874 - val_accuracy: 0.7610\n",
            "Epoch 75/90\n",
            "157/157 [==============================] - ETA: 0s - loss: 0.7258 - accuracy: 0.7824\n",
            "Epoch 00075: val_loss did not improve from 1.84216\n",
            "157/157 [==============================] - 76s 484ms/step - loss: 0.7258 - accuracy: 0.7824 - val_loss: 1.9960 - val_accuracy: 0.7627\n",
            "Epoch 76/90\n",
            "157/157 [==============================] - ETA: 0s - loss: 0.7105 - accuracy: 0.7843\n",
            "Epoch 00076: val_loss did not improve from 1.84216\n",
            "157/157 [==============================] - 76s 483ms/step - loss: 0.7105 - accuracy: 0.7843 - val_loss: 2.0034 - val_accuracy: 0.7567\n",
            "Epoch 77/90\n",
            "157/157 [==============================] - ETA: 0s - loss: 0.6954 - accuracy: 0.7873\n",
            "Epoch 00077: val_loss did not improve from 1.84216\n",
            "157/157 [==============================] - 76s 484ms/step - loss: 0.6954 - accuracy: 0.7873 - val_loss: 2.0058 - val_accuracy: 0.7487\n",
            "Epoch 78/90\n",
            "157/157 [==============================] - ETA: 0s - loss: 0.6769 - accuracy: 0.7945\n",
            "Epoch 00078: val_loss did not improve from 1.84216\n",
            "157/157 [==============================] - 76s 483ms/step - loss: 0.6769 - accuracy: 0.7945 - val_loss: 2.0098 - val_accuracy: 0.7573\n",
            "Epoch 79/90\n",
            "157/157 [==============================] - ETA: 0s - loss: 0.6638 - accuracy: 0.7969\n",
            "Epoch 00079: val_loss did not improve from 1.84216\n",
            "157/157 [==============================] - 76s 486ms/step - loss: 0.6638 - accuracy: 0.7969 - val_loss: 2.0198 - val_accuracy: 0.7603\n",
            "Epoch 80/90\n",
            "157/157 [==============================] - ETA: 0s - loss: 0.6424 - accuracy: 0.7963\n",
            "Epoch 00080: val_loss did not improve from 1.84216\n",
            "157/157 [==============================] - 76s 483ms/step - loss: 0.6424 - accuracy: 0.7963 - val_loss: 2.0122 - val_accuracy: 0.7587\n",
            "Epoch 81/90\n",
            "157/157 [==============================] - ETA: 0s - loss: 0.6387 - accuracy: 0.8009\n",
            "Epoch 00081: val_loss did not improve from 1.84216\n",
            "157/157 [==============================] - 76s 485ms/step - loss: 0.6387 - accuracy: 0.8009 - val_loss: 2.0446 - val_accuracy: 0.7567\n",
            "Epoch 82/90\n",
            "157/157 [==============================] - ETA: 0s - loss: 0.6242 - accuracy: 0.8030\n",
            "Epoch 00082: val_loss did not improve from 1.84216\n",
            "157/157 [==============================] - 76s 483ms/step - loss: 0.6242 - accuracy: 0.8030 - val_loss: 2.0157 - val_accuracy: 0.7590\n",
            "Epoch 83/90\n",
            "157/157 [==============================] - ETA: 0s - loss: 0.5983 - accuracy: 0.8088\n",
            "Epoch 00083: val_loss did not improve from 1.84216\n",
            "157/157 [==============================] - 76s 483ms/step - loss: 0.5983 - accuracy: 0.8088 - val_loss: 2.0044 - val_accuracy: 0.7587\n",
            "Epoch 84/90\n",
            "157/157 [==============================] - ETA: 0s - loss: 0.5835 - accuracy: 0.8099\n",
            "Epoch 00084: val_loss did not improve from 1.84216\n",
            "157/157 [==============================] - 76s 482ms/step - loss: 0.5835 - accuracy: 0.8099 - val_loss: 2.0631 - val_accuracy: 0.7593\n",
            "Epoch 85/90\n",
            "157/157 [==============================] - ETA: 0s - loss: 0.5623 - accuracy: 0.8132\n",
            "Epoch 00085: val_loss did not improve from 1.84216\n",
            "157/157 [==============================] - 76s 487ms/step - loss: 0.5623 - accuracy: 0.8132 - val_loss: 2.0677 - val_accuracy: 0.7683\n",
            "Epoch 86/90\n",
            "157/157 [==============================] - ETA: 0s - loss: 0.5492 - accuracy: 0.8164\n",
            "Epoch 00086: val_loss did not improve from 1.84216\n",
            "157/157 [==============================] - 76s 482ms/step - loss: 0.5492 - accuracy: 0.8164 - val_loss: 2.0626 - val_accuracy: 0.7583\n",
            "Epoch 87/90\n",
            "157/157 [==============================] - ETA: 0s - loss: 0.5357 - accuracy: 0.8183\n",
            "Epoch 00087: val_loss did not improve from 1.84216\n",
            "157/157 [==============================] - 76s 484ms/step - loss: 0.5357 - accuracy: 0.8183 - val_loss: 2.0823 - val_accuracy: 0.7590\n",
            "Epoch 88/90\n",
            "157/157 [==============================] - ETA: 0s - loss: 0.5245 - accuracy: 0.8260\n",
            "Epoch 00088: val_loss did not improve from 1.84216\n",
            "157/157 [==============================] - 76s 483ms/step - loss: 0.5245 - accuracy: 0.8260 - val_loss: 2.1182 - val_accuracy: 0.7623\n",
            "Epoch 89/90\n",
            "157/157 [==============================] - ETA: 0s - loss: 0.5069 - accuracy: 0.8292\n",
            "Epoch 00089: val_loss did not improve from 1.84216\n",
            "157/157 [==============================] - 76s 485ms/step - loss: 0.5069 - accuracy: 0.8292 - val_loss: 2.1205 - val_accuracy: 0.7657\n",
            "Epoch 90/90\n",
            "157/157 [==============================] - ETA: 0s - loss: 0.4951 - accuracy: 0.8283\n",
            "Epoch 00090: val_loss did not improve from 1.84216\n",
            "157/157 [==============================] - 76s 485ms/step - loss: 0.4951 - accuracy: 0.8283 - val_loss: 2.1586 - val_accuracy: 0.7657\n"
          ]
        }
      ]
    },
    {
      "cell_type": "markdown",
      "metadata": {
        "id": "716598b4"
      },
      "source": [
        "The shape of output predictiion is (64,30)  "
      ],
      "id": "716598b4"
    },
    {
      "cell_type": "code",
      "metadata": {
        "id": "kCajKY_4WwA4"
      },
      "source": [
        "history_df = pd.DataFrame(history_model.history)\n",
        "history_csv_file = 'history.csv'\n",
        "with open(history_csv_file, mode='w') as f:\n",
        "  history_df.to_csv(f)\n",
        "\n"
      ],
      "id": "kCajKY_4WwA4",
      "execution_count": 41,
      "outputs": []
    },
    {
      "cell_type": "markdown",
      "metadata": {
        "id": "9985c10e"
      },
      "source": [
        "# Model Training"
      ],
      "id": "9985c10e"
    },
    {
      "cell_type": "markdown",
      "metadata": {
        "id": "471a8750"
      },
      "source": [
        "#  Check The model Predication on Validation data"
      ],
      "id": "471a8750"
    },
    {
      "cell_type": "code",
      "metadata": {
        "id": "baa2e1d1"
      },
      "source": [
        "preds = hwr_model.predict(valid_x)\n",
        "decoded = K.get_value(K.ctc_decode(preds, input_length=np.ones(preds.shape[0])*preds.shape[1], \n",
        "                                   greedy=True)[0][0])\n",
        "\n",
        "prediction = []\n",
        "for i in range(valid_size):\n",
        "    prediction.append(number_to_label(decoded[i]))"
      ],
      "id": "baa2e1d1",
      "execution_count": 44,
      "outputs": []
    },
    {
      "cell_type": "code",
      "metadata": {
        "id": "a1595ecd",
        "colab": {
          "base_uri": "https://localhost:8080/"
        },
        "outputId": "9b6a670d-c364-4129-fdf4-afa49c67c7f0"
      },
      "source": [
        "y_true = valid.loc[0:valid_size, 'IDENTITY']\n",
        "correct_character = 0\n",
        "total_character = 0\n",
        "correct = 0\n",
        "\n",
        "for i in range(valid_size):\n",
        "    pr = prediction[i]\n",
        "    tr = y_true[i]\n",
        "    total_character += len(tr)\n",
        "    \n",
        "    for j in range(min(len(tr), len(pr))):\n",
        "        if tr[j] == pr[j]:\n",
        "            correct_character += 1\n",
        "            \n",
        "    if pr == tr :\n",
        "        correct += 1 \n",
        "    \n",
        "print('Correct characters predicted : %.2f%%' %(correct_character/total_character*100))\n",
        "print('Correct words predicted      : %.2f%%' %(correct/valid_size*100))"
      ],
      "id": "a1595ecd",
      "execution_count": 47,
      "outputs": [
        {
          "output_type": "stream",
          "name": "stdout",
          "text": [
            "Correct characters predicted : 91.48%\n",
            "Correct words predicted      : 78.70%\n"
          ]
        }
      ]
    },
    {
      "cell_type": "code",
      "metadata": {
        "colab": {
          "base_uri": "https://localhost:8080/"
        },
        "id": "O_I9pNvqBR7O",
        "outputId": "9b998b2e-4629-4b80-a1b1-54d41240f515"
      },
      "source": [
        "print(correct_character)"
      ],
      "id": "O_I9pNvqBR7O",
      "execution_count": 48,
      "outputs": [
        {
          "output_type": "stream",
          "name": "stdout",
          "text": [
            "18002\n"
          ]
        }
      ]
    },
    {
      "cell_type": "code",
      "metadata": {
        "colab": {
          "base_uri": "https://localhost:8080/"
        },
        "id": "TXL-_ZLxBrwi",
        "outputId": "38229301-3e39-41b6-c8cb-0c63e09433c9"
      },
      "source": [
        "print(correct)"
      ],
      "id": "TXL-_ZLxBrwi",
      "execution_count": 49,
      "outputs": [
        {
          "output_type": "stream",
          "name": "stdout",
          "text": [
            "2361\n"
          ]
        }
      ]
    },
    {
      "cell_type": "code",
      "metadata": {
        "id": "3d98f7a6",
        "colab": {
          "base_uri": "https://localhost:8080/"
        },
        "outputId": "5aabb41a-3b8e-44a4-b7ad-743575c65652"
      },
      "source": [
        "history_model.history"
      ],
      "id": "3d98f7a6",
      "execution_count": 50,
      "outputs": [
        {
          "output_type": "execute_result",
          "data": {
            "text/plain": [
              "{'accuracy': [0.0,\n",
              "  0.0,\n",
              "  0.0,\n",
              "  0.0,\n",
              "  0.0,\n",
              "  0.0,\n",
              "  0.0,\n",
              "  0.0,\n",
              "  0.0010499999625608325,\n",
              "  0.014150000177323818,\n",
              "  0.0434500016272068,\n",
              "  0.0820000022649765,\n",
              "  0.1290999948978424,\n",
              "  0.17515000700950623,\n",
              "  0.2273000031709671,\n",
              "  0.2699500024318695,\n",
              "  0.30250000953674316,\n",
              "  0.33869999647140503,\n",
              "  0.3723999857902527,\n",
              "  0.4009000062942505,\n",
              "  0.4200499951839447,\n",
              "  0.4419499933719635,\n",
              "  0.46494999527931213,\n",
              "  0.4851999878883362,\n",
              "  0.4984000027179718,\n",
              "  0.5128499865531921,\n",
              "  0.5242000222206116,\n",
              "  0.539900004863739,\n",
              "  0.5492500066757202,\n",
              "  0.5599499940872192,\n",
              "  0.569100022315979,\n",
              "  0.583050012588501,\n",
              "  0.5885000228881836,\n",
              "  0.5961499810218811,\n",
              "  0.6111500263214111,\n",
              "  0.6115999817848206,\n",
              "  0.6151999831199646,\n",
              "  0.6234999895095825,\n",
              "  0.6322000026702881,\n",
              "  0.6381000280380249,\n",
              "  0.6453999876976013,\n",
              "  0.6518999934196472,\n",
              "  0.6579999923706055,\n",
              "  0.6617500185966492,\n",
              "  0.6675999760627747,\n",
              "  0.6743500232696533,\n",
              "  0.6782000064849854,\n",
              "  0.6831499934196472,\n",
              "  0.6910499930381775,\n",
              "  0.6906999945640564,\n",
              "  0.694350004196167,\n",
              "  0.7010999917984009,\n",
              "  0.7062000036239624,\n",
              "  0.7056999802589417,\n",
              "  0.7107999920845032,\n",
              "  0.715499997138977,\n",
              "  0.7206000089645386,\n",
              "  0.7212499976158142,\n",
              "  0.7263000011444092,\n",
              "  0.7304499745368958,\n",
              "  0.7340499758720398,\n",
              "  0.7379500269889832,\n",
              "  0.739799976348877,\n",
              "  0.7440999746322632,\n",
              "  0.748449981212616,\n",
              "  0.751550018787384,\n",
              "  0.7529500126838684,\n",
              "  0.7562999725341797,\n",
              "  0.761900007724762,\n",
              "  0.7617499828338623,\n",
              "  0.7667999863624573,\n",
              "  0.7718999981880188,\n",
              "  0.7724000215530396,\n",
              "  0.7791500091552734,\n",
              "  0.7824000120162964,\n",
              "  0.7843000292778015,\n",
              "  0.7872999906539917,\n",
              "  0.7944999933242798,\n",
              "  0.7968500256538391,\n",
              "  0.7962999939918518,\n",
              "  0.8008999824523926,\n",
              "  0.8030499815940857,\n",
              "  0.8088499903678894,\n",
              "  0.8098999857902527,\n",
              "  0.8131999969482422,\n",
              "  0.8164499998092651,\n",
              "  0.8182500004768372,\n",
              "  0.8260499835014343,\n",
              "  0.8292499780654907,\n",
              "  0.8282999992370605],\n",
              " 'loss': [25.832073211669922,\n",
              "  20.22705841064453,\n",
              "  19.911958694458008,\n",
              "  19.432981491088867,\n",
              "  18.289705276489258,\n",
              "  16.50786590576172,\n",
              "  13.894868850708008,\n",
              "  10.91067123413086,\n",
              "  7.981315612792969,\n",
              "  5.956271648406982,\n",
              "  4.984687805175781,\n",
              "  4.358814716339111,\n",
              "  3.9209351539611816,\n",
              "  3.5797882080078125,\n",
              "  3.318610429763794,\n",
              "  3.1031854152679443,\n",
              "  2.927835464477539,\n",
              "  2.7882583141326904,\n",
              "  2.664630651473999,\n",
              "  2.5369231700897217,\n",
              "  2.464080572128296,\n",
              "  2.3778488636016846,\n",
              "  2.289747953414917,\n",
              "  2.2195959091186523,\n",
              "  2.1548500061035156,\n",
              "  2.1124496459960938,\n",
              "  2.0515315532684326,\n",
              "  1.9961625337600708,\n",
              "  1.9495460987091064,\n",
              "  1.902097463607788,\n",
              "  1.8664642572402954,\n",
              "  1.8280383348464966,\n",
              "  1.7866835594177246,\n",
              "  1.7401347160339355,\n",
              "  1.7034339904785156,\n",
              "  1.676051139831543,\n",
              "  1.646690011024475,\n",
              "  1.6228694915771484,\n",
              "  1.5910975933074951,\n",
              "  1.559009075164795,\n",
              "  1.5126066207885742,\n",
              "  1.4890016317367554,\n",
              "  1.4633513689041138,\n",
              "  1.4310219287872314,\n",
              "  1.4170211553573608,\n",
              "  1.379408597946167,\n",
              "  1.3582277297973633,\n",
              "  1.3288723230361938,\n",
              "  1.290808916091919,\n",
              "  1.2756226062774658,\n",
              "  1.2590569257736206,\n",
              "  1.2191303968429565,\n",
              "  1.188543438911438,\n",
              "  1.1811270713806152,\n",
              "  1.1526308059692383,\n",
              "  1.1171592473983765,\n",
              "  1.1003035306930542,\n",
              "  1.0787088871002197,\n",
              "  1.0600590705871582,\n",
              "  1.0480107069015503,\n",
              "  0.9968263506889343,\n",
              "  0.983588457107544,\n",
              "  0.9729350805282593,\n",
              "  0.9519853591918945,\n",
              "  0.9172866940498352,\n",
              "  0.9105185270309448,\n",
              "  0.8851511478424072,\n",
              "  0.8770956993103027,\n",
              "  0.8402862548828125,\n",
              "  0.8295638561248779,\n",
              "  0.794506847858429,\n",
              "  0.7804923057556152,\n",
              "  0.7685344219207764,\n",
              "  0.7514642477035522,\n",
              "  0.7258029580116272,\n",
              "  0.7104889750480652,\n",
              "  0.6953831911087036,\n",
              "  0.6768880486488342,\n",
              "  0.6638057827949524,\n",
              "  0.6424330472946167,\n",
              "  0.6386629939079285,\n",
              "  0.624214768409729,\n",
              "  0.5982674956321716,\n",
              "  0.5835397243499756,\n",
              "  0.5623042583465576,\n",
              "  0.549242377281189,\n",
              "  0.5356619358062744,\n",
              "  0.524548351764679,\n",
              "  0.5068747997283936,\n",
              "  0.495072603225708],\n",
              " 'val_accuracy': [0.0,\n",
              "  0.0,\n",
              "  0.0,\n",
              "  0.0,\n",
              "  0.0,\n",
              "  0.0,\n",
              "  0.0,\n",
              "  0.0,\n",
              "  0.0,\n",
              "  0.0,\n",
              "  0.0,\n",
              "  0.0,\n",
              "  0.00033333332976326346,\n",
              "  0.0006666666595265269,\n",
              "  0.0729999989271164,\n",
              "  0.07500000298023224,\n",
              "  0.1653333306312561,\n",
              "  0.4636666774749756,\n",
              "  0.4676666557788849,\n",
              "  0.5506666898727417,\n",
              "  0.5766666531562805,\n",
              "  0.5016666650772095,\n",
              "  0.5910000205039978,\n",
              "  0.6273333430290222,\n",
              "  0.6233333349227905,\n",
              "  0.6483333110809326,\n",
              "  0.6503333449363708,\n",
              "  0.6446666717529297,\n",
              "  0.6486666798591614,\n",
              "  0.6816666722297668,\n",
              "  0.6896666884422302,\n",
              "  0.6890000104904175,\n",
              "  0.6940000057220459,\n",
              "  0.6963333487510681,\n",
              "  0.6956666707992554,\n",
              "  0.7053333520889282,\n",
              "  0.7083333134651184,\n",
              "  0.7129999995231628,\n",
              "  0.7066666483879089,\n",
              "  0.7073333263397217,\n",
              "  0.7233333587646484,\n",
              "  0.721666693687439,\n",
              "  0.7176666855812073,\n",
              "  0.7246666550636292,\n",
              "  0.7183333039283752,\n",
              "  0.7276666760444641,\n",
              "  0.7276666760444641,\n",
              "  0.734333336353302,\n",
              "  0.7379999756813049,\n",
              "  0.7409999966621399,\n",
              "  0.7406666874885559,\n",
              "  0.7426666617393494,\n",
              "  0.7390000224113464,\n",
              "  0.7440000176429749,\n",
              "  0.7443333268165588,\n",
              "  0.749666690826416,\n",
              "  0.7516666650772095,\n",
              "  0.7400000095367432,\n",
              "  0.75,\n",
              "  0.7463333606719971,\n",
              "  0.75,\n",
              "  0.7390000224113464,\n",
              "  0.7493333220481873,\n",
              "  0.7403333187103271,\n",
              "  0.7523333430290222,\n",
              "  0.7509999871253967,\n",
              "  0.7483333349227905,\n",
              "  0.7443333268165588,\n",
              "  0.7566666603088379,\n",
              "  0.7573333382606506,\n",
              "  0.7543333172798157,\n",
              "  0.7599999904632568,\n",
              "  0.746999979019165,\n",
              "  0.7609999775886536,\n",
              "  0.762666642665863,\n",
              "  0.7566666603088379,\n",
              "  0.7486666440963745,\n",
              "  0.7573333382606506,\n",
              "  0.7603333592414856,\n",
              "  0.7586666941642761,\n",
              "  0.7566666603088379,\n",
              "  0.7590000033378601,\n",
              "  0.7586666941642761,\n",
              "  0.7593333125114441,\n",
              "  0.7683333158493042,\n",
              "  0.7583333253860474,\n",
              "  0.7590000033378601,\n",
              "  0.762333333492279,\n",
              "  0.765666663646698,\n",
              "  0.765666663646698],\n",
              " 'val_loss': [21.251195907592773,\n",
              "  21.49608612060547,\n",
              "  20.37224006652832,\n",
              "  19.28764533996582,\n",
              "  18.25031089782715,\n",
              "  16.117307662963867,\n",
              "  13.10869026184082,\n",
              "  13.186690330505371,\n",
              "  31.8806095123291,\n",
              "  19.639888763427734,\n",
              "  23.394710540771484,\n",
              "  13.682065963745117,\n",
              "  9.397161483764648,\n",
              "  6.988572120666504,\n",
              "  3.7336409091949463,\n",
              "  3.5946712493896484,\n",
              "  3.218740463256836,\n",
              "  2.6382389068603516,\n",
              "  2.6543936729431152,\n",
              "  2.416414499282837,\n",
              "  2.290794610977173,\n",
              "  2.485028028488159,\n",
              "  2.26076078414917,\n",
              "  2.1905086040496826,\n",
              "  2.2169058322906494,\n",
              "  2.072425365447998,\n",
              "  2.074205160140991,\n",
              "  2.0974810123443604,\n",
              "  2.1139135360717773,\n",
              "  2.007071018218994,\n",
              "  1.9980169534683228,\n",
              "  1.9613713026046753,\n",
              "  1.950162410736084,\n",
              "  1.9403854608535767,\n",
              "  1.9339715242385864,\n",
              "  1.9287651777267456,\n",
              "  1.9051932096481323,\n",
              "  1.9061163663864136,\n",
              "  1.8894920349121094,\n",
              "  1.8875268697738647,\n",
              "  1.8913458585739136,\n",
              "  1.9079264402389526,\n",
              "  1.8780993223190308,\n",
              "  1.8910781145095825,\n",
              "  1.8870481252670288,\n",
              "  1.8691115379333496,\n",
              "  1.8663108348846436,\n",
              "  1.9145151376724243,\n",
              "  1.9012503623962402,\n",
              "  1.842161774635315,\n",
              "  1.87089204788208,\n",
              "  1.878795862197876,\n",
              "  1.887032389640808,\n",
              "  1.8785597085952759,\n",
              "  1.8702304363250732,\n",
              "  1.8620717525482178,\n",
              "  1.8703805208206177,\n",
              "  1.9150489568710327,\n",
              "  1.8899518251419067,\n",
              "  1.8801711797714233,\n",
              "  1.9067413806915283,\n",
              "  1.9417037963867188,\n",
              "  1.9068371057510376,\n",
              "  1.9266990423202515,\n",
              "  1.9811607599258423,\n",
              "  1.9293025732040405,\n",
              "  1.9518142938613892,\n",
              "  1.9327783584594727,\n",
              "  1.930777668952942,\n",
              "  1.957689642906189,\n",
              "  1.920440435409546,\n",
              "  1.9710328578948975,\n",
              "  1.9890022277832031,\n",
              "  1.987428069114685,\n",
              "  1.9959653615951538,\n",
              "  2.003369092941284,\n",
              "  2.0057859420776367,\n",
              "  2.009761333465576,\n",
              "  2.019768714904785,\n",
              "  2.012239933013916,\n",
              "  2.04457950592041,\n",
              "  2.0157105922698975,\n",
              "  2.00437331199646,\n",
              "  2.0630946159362793,\n",
              "  2.067701816558838,\n",
              "  2.0626344680786133,\n",
              "  2.0822982788085938,\n",
              "  2.1182379722595215,\n",
              "  2.1205050945281982,\n",
              "  2.1586434841156006]}"
            ]
          },
          "metadata": {},
          "execution_count": 50
        }
      ]
    },
    {
      "cell_type": "code",
      "metadata": {
        "id": "9060f7b1",
        "colab": {
          "base_uri": "https://localhost:8080/"
        },
        "outputId": "5a9da7a5-6a29-4736-9eaf-0b6057beb23c"
      },
      "source": [
        "print(\"Thetraing accuracy is: \",history_model.history['accuracy'])\n",
        "print(\"The validation loss is :\", history_model.history['val_loss'])\n",
        "print(\"The training loss is :\", history_model.history['loss'])"
      ],
      "id": "9060f7b1",
      "execution_count": 51,
      "outputs": [
        {
          "output_type": "stream",
          "name": "stdout",
          "text": [
            "Thetraing accuracy is:  [0.0, 0.0, 0.0, 0.0, 0.0, 0.0, 0.0, 0.0, 0.0010499999625608325, 0.014150000177323818, 0.0434500016272068, 0.0820000022649765, 0.1290999948978424, 0.17515000700950623, 0.2273000031709671, 0.2699500024318695, 0.30250000953674316, 0.33869999647140503, 0.3723999857902527, 0.4009000062942505, 0.4200499951839447, 0.4419499933719635, 0.46494999527931213, 0.4851999878883362, 0.4984000027179718, 0.5128499865531921, 0.5242000222206116, 0.539900004863739, 0.5492500066757202, 0.5599499940872192, 0.569100022315979, 0.583050012588501, 0.5885000228881836, 0.5961499810218811, 0.6111500263214111, 0.6115999817848206, 0.6151999831199646, 0.6234999895095825, 0.6322000026702881, 0.6381000280380249, 0.6453999876976013, 0.6518999934196472, 0.6579999923706055, 0.6617500185966492, 0.6675999760627747, 0.6743500232696533, 0.6782000064849854, 0.6831499934196472, 0.6910499930381775, 0.6906999945640564, 0.694350004196167, 0.7010999917984009, 0.7062000036239624, 0.7056999802589417, 0.7107999920845032, 0.715499997138977, 0.7206000089645386, 0.7212499976158142, 0.7263000011444092, 0.7304499745368958, 0.7340499758720398, 0.7379500269889832, 0.739799976348877, 0.7440999746322632, 0.748449981212616, 0.751550018787384, 0.7529500126838684, 0.7562999725341797, 0.761900007724762, 0.7617499828338623, 0.7667999863624573, 0.7718999981880188, 0.7724000215530396, 0.7791500091552734, 0.7824000120162964, 0.7843000292778015, 0.7872999906539917, 0.7944999933242798, 0.7968500256538391, 0.7962999939918518, 0.8008999824523926, 0.8030499815940857, 0.8088499903678894, 0.8098999857902527, 0.8131999969482422, 0.8164499998092651, 0.8182500004768372, 0.8260499835014343, 0.8292499780654907, 0.8282999992370605]\n",
            "The validation loss is : [21.251195907592773, 21.49608612060547, 20.37224006652832, 19.28764533996582, 18.25031089782715, 16.117307662963867, 13.10869026184082, 13.186690330505371, 31.8806095123291, 19.639888763427734, 23.394710540771484, 13.682065963745117, 9.397161483764648, 6.988572120666504, 3.7336409091949463, 3.5946712493896484, 3.218740463256836, 2.6382389068603516, 2.6543936729431152, 2.416414499282837, 2.290794610977173, 2.485028028488159, 2.26076078414917, 2.1905086040496826, 2.2169058322906494, 2.072425365447998, 2.074205160140991, 2.0974810123443604, 2.1139135360717773, 2.007071018218994, 1.9980169534683228, 1.9613713026046753, 1.950162410736084, 1.9403854608535767, 1.9339715242385864, 1.9287651777267456, 1.9051932096481323, 1.9061163663864136, 1.8894920349121094, 1.8875268697738647, 1.8913458585739136, 1.9079264402389526, 1.8780993223190308, 1.8910781145095825, 1.8870481252670288, 1.8691115379333496, 1.8663108348846436, 1.9145151376724243, 1.9012503623962402, 1.842161774635315, 1.87089204788208, 1.878795862197876, 1.887032389640808, 1.8785597085952759, 1.8702304363250732, 1.8620717525482178, 1.8703805208206177, 1.9150489568710327, 1.8899518251419067, 1.8801711797714233, 1.9067413806915283, 1.9417037963867188, 1.9068371057510376, 1.9266990423202515, 1.9811607599258423, 1.9293025732040405, 1.9518142938613892, 1.9327783584594727, 1.930777668952942, 1.957689642906189, 1.920440435409546, 1.9710328578948975, 1.9890022277832031, 1.987428069114685, 1.9959653615951538, 2.003369092941284, 2.0057859420776367, 2.009761333465576, 2.019768714904785, 2.012239933013916, 2.04457950592041, 2.0157105922698975, 2.00437331199646, 2.0630946159362793, 2.067701816558838, 2.0626344680786133, 2.0822982788085938, 2.1182379722595215, 2.1205050945281982, 2.1586434841156006]\n",
            "The training loss is : [25.832073211669922, 20.22705841064453, 19.911958694458008, 19.432981491088867, 18.289705276489258, 16.50786590576172, 13.894868850708008, 10.91067123413086, 7.981315612792969, 5.956271648406982, 4.984687805175781, 4.358814716339111, 3.9209351539611816, 3.5797882080078125, 3.318610429763794, 3.1031854152679443, 2.927835464477539, 2.7882583141326904, 2.664630651473999, 2.5369231700897217, 2.464080572128296, 2.3778488636016846, 2.289747953414917, 2.2195959091186523, 2.1548500061035156, 2.1124496459960938, 2.0515315532684326, 1.9961625337600708, 1.9495460987091064, 1.902097463607788, 1.8664642572402954, 1.8280383348464966, 1.7866835594177246, 1.7401347160339355, 1.7034339904785156, 1.676051139831543, 1.646690011024475, 1.6228694915771484, 1.5910975933074951, 1.559009075164795, 1.5126066207885742, 1.4890016317367554, 1.4633513689041138, 1.4310219287872314, 1.4170211553573608, 1.379408597946167, 1.3582277297973633, 1.3288723230361938, 1.290808916091919, 1.2756226062774658, 1.2590569257736206, 1.2191303968429565, 1.188543438911438, 1.1811270713806152, 1.1526308059692383, 1.1171592473983765, 1.1003035306930542, 1.0787088871002197, 1.0600590705871582, 1.0480107069015503, 0.9968263506889343, 0.983588457107544, 0.9729350805282593, 0.9519853591918945, 0.9172866940498352, 0.9105185270309448, 0.8851511478424072, 0.8770956993103027, 0.8402862548828125, 0.8295638561248779, 0.794506847858429, 0.7804923057556152, 0.7685344219207764, 0.7514642477035522, 0.7258029580116272, 0.7104889750480652, 0.6953831911087036, 0.6768880486488342, 0.6638057827949524, 0.6424330472946167, 0.6386629939079285, 0.624214768409729, 0.5982674956321716, 0.5835397243499756, 0.5623042583465576, 0.549242377281189, 0.5356619358062744, 0.524548351764679, 0.5068747997283936, 0.495072603225708]\n"
          ]
        }
      ]
    },
    {
      "cell_type": "markdown",
      "metadata": {
        "id": "3d5fa6f7"
      },
      "source": [
        "# Check for testing data"
      ],
      "id": "3d5fa6f7"
    },
    {
      "cell_type": "code",
      "metadata": {
        "id": "2b7b86e5",
        "colab": {
          "base_uri": "https://localhost:8080/",
          "height": 171
        },
        "outputId": "1d8bb5bb-88df-472d-965b-b4248b966d90"
      },
      "source": [
        "test = pd.read_csv('handwriting-recognition/written_name_test_v2.csv')\n",
        "plt.figure(figsize=(15, 10))\n",
        "for i in range(6):\n",
        "    ax = plt.subplot(2, 3, i+1)\n",
        "    img_dir = 'handwriting-recognition/test_v2/test/'+test.loc[i, 'FILENAME']\n",
        "    image = cv2.imread(img_dir, cv2.IMREAD_GRAYSCALE)\n",
        "    plt.imshow(image, cmap='gray')\n",
        "    \n",
        "    image = preprocess(image)\n",
        "    image = image/255.\n",
        "    pred = hwr_model.predict(image.reshape(1, 256, 64, 1))\n",
        "    decoded = K.get_value(K.ctc_decode(pred, input_length=np.ones(pred.shape[0])*pred.shape[1], \n",
        "                                       greedy=True)[0][0])\n",
        "    plt.title(number_to_label(decoded[0]), fontsize=12)\n",
        "    plt.axis('off')\n",
        "    \n",
        "plt.subplots_adjust(wspace=0.2, hspace=-0.8)"
      ],
      "id": "2b7b86e5",
      "execution_count": 52,
      "outputs": [
        {
          "output_type": "display_data",
          "data": {
            "image/png": "[encoded data removed]",
            "text/plain": [
              "<Figure size 1080x720 with 6 Axes>"
            ]
          },
          "metadata": {
            "needs_background": "light"
          }
        }
      ]
    },
    {
      "cell_type": "code",
      "metadata": {
        "id": "75f1d282"
      },
      "source": [
        "test_size = 5000"
      ],
      "id": "75f1d282",
      "execution_count": 53,
      "outputs": []
    },
    {
      "cell_type": "code",
      "metadata": {
        "id": "5e9901ab"
      },
      "source": [
        "test_x = []\n",
        "\n",
        "for i in range(test_size):\n",
        "    img_dir = 'handwriting-recognition/test_v2/test/'+test.loc[i, 'FILENAME']\n",
        "    image = cv2.imread(img_dir, cv2.IMREAD_GRAYSCALE)\n",
        "    image = preprocess(image)\n",
        "    image = image/255.\n",
        "    test_x.append(image)"
      ],
      "id": "5e9901ab",
      "execution_count": 54,
      "outputs": []
    },
    {
      "cell_type": "code",
      "metadata": {
        "id": "73dafa4c"
      },
      "source": [
        "test_x = np.array(test_x).reshape(-1, 256, 64, 1)"
      ],
      "id": "73dafa4c",
      "execution_count": 55,
      "outputs": []
    },
    {
      "cell_type": "code",
      "metadata": {
        "id": "25zIeoQDDmdW"
      },
      "source": [
        "ty_true = train.loc[0:train_size, 'IDENTITY']"
      ],
      "id": "25zIeoQDDmdW",
      "execution_count": 56,
      "outputs": []
    },
    {
      "cell_type": "code",
      "metadata": {
        "colab": {
          "base_uri": "https://localhost:8080/"
        },
        "id": "YrzmY0oaEnKM",
        "outputId": "be6b13b4-ab3c-49e9-d5bc-4286b83ebc2d"
      },
      "source": [
        "print(ty_true)"
      ],
      "id": "YrzmY0oaEnKM",
      "execution_count": 57,
      "outputs": [
        {
          "output_type": "stream",
          "name": "stdout",
          "text": [
            "0        BALTHAZAR\n",
            "1            SIMON\n",
            "2            BENES\n",
            "3          LA LOVE\n",
            "4           DAPHNE\n",
            "           ...    \n",
            "19996     ANDREANE\n",
            "19997       BROQUA\n",
            "19998         LANN\n",
            "19999          LEA\n",
            "20000       MATHEO\n",
            "Name: IDENTITY, Length: 20001, dtype: object\n"
          ]
        }
      ]
    },
    {
      "cell_type": "code",
      "metadata": {
        "id": "5d3a4262",
        "colab": {
          "base_uri": "https://localhost:8080/",
          "height": 713
        },
        "outputId": "277eb82f-1042-470f-f582-90716f2de5cc"
      },
      "source": [
        "for i in range(8,16):\n",
        "    img_dir = 'handwriting-recognition/test_v2/test/'+test.loc[i, 'FILENAME']\n",
        "    image = cv2.imread(img_dir, cv2.IMREAD_GRAYSCALE)\n",
        "    plt.imshow(image, cmap='gray')\n",
        "    image = preprocess(image)\n",
        "    image = image/255\n",
        "    pred = hwr_model.predict(image.reshape(1, 256, 64, 1))\n",
        "    decoded = K.get_value(K.ctc_decode(pred, input_length=np.ones(pred.shape[0])*pred.shape[1], \n",
        "                                   greedy=True)[0][0])\n",
        "    print(number_to_label(decoded[0]))\n",
        "    plt.show() "
      ],
      "id": "5d3a4262",
      "execution_count": 59,
      "outputs": [
        {
          "output_type": "stream",
          "name": "stdout",
          "text": [
            "THIBAULT\n"
          ]
        },
        {
          "output_type": "display_data",
          "data": {
            "image/png": "[encoded data removed]",
            "text/plain": [
              "<Figure size 432x288 with 1 Axes>"
            ]
          },
          "metadata": {
            "needs_background": "light"
          }
        },
        {
          "output_type": "stream",
          "name": "stdout",
          "text": [
            "AZAS\n"
          ]
        },
        {
          "output_type": "display_data",
          "data": {
            "image/png": "[encoded data removed]",
            "text/plain": [
              "<Figure size 432x288 with 1 Axes>"
            ]
          },
          "metadata": {
            "needs_background": "light"
          }
        },
        {
          "output_type": "stream",
          "name": "stdout",
          "text": [
            "GORTCHAKORE\n"
          ]
        },
        {
          "output_type": "display_data",
          "data": {
            "image/png": "[encoded data removed]",
            "text/plain": [
              "<Figure size 432x288 with 1 Axes>"
            ]
          },
          "metadata": {
            "needs_background": "light"
          }
        },
        {
          "output_type": "stream",
          "name": "stdout",
          "text": [
            "MAHENTHIRAN\n"
          ]
        },
        {
          "output_type": "display_data",
          "data": {
            "image/png": "[encoded data removed]",
            "text/plain": [
              "<Figure size 432x288 with 1 Axes>"
            ]
          },
          "metadata": {
            "needs_background": "light"
          }
        },
        {
          "output_type": "stream",
          "name": "stdout",
          "text": [
            "FRANSOISSTIEPH\n"
          ]
        },
        {
          "output_type": "display_data",
          "data": {
            "image/png": "[encoded data removed]",
            "text/plain": [
              "<Figure size 432x288 with 1 Axes>"
            ]
          },
          "metadata": {
            "needs_background": "light"
          }
        },
        {
          "output_type": "stream",
          "name": "stdout",
          "text": [
            "JEANNE\n"
          ]
        },
        {
          "output_type": "display_data",
          "data": {
            "image/png": "[encoded data removed]",
            "text/plain": [
              "<Figure size 432x288 with 1 Axes>"
            ]
          },
          "metadata": {
            "needs_background": "light"
          }
        },
        {
          "output_type": "stream",
          "name": "stdout",
          "text": [
            "DEBORAH\n"
          ]
        },
        {
          "output_type": "display_data",
          "data": {
            "image/png": "[encoded data removed]",
            "text/plain": [
              "<Figure size 432x288 with 1 Axes>"
            ]
          },
          "metadata": {
            "needs_background": "light"
          }
        },
        {
          "output_type": "stream",
          "name": "stdout",
          "text": [
            "DROUES\n"
          ]
        },
        {
          "output_type": "display_data",
          "data": {
            "image/png": "[encoded data removed]",
            "text/plain": [
              "<Figure size 432x288 with 1 Axes>"
            ]
          },
          "metadata": {
            "needs_background": "light"
          }
        }
      ]
    },
    {
      "cell_type": "markdown",
      "metadata": {
        "id": "abda8ba8"
      },
      "source": [
        "# Test model on random input images from testing dataset."
      ],
      "id": "abda8ba8"
    },
    {
      "cell_type": "code",
      "metadata": {
        "id": "3d58a6f8",
        "scrolled": true,
        "colab": {
          "base_uri": "https://localhost:8080/",
          "height": 87
        },
        "outputId": "ae862a5c-8f05-4d02-83b1-222038a23dcb"
      },
      "source": [
        "plt.figure(figsize=(5, 5))\n",
        "\n",
        "img_dir = \"handwriting-recognition/test_v2/test/TEST_0450.jpg\"\n",
        "image = cv2.imread(img_dir, cv2.IMREAD_GRAYSCALE)\n",
        "plt.imshow(image, cmap='gray')\n",
        "\n",
        "image = preprocess(image)\n",
        "image = image/255\n",
        "pred = hwr_model.predict(image.reshape(1, 256, 64, 1))\n",
        "decoded = K.get_value(K.ctc_decode(pred, input_length=np.ones(pred.shape[0])*pred.shape[1], \n",
        "                                   greedy=True)[0][0])\n",
        "print(number_to_label(decoded[0]))"
      ],
      "id": "3d58a6f8",
      "execution_count": 60,
      "outputs": [
        {
          "output_type": "stream",
          "name": "stdout",
          "text": [
            "CHRISTOPHE\n"
          ]
        },
        {
          "output_type": "display_data",
          "data": {
            "image/png": "[encoded data removed]",
            "text/plain": [
              "<Figure size 360x360 with 1 Axes>"
            ]
          },
          "metadata": {
            "needs_background": "light"
          }
        }
      ]
    },
    {
      "cell_type": "code",
      "metadata": {
        "id": "cfbe97b2",
        "colab": {
          "base_uri": "https://localhost:8080/",
          "height": 131
        },
        "outputId": "94e39eb5-f1ca-430e-cd6a-d41e5e60ece2"
      },
      "source": [
        "plt.figure(figsize=(5, 5))\n",
        "\n",
        "img_dir = \"handwriting-recognition/test_v2/test/TEST_5000.jpg\"\n",
        "image = cv2.imread(img_dir, cv2.IMREAD_GRAYSCALE)\n",
        "plt.imshow(image, cmap='gray')\n",
        "\n",
        "image = preprocess(image)\n",
        "image = image/255\n",
        "pred = hwr_model.predict(image.reshape(1, 256, 64, 1))\n",
        "decoded = K.get_value(K.ctc_decode(pred, input_length=np.ones(pred.shape[0])*pred.shape[1], \n",
        "                                   greedy=True)[0][0])\n",
        "print(number_to_label(decoded[0]))"
      ],
      "id": "cfbe97b2",
      "execution_count": 62,
      "outputs": [
        {
          "output_type": "stream",
          "name": "stdout",
          "text": [
            "ADAM\n"
          ]
        },
        {
          "output_type": "display_data",
          "data": {
            "image/png": "[encoded data removed]",
            "text/plain": [
              "<Figure size 360x360 with 1 Axes>"
            ]
          },
          "metadata": {
            "needs_background": "light"
          }
        }
      ]
    },
    {
      "cell_type": "code",
      "metadata": {
        "id": "310628f8",
        "colab": {
          "base_uri": "https://localhost:8080/",
          "height": 99
        },
        "outputId": "4470a8eb-a8b2-4f6f-9ce3-028f5ccfaa4d"
      },
      "source": [
        "plt.figure(figsize=(5, 5))\n",
        "\n",
        "img_dir = \"handwriting-recognition/test_v2/test/TEST_9520.jpg\"\n",
        "image = cv2.imread(img_dir, cv2.IMREAD_GRAYSCALE)\n",
        "plt.imshow(image, cmap='gray')\n",
        "\n",
        "image = preprocess(image)\n",
        "image = image/255\n",
        "pred = hwr_model.predict(image.reshape(1, 256, 64, 1))\n",
        "decoded = K.get_value(K.ctc_decode(pred, input_length=np.ones(pred.shape[0])*pred.shape[1], \n",
        "                                   greedy=True)[0][0])\n",
        "print(number_to_label(decoded[0]))"
      ],
      "id": "310628f8",
      "execution_count": 63,
      "outputs": [
        {
          "output_type": "stream",
          "name": "stdout",
          "text": [
            "LOUISON\n"
          ]
        },
        {
          "output_type": "display_data",
          "data": {
            "image/png": "[encoded data removed]",
            "text/plain": [
              "<Figure size 360x360 with 1 Axes>"
            ]
          },
          "metadata": {
            "needs_background": "light"
          }
        }
      ]
    },
    {
      "cell_type": "markdown",
      "metadata": {
        "id": "i2tVEi0qGYQ_"
      },
      "source": [
        "# Accuracy using jaro and ratio."
      ],
      "id": "i2tVEi0qGYQ_"
    },
    {
      "cell_type": "code",
      "metadata": {
        "colab": {
          "base_uri": "https://localhost:8080/"
        },
        "id": "bpb50cMc5uOr",
        "outputId": "069877ab-cb86-470e-fe9d-23f5d75cf72d"
      },
      "source": [
        "hwr_model.load_weights(filepath)\n",
        "\n",
        "# predict outputs on validation images\n",
        "prediction = hwr_model.predict(valid_x)\n",
        " \n",
        "# use CTC decoder\n",
        "decoded = K.ctc_decode(prediction, \n",
        "                       input_length=np.ones(prediction.shape[0]) * prediction.shape[1],\n",
        "                       greedy=True)[0][0]\n",
        "out = K.get_value(decoded)\n",
        "\n",
        "import Levenshtein as lv\n",
        "\n",
        "total_jaro = 0\n",
        "total_rati = 0\n",
        "# see the results\n",
        "for i, x in enumerate(out):\n",
        "    letters=''\n",
        "    for p in x:\n",
        "        if int(p) != -1:\n",
        "            letters+=alphabets_list[int(p)]\n",
        "    total_jaro+=lv.jaro(letters, y_true[i])\n",
        "    total_rati+=lv.ratio(letters, y_true[i])\n",
        "out = len(out)\n",
        "\n",
        "print('jaro : ', (total_jaro/out))\n",
        "print('ratio:', total_rati/out)"
      ],
      "id": "bpb50cMc5uOr",
      "execution_count": 66,
      "outputs": [
        {
          "output_type": "stream",
          "name": "stdout",
          "text": [
            "jaro :  0.9650796082367155\n",
            "ratio: 0.952422902429159\n"
          ]
        }
      ]
    },
    {
      "cell_type": "code",
      "metadata": {
        "colab": {
          "base_uri": "https://localhost:8080/"
        },
        "id": "LGFRtPyfDRso",
        "outputId": "9a67ce9c-3cc4-4563-a56b-6d743d13f45c"
      },
      "source": [
        "# predict outputs on validation images\n",
        "prediction = hwr_model.predict(train_x[150:170])\n",
        " \n",
        "# use CTC decoder\n",
        "decoded = K.ctc_decode(prediction,   \n",
        "                       input_length=np.ones(prediction.shape[0]) * prediction.shape[1],\n",
        "                       greedy=True)[0][0]\n",
        "\n",
        "out = K.get_value(decoded)\n",
        "i = 0\n",
        "# see the results\n",
        "for i, x in enumerate(out):\n",
        "    print(\"original_text =  \", ty_true[150+i])\n",
        "    print(\"predicted text = \", end = '')\n",
        "    for p in x:\n",
        "        if int(p) != -1:\n",
        "            print(alphabets_list[int(p)], end = '')\n",
        "    print('\\n')"
      ],
      "id": "LGFRtPyfDRso",
      "execution_count": 67,
      "outputs": [
        {
          "output_type": "stream",
          "name": "stdout",
          "text": [
            "original_text =   ANDRE\n",
            "predicted text = ANDRE\n",
            "\n",
            "original_text =   LILI\n",
            "predicted text = LILI\n",
            "\n",
            "original_text =   RICK\n",
            "predicted text = RICK\n",
            "\n",
            "original_text =   ORLANNE\n",
            "predicted text = ORLANNE\n",
            "\n",
            "original_text =   EWEN\n",
            "predicted text = EWEN\n",
            "\n",
            "original_text =   BOGLARKA\n",
            "predicted text = BOOLARKA\n",
            "\n",
            "original_text =   GUST\n",
            "predicted text = GUST\n",
            "\n",
            "original_text =   LIUUT\n",
            "predicted text = EIUUT\n",
            "\n",
            "original_text =   DJAVID\n",
            "predicted text = DJAVID\n",
            "\n",
            "original_text =   MARGAUX\n",
            "predicted text = MARGAUX\n",
            "\n",
            "original_text =   DHULU\n",
            "predicted text = DHULU\n",
            "\n",
            "original_text =   CADWAL\n",
            "predicted text = CADWAL\n",
            "\n",
            "original_text =   WATTIEZ\n",
            "predicted text = WATTIEZ\n",
            "\n",
            "original_text =   CORDON\n",
            "predicted text = CORDON\n",
            "\n",
            "original_text =   QUENTIN\n",
            "predicted text = QUENTIN\n",
            "\n",
            "original_text =   RAYAN\n",
            "predicted text = RAYAN\n",
            "\n",
            "original_text =   THOMAS\n",
            "predicted text = THOMAS\n",
            "\n",
            "original_text =   CUCHERIL\n",
            "predicted text = CUCHERIL\n",
            "\n",
            "original_text =   LOUIS\n",
            "predicted text = LOUIS\n",
            "\n",
            "original_text =   ELINE\n",
            "predicted text = ELINE\n",
            "\n"
          ]
        }
      ]
    },
    {
      "cell_type": "code",
      "metadata": {
        "id": "pEMMjy7t7EI2"
      },
      "source": [
        "def plotgraph(epochs, acc, val_acc):\n",
        "    # Plot training & validation accuracy values\n",
        "    plt.plot(epochs, acc, 'b')\n",
        "    plt.plot(epochs, val_acc, 'r')\n",
        "    plt.title('Model accuracy')\n",
        "    plt.ylabel('Accuracy')\n",
        "    plt.xlabel('Epoch')\n",
        "    plt.legend(['Train', 'Val'], loc='upper left')\n",
        "    plt.show()"
      ],
      "id": "pEMMjy7t7EI2",
      "execution_count": 68,
      "outputs": []
    },
    {
      "cell_type": "code",
      "metadata": {
        "id": "3HgmWl-h70A6"
      },
      "source": [
        "acc = history_model.history['accuracy']\n",
        "val_acc = history_model.history['val_accuracy']\n",
        "loss = history_model.history['loss']\n",
        "val_loss = history_model.history['val_loss']\n",
        "epochs = range(1,len(loss)+1)"
      ],
      "id": "3HgmWl-h70A6",
      "execution_count": 69,
      "outputs": []
    },
    {
      "cell_type": "code",
      "metadata": {
        "colab": {
          "base_uri": "https://localhost:8080/",
          "height": 295
        },
        "id": "xEuC0Cez75D_",
        "outputId": "1bb23642-fa71-4747-cb5a-ee450e5dbb68"
      },
      "source": [
        "plotgraph(epochs, loss, val_loss)"
      ],
      "id": "xEuC0Cez75D_",
      "execution_count": 70,
      "outputs": [
        {
          "output_type": "display_data",
          "data": {
            "image/png": "[encoded data removed]",
            "text/plain": [
              "<Figure size 432x288 with 1 Axes>"
            ]
          },
          "metadata": {
            "needs_background": "light"
          }
        }
      ]
    },
    {
      "cell_type": "code",
      "metadata": {
        "colab": {
          "base_uri": "https://localhost:8080/",
          "height": 295
        },
        "id": "_1qiWqnd7-yF",
        "outputId": "c3469b76-294c-4d8f-e6ad-ff0fba80287c"
      },
      "source": [
        "plotgraph(epochs, acc, val_acc)"
      ],
      "id": "_1qiWqnd7-yF",
      "execution_count": 71,
      "outputs": [
        {
          "output_type": "display_data",
          "data": {
            "image/png": "[encoded data removed]",
            "text/plain": [
              "<Figure size 432x288 with 1 Axes>"
            ]
          },
          "metadata": {
            "needs_background": "light"
          }
        }
      ]
    },
    {
      "cell_type": "code",
      "metadata": {
        "id": "U8IAihi08C0c"
      },
      "source": [
        "# get best model index\n",
        "minimum_val_loss = np.min(history_model.history['val_loss'])\n",
        "best_model_index = np.where(history_model.history['val_loss'] == minimum_val_loss)[0][0]\n",
        "\n",
        "best_loss = str(history_model.history['loss'][best_model_index])\n",
        "best_acc = str(history_model.history['accuracy'][best_model_index])\n",
        "best_val_loss = str(history_model.history['val_loss'][best_model_index])\n",
        "best_val_acc = str(history_model.history['val_accuracy'][best_model_index])"
      ],
      "id": "U8IAihi08C0c",
      "execution_count": 72,
      "outputs": []
    },
    {
      "cell_type": "code",
      "metadata": {
        "id": "IqpbtJ098HOQ"
      },
      "source": [
        "with open('history.txt', 'a') as f:\n",
        "    new_data = '{},{},{},{},{},{},{},{}\\n'.format(filepath, \n",
        "                                                      optimizer_name, \n",
        "                                                      str(train_x.shape[0]),\n",
        "                                                      str(valid_x.shape[0]), \n",
        "                                                      best_loss, \n",
        "                                                      best_acc, \n",
        "                                                      best_val_loss, \n",
        "                                                      best_val_acc)\n",
        "    f.write(new_data)"
      ],
      "id": "IqpbtJ098HOQ",
      "execution_count": 73,
      "outputs": []
    }
  ]
}